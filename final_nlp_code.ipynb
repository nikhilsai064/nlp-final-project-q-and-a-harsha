{
  "metadata": {
    "kernelspec": {
      "language": "python",
      "display_name": "Python 3",
      "name": "python3"
    },
    "language_info": {
      "name": "python",
      "version": "3.7.10",
      "mimetype": "text/x-python",
      "codemirror_mode": {
        "name": "ipython",
        "version": 3
      },
      "pygments_lexer": "ipython3",
      "nbconvert_exporter": "python",
      "file_extension": ".py"
    },
    "colab": {
      "provenance": [],
      "machine_shape": "hm",
      "gpuType": "T4"
    },
    "accelerator": "GPU",
    "gpuClass": "premium",
    "widgets": {
      "application/vnd.jupyter.widget-state+json": {
        "8f1895dc517e4131bbba5d1539d5a6b1": {
          "model_module": "@jupyter-widgets/controls",
          "model_name": "HBoxModel",
          "model_module_version": "1.5.0",
          "state": {
            "_dom_classes": [],
            "_model_module": "@jupyter-widgets/controls",
            "_model_module_version": "1.5.0",
            "_model_name": "HBoxModel",
            "_view_count": null,
            "_view_module": "@jupyter-widgets/controls",
            "_view_module_version": "1.5.0",
            "_view_name": "HBoxView",
            "box_style": "",
            "children": [
              "IPY_MODEL_71caa3eaab944726bd5752558a590c78",
              "IPY_MODEL_fbcef8f1d13447ddb0a6b2f498c8209e",
              "IPY_MODEL_fe70afff57f9420a9e31c5914bcb2985"
            ],
            "layout": "IPY_MODEL_508f5c3d1fd245f3903872c2032c45de"
          }
        },
        "71caa3eaab944726bd5752558a590c78": {
          "model_module": "@jupyter-widgets/controls",
          "model_name": "HTMLModel",
          "model_module_version": "1.5.0",
          "state": {
            "_dom_classes": [],
            "_model_module": "@jupyter-widgets/controls",
            "_model_module_version": "1.5.0",
            "_model_name": "HTMLModel",
            "_view_count": null,
            "_view_module": "@jupyter-widgets/controls",
            "_view_module_version": "1.5.0",
            "_view_name": "HTMLView",
            "description": "",
            "description_tooltip": null,
            "layout": "IPY_MODEL_cf68b5605852492da93d22aef33e8cc3",
            "placeholder": "​",
            "style": "IPY_MODEL_b70fe17f60ed49658a4890a36ab53c02",
            "value": "Downloading (…)lve/main/config.json: 100%"
          }
        },
        "fbcef8f1d13447ddb0a6b2f498c8209e": {
          "model_module": "@jupyter-widgets/controls",
          "model_name": "FloatProgressModel",
          "model_module_version": "1.5.0",
          "state": {
            "_dom_classes": [],
            "_model_module": "@jupyter-widgets/controls",
            "_model_module_version": "1.5.0",
            "_model_name": "FloatProgressModel",
            "_view_count": null,
            "_view_module": "@jupyter-widgets/controls",
            "_view_module_version": "1.5.0",
            "_view_name": "ProgressView",
            "bar_style": "success",
            "description": "",
            "description_tooltip": null,
            "layout": "IPY_MODEL_29e67c19a56e4b55b824db81b5aa6a23",
            "max": 605,
            "min": 0,
            "orientation": "horizontal",
            "style": "IPY_MODEL_9b1e5294aaf74488b5ceb77c17ebf4a2",
            "value": 605
          }
        },
        "fe70afff57f9420a9e31c5914bcb2985": {
          "model_module": "@jupyter-widgets/controls",
          "model_name": "HTMLModel",
          "model_module_version": "1.5.0",
          "state": {
            "_dom_classes": [],
            "_model_module": "@jupyter-widgets/controls",
            "_model_module_version": "1.5.0",
            "_model_name": "HTMLModel",
            "_view_count": null,
            "_view_module": "@jupyter-widgets/controls",
            "_view_module_version": "1.5.0",
            "_view_name": "HTMLView",
            "description": "",
            "description_tooltip": null,
            "layout": "IPY_MODEL_e304bcb6eab44a67942dcdfcf8c22b59",
            "placeholder": "​",
            "style": "IPY_MODEL_d82444ffeb0d470683ea0f00b4d586d7",
            "value": " 605/605 [00:00&lt;00:00, 50.2kB/s]"
          }
        },
        "508f5c3d1fd245f3903872c2032c45de": {
          "model_module": "@jupyter-widgets/base",
          "model_name": "LayoutModel",
          "model_module_version": "1.2.0",
          "state": {
            "_model_module": "@jupyter-widgets/base",
            "_model_module_version": "1.2.0",
            "_model_name": "LayoutModel",
            "_view_count": null,
            "_view_module": "@jupyter-widgets/base",
            "_view_module_version": "1.2.0",
            "_view_name": "LayoutView",
            "align_content": null,
            "align_items": null,
            "align_self": null,
            "border": null,
            "bottom": null,
            "display": null,
            "flex": null,
            "flex_flow": null,
            "grid_area": null,
            "grid_auto_columns": null,
            "grid_auto_flow": null,
            "grid_auto_rows": null,
            "grid_column": null,
            "grid_gap": null,
            "grid_row": null,
            "grid_template_areas": null,
            "grid_template_columns": null,
            "grid_template_rows": null,
            "height": null,
            "justify_content": null,
            "justify_items": null,
            "left": null,
            "margin": null,
            "max_height": null,
            "max_width": null,
            "min_height": null,
            "min_width": null,
            "object_fit": null,
            "object_position": null,
            "order": null,
            "overflow": null,
            "overflow_x": null,
            "overflow_y": null,
            "padding": null,
            "right": null,
            "top": null,
            "visibility": null,
            "width": null
          }
        },
        "cf68b5605852492da93d22aef33e8cc3": {
          "model_module": "@jupyter-widgets/base",
          "model_name": "LayoutModel",
          "model_module_version": "1.2.0",
          "state": {
            "_model_module": "@jupyter-widgets/base",
            "_model_module_version": "1.2.0",
            "_model_name": "LayoutModel",
            "_view_count": null,
            "_view_module": "@jupyter-widgets/base",
            "_view_module_version": "1.2.0",
            "_view_name": "LayoutView",
            "align_content": null,
            "align_items": null,
            "align_self": null,
            "border": null,
            "bottom": null,
            "display": null,
            "flex": null,
            "flex_flow": null,
            "grid_area": null,
            "grid_auto_columns": null,
            "grid_auto_flow": null,
            "grid_auto_rows": null,
            "grid_column": null,
            "grid_gap": null,
            "grid_row": null,
            "grid_template_areas": null,
            "grid_template_columns": null,
            "grid_template_rows": null,
            "height": null,
            "justify_content": null,
            "justify_items": null,
            "left": null,
            "margin": null,
            "max_height": null,
            "max_width": null,
            "min_height": null,
            "min_width": null,
            "object_fit": null,
            "object_position": null,
            "order": null,
            "overflow": null,
            "overflow_x": null,
            "overflow_y": null,
            "padding": null,
            "right": null,
            "top": null,
            "visibility": null,
            "width": null
          }
        },
        "b70fe17f60ed49658a4890a36ab53c02": {
          "model_module": "@jupyter-widgets/controls",
          "model_name": "DescriptionStyleModel",
          "model_module_version": "1.5.0",
          "state": {
            "_model_module": "@jupyter-widgets/controls",
            "_model_module_version": "1.5.0",
            "_model_name": "DescriptionStyleModel",
            "_view_count": null,
            "_view_module": "@jupyter-widgets/base",
            "_view_module_version": "1.2.0",
            "_view_name": "StyleView",
            "description_width": ""
          }
        },
        "29e67c19a56e4b55b824db81b5aa6a23": {
          "model_module": "@jupyter-widgets/base",
          "model_name": "LayoutModel",
          "model_module_version": "1.2.0",
          "state": {
            "_model_module": "@jupyter-widgets/base",
            "_model_module_version": "1.2.0",
            "_model_name": "LayoutModel",
            "_view_count": null,
            "_view_module": "@jupyter-widgets/base",
            "_view_module_version": "1.2.0",
            "_view_name": "LayoutView",
            "align_content": null,
            "align_items": null,
            "align_self": null,
            "border": null,
            "bottom": null,
            "display": null,
            "flex": null,
            "flex_flow": null,
            "grid_area": null,
            "grid_auto_columns": null,
            "grid_auto_flow": null,
            "grid_auto_rows": null,
            "grid_column": null,
            "grid_gap": null,
            "grid_row": null,
            "grid_template_areas": null,
            "grid_template_columns": null,
            "grid_template_rows": null,
            "height": null,
            "justify_content": null,
            "justify_items": null,
            "left": null,
            "margin": null,
            "max_height": null,
            "max_width": null,
            "min_height": null,
            "min_width": null,
            "object_fit": null,
            "object_position": null,
            "order": null,
            "overflow": null,
            "overflow_x": null,
            "overflow_y": null,
            "padding": null,
            "right": null,
            "top": null,
            "visibility": null,
            "width": null
          }
        },
        "9b1e5294aaf74488b5ceb77c17ebf4a2": {
          "model_module": "@jupyter-widgets/controls",
          "model_name": "ProgressStyleModel",
          "model_module_version": "1.5.0",
          "state": {
            "_model_module": "@jupyter-widgets/controls",
            "_model_module_version": "1.5.0",
            "_model_name": "ProgressStyleModel",
            "_view_count": null,
            "_view_module": "@jupyter-widgets/base",
            "_view_module_version": "1.2.0",
            "_view_name": "StyleView",
            "bar_color": null,
            "description_width": ""
          }
        },
        "e304bcb6eab44a67942dcdfcf8c22b59": {
          "model_module": "@jupyter-widgets/base",
          "model_name": "LayoutModel",
          "model_module_version": "1.2.0",
          "state": {
            "_model_module": "@jupyter-widgets/base",
            "_model_module_version": "1.2.0",
            "_model_name": "LayoutModel",
            "_view_count": null,
            "_view_module": "@jupyter-widgets/base",
            "_view_module_version": "1.2.0",
            "_view_name": "LayoutView",
            "align_content": null,
            "align_items": null,
            "align_self": null,
            "border": null,
            "bottom": null,
            "display": null,
            "flex": null,
            "flex_flow": null,
            "grid_area": null,
            "grid_auto_columns": null,
            "grid_auto_flow": null,
            "grid_auto_rows": null,
            "grid_column": null,
            "grid_gap": null,
            "grid_row": null,
            "grid_template_areas": null,
            "grid_template_columns": null,
            "grid_template_rows": null,
            "height": null,
            "justify_content": null,
            "justify_items": null,
            "left": null,
            "margin": null,
            "max_height": null,
            "max_width": null,
            "min_height": null,
            "min_width": null,
            "object_fit": null,
            "object_position": null,
            "order": null,
            "overflow": null,
            "overflow_x": null,
            "overflow_y": null,
            "padding": null,
            "right": null,
            "top": null,
            "visibility": null,
            "width": null
          }
        },
        "d82444ffeb0d470683ea0f00b4d586d7": {
          "model_module": "@jupyter-widgets/controls",
          "model_name": "DescriptionStyleModel",
          "model_module_version": "1.5.0",
          "state": {
            "_model_module": "@jupyter-widgets/controls",
            "_model_module_version": "1.5.0",
            "_model_name": "DescriptionStyleModel",
            "_view_count": null,
            "_view_module": "@jupyter-widgets/base",
            "_view_module_version": "1.2.0",
            "_view_name": "StyleView",
            "description_width": ""
          }
        },
        "2d416eb986784edcb644dccb78e97946": {
          "model_module": "@jupyter-widgets/controls",
          "model_name": "HBoxModel",
          "model_module_version": "1.5.0",
          "state": {
            "_dom_classes": [],
            "_model_module": "@jupyter-widgets/controls",
            "_model_module_version": "1.5.0",
            "_model_name": "HBoxModel",
            "_view_count": null,
            "_view_module": "@jupyter-widgets/controls",
            "_view_module_version": "1.5.0",
            "_view_name": "HBoxView",
            "box_style": "",
            "children": [
              "IPY_MODEL_91deaa35e00b4fb1a354055dd829b582",
              "IPY_MODEL_8478aafe966248069c2ccacab8ef48dc",
              "IPY_MODEL_36ccfeb300b54605b8e57885174aa857"
            ],
            "layout": "IPY_MODEL_1bb93c18ff7f4125a012e02dc7d6c4c8"
          }
        },
        "91deaa35e00b4fb1a354055dd829b582": {
          "model_module": "@jupyter-widgets/controls",
          "model_name": "HTMLModel",
          "model_module_version": "1.5.0",
          "state": {
            "_dom_classes": [],
            "_model_module": "@jupyter-widgets/controls",
            "_model_module_version": "1.5.0",
            "_model_name": "HTMLModel",
            "_view_count": null,
            "_view_module": "@jupyter-widgets/controls",
            "_view_module_version": "1.5.0",
            "_view_name": "HTMLView",
            "description": "",
            "description_tooltip": null,
            "layout": "IPY_MODEL_52b397ad00fa4197968c50451a017671",
            "placeholder": "​",
            "style": "IPY_MODEL_2be4b5fca62943c79d60821ad82c0718",
            "value": "Downloading pytorch_model.bin: 100%"
          }
        },
        "8478aafe966248069c2ccacab8ef48dc": {
          "model_module": "@jupyter-widgets/controls",
          "model_name": "FloatProgressModel",
          "model_module_version": "1.5.0",
          "state": {
            "_dom_classes": [],
            "_model_module": "@jupyter-widgets/controls",
            "_model_module_version": "1.5.0",
            "_model_name": "FloatProgressModel",
            "_view_count": null,
            "_view_module": "@jupyter-widgets/controls",
            "_view_module_version": "1.5.0",
            "_view_name": "ProgressView",
            "bar_style": "success",
            "description": "",
            "description_tooltip": null,
            "layout": "IPY_MODEL_16c5ed48d1834acb86fb5776ac30eed9",
            "max": 1109905791,
            "min": 0,
            "orientation": "horizontal",
            "style": "IPY_MODEL_d2119ad877694e12872bbcc4344dd565",
            "value": 1109905791
          }
        },
        "36ccfeb300b54605b8e57885174aa857": {
          "model_module": "@jupyter-widgets/controls",
          "model_name": "HTMLModel",
          "model_module_version": "1.5.0",
          "state": {
            "_dom_classes": [],
            "_model_module": "@jupyter-widgets/controls",
            "_model_module_version": "1.5.0",
            "_model_name": "HTMLModel",
            "_view_count": null,
            "_view_module": "@jupyter-widgets/controls",
            "_view_module_version": "1.5.0",
            "_view_name": "HTMLView",
            "description": "",
            "description_tooltip": null,
            "layout": "IPY_MODEL_f5e2f590b50b403e9f93d6184b7fa30d",
            "placeholder": "​",
            "style": "IPY_MODEL_c9a2803346de40feb1bb1f23bc239023",
            "value": " 1.11G/1.11G [00:49&lt;00:00, 23.2MB/s]"
          }
        },
        "1bb93c18ff7f4125a012e02dc7d6c4c8": {
          "model_module": "@jupyter-widgets/base",
          "model_name": "LayoutModel",
          "model_module_version": "1.2.0",
          "state": {
            "_model_module": "@jupyter-widgets/base",
            "_model_module_version": "1.2.0",
            "_model_name": "LayoutModel",
            "_view_count": null,
            "_view_module": "@jupyter-widgets/base",
            "_view_module_version": "1.2.0",
            "_view_name": "LayoutView",
            "align_content": null,
            "align_items": null,
            "align_self": null,
            "border": null,
            "bottom": null,
            "display": null,
            "flex": null,
            "flex_flow": null,
            "grid_area": null,
            "grid_auto_columns": null,
            "grid_auto_flow": null,
            "grid_auto_rows": null,
            "grid_column": null,
            "grid_gap": null,
            "grid_row": null,
            "grid_template_areas": null,
            "grid_template_columns": null,
            "grid_template_rows": null,
            "height": null,
            "justify_content": null,
            "justify_items": null,
            "left": null,
            "margin": null,
            "max_height": null,
            "max_width": null,
            "min_height": null,
            "min_width": null,
            "object_fit": null,
            "object_position": null,
            "order": null,
            "overflow": null,
            "overflow_x": null,
            "overflow_y": null,
            "padding": null,
            "right": null,
            "top": null,
            "visibility": null,
            "width": null
          }
        },
        "52b397ad00fa4197968c50451a017671": {
          "model_module": "@jupyter-widgets/base",
          "model_name": "LayoutModel",
          "model_module_version": "1.2.0",
          "state": {
            "_model_module": "@jupyter-widgets/base",
            "_model_module_version": "1.2.0",
            "_model_name": "LayoutModel",
            "_view_count": null,
            "_view_module": "@jupyter-widgets/base",
            "_view_module_version": "1.2.0",
            "_view_name": "LayoutView",
            "align_content": null,
            "align_items": null,
            "align_self": null,
            "border": null,
            "bottom": null,
            "display": null,
            "flex": null,
            "flex_flow": null,
            "grid_area": null,
            "grid_auto_columns": null,
            "grid_auto_flow": null,
            "grid_auto_rows": null,
            "grid_column": null,
            "grid_gap": null,
            "grid_row": null,
            "grid_template_areas": null,
            "grid_template_columns": null,
            "grid_template_rows": null,
            "height": null,
            "justify_content": null,
            "justify_items": null,
            "left": null,
            "margin": null,
            "max_height": null,
            "max_width": null,
            "min_height": null,
            "min_width": null,
            "object_fit": null,
            "object_position": null,
            "order": null,
            "overflow": null,
            "overflow_x": null,
            "overflow_y": null,
            "padding": null,
            "right": null,
            "top": null,
            "visibility": null,
            "width": null
          }
        },
        "2be4b5fca62943c79d60821ad82c0718": {
          "model_module": "@jupyter-widgets/controls",
          "model_name": "DescriptionStyleModel",
          "model_module_version": "1.5.0",
          "state": {
            "_model_module": "@jupyter-widgets/controls",
            "_model_module_version": "1.5.0",
            "_model_name": "DescriptionStyleModel",
            "_view_count": null,
            "_view_module": "@jupyter-widgets/base",
            "_view_module_version": "1.2.0",
            "_view_name": "StyleView",
            "description_width": ""
          }
        },
        "16c5ed48d1834acb86fb5776ac30eed9": {
          "model_module": "@jupyter-widgets/base",
          "model_name": "LayoutModel",
          "model_module_version": "1.2.0",
          "state": {
            "_model_module": "@jupyter-widgets/base",
            "_model_module_version": "1.2.0",
            "_model_name": "LayoutModel",
            "_view_count": null,
            "_view_module": "@jupyter-widgets/base",
            "_view_module_version": "1.2.0",
            "_view_name": "LayoutView",
            "align_content": null,
            "align_items": null,
            "align_self": null,
            "border": null,
            "bottom": null,
            "display": null,
            "flex": null,
            "flex_flow": null,
            "grid_area": null,
            "grid_auto_columns": null,
            "grid_auto_flow": null,
            "grid_auto_rows": null,
            "grid_column": null,
            "grid_gap": null,
            "grid_row": null,
            "grid_template_areas": null,
            "grid_template_columns": null,
            "grid_template_rows": null,
            "height": null,
            "justify_content": null,
            "justify_items": null,
            "left": null,
            "margin": null,
            "max_height": null,
            "max_width": null,
            "min_height": null,
            "min_width": null,
            "object_fit": null,
            "object_position": null,
            "order": null,
            "overflow": null,
            "overflow_x": null,
            "overflow_y": null,
            "padding": null,
            "right": null,
            "top": null,
            "visibility": null,
            "width": null
          }
        },
        "d2119ad877694e12872bbcc4344dd565": {
          "model_module": "@jupyter-widgets/controls",
          "model_name": "ProgressStyleModel",
          "model_module_version": "1.5.0",
          "state": {
            "_model_module": "@jupyter-widgets/controls",
            "_model_module_version": "1.5.0",
            "_model_name": "ProgressStyleModel",
            "_view_count": null,
            "_view_module": "@jupyter-widgets/base",
            "_view_module_version": "1.2.0",
            "_view_name": "StyleView",
            "bar_color": null,
            "description_width": ""
          }
        },
        "f5e2f590b50b403e9f93d6184b7fa30d": {
          "model_module": "@jupyter-widgets/base",
          "model_name": "LayoutModel",
          "model_module_version": "1.2.0",
          "state": {
            "_model_module": "@jupyter-widgets/base",
            "_model_module_version": "1.2.0",
            "_model_name": "LayoutModel",
            "_view_count": null,
            "_view_module": "@jupyter-widgets/base",
            "_view_module_version": "1.2.0",
            "_view_name": "LayoutView",
            "align_content": null,
            "align_items": null,
            "align_self": null,
            "border": null,
            "bottom": null,
            "display": null,
            "flex": null,
            "flex_flow": null,
            "grid_area": null,
            "grid_auto_columns": null,
            "grid_auto_flow": null,
            "grid_auto_rows": null,
            "grid_column": null,
            "grid_gap": null,
            "grid_row": null,
            "grid_template_areas": null,
            "grid_template_columns": null,
            "grid_template_rows": null,
            "height": null,
            "justify_content": null,
            "justify_items": null,
            "left": null,
            "margin": null,
            "max_height": null,
            "max_width": null,
            "min_height": null,
            "min_width": null,
            "object_fit": null,
            "object_position": null,
            "order": null,
            "overflow": null,
            "overflow_x": null,
            "overflow_y": null,
            "padding": null,
            "right": null,
            "top": null,
            "visibility": null,
            "width": null
          }
        },
        "c9a2803346de40feb1bb1f23bc239023": {
          "model_module": "@jupyter-widgets/controls",
          "model_name": "DescriptionStyleModel",
          "model_module_version": "1.5.0",
          "state": {
            "_model_module": "@jupyter-widgets/controls",
            "_model_module_version": "1.5.0",
            "_model_name": "DescriptionStyleModel",
            "_view_count": null,
            "_view_module": "@jupyter-widgets/base",
            "_view_module_version": "1.2.0",
            "_view_name": "StyleView",
            "description_width": ""
          }
        },
        "626e6b863d844487940fc8eec9593c6f": {
          "model_module": "@jupyter-widgets/controls",
          "model_name": "HBoxModel",
          "model_module_version": "1.5.0",
          "state": {
            "_dom_classes": [],
            "_model_module": "@jupyter-widgets/controls",
            "_model_module_version": "1.5.0",
            "_model_name": "HBoxModel",
            "_view_count": null,
            "_view_module": "@jupyter-widgets/controls",
            "_view_module_version": "1.5.0",
            "_view_name": "HBoxView",
            "box_style": "",
            "children": [
              "IPY_MODEL_d95f764c3231414d827ff070c69b699c",
              "IPY_MODEL_a90d951386c6471b8f83d7a8406eb171",
              "IPY_MODEL_516ab7aef5b44debafafc325b011ae5e"
            ],
            "layout": "IPY_MODEL_6d869a610c9948ef92a5f5065b8885cb"
          }
        },
        "d95f764c3231414d827ff070c69b699c": {
          "model_module": "@jupyter-widgets/controls",
          "model_name": "HTMLModel",
          "model_module_version": "1.5.0",
          "state": {
            "_dom_classes": [],
            "_model_module": "@jupyter-widgets/controls",
            "_model_module_version": "1.5.0",
            "_model_name": "HTMLModel",
            "_view_count": null,
            "_view_module": "@jupyter-widgets/controls",
            "_view_module_version": "1.5.0",
            "_view_name": "HTMLView",
            "description": "",
            "description_tooltip": null,
            "layout": "IPY_MODEL_6a472d3ae865436a842a029e2a9db9c2",
            "placeholder": "​",
            "style": "IPY_MODEL_0af81007f2cc4812ac180fb3c3e812cd",
            "value": "Downloading (…)okenizer_config.json: 100%"
          }
        },
        "a90d951386c6471b8f83d7a8406eb171": {
          "model_module": "@jupyter-widgets/controls",
          "model_name": "FloatProgressModel",
          "model_module_version": "1.5.0",
          "state": {
            "_dom_classes": [],
            "_model_module": "@jupyter-widgets/controls",
            "_model_module_version": "1.5.0",
            "_model_name": "FloatProgressModel",
            "_view_count": null,
            "_view_module": "@jupyter-widgets/controls",
            "_view_module_version": "1.5.0",
            "_view_name": "ProgressView",
            "bar_style": "success",
            "description": "",
            "description_tooltip": null,
            "layout": "IPY_MODEL_49d2df1a7cee478aaec81a31506a19c6",
            "max": 79,
            "min": 0,
            "orientation": "horizontal",
            "style": "IPY_MODEL_a93456d8c38d41c0a0414ec52bc82d8d",
            "value": 79
          }
        },
        "516ab7aef5b44debafafc325b011ae5e": {
          "model_module": "@jupyter-widgets/controls",
          "model_name": "HTMLModel",
          "model_module_version": "1.5.0",
          "state": {
            "_dom_classes": [],
            "_model_module": "@jupyter-widgets/controls",
            "_model_module_version": "1.5.0",
            "_model_name": "HTMLModel",
            "_view_count": null,
            "_view_module": "@jupyter-widgets/controls",
            "_view_module_version": "1.5.0",
            "_view_name": "HTMLView",
            "description": "",
            "description_tooltip": null,
            "layout": "IPY_MODEL_900921bf6c8242529b87c72ac74d6480",
            "placeholder": "​",
            "style": "IPY_MODEL_a059c0b416bd401d9b12fa1fa35caead",
            "value": " 79.0/79.0 [00:00&lt;00:00, 5.13kB/s]"
          }
        },
        "6d869a610c9948ef92a5f5065b8885cb": {
          "model_module": "@jupyter-widgets/base",
          "model_name": "LayoutModel",
          "model_module_version": "1.2.0",
          "state": {
            "_model_module": "@jupyter-widgets/base",
            "_model_module_version": "1.2.0",
            "_model_name": "LayoutModel",
            "_view_count": null,
            "_view_module": "@jupyter-widgets/base",
            "_view_module_version": "1.2.0",
            "_view_name": "LayoutView",
            "align_content": null,
            "align_items": null,
            "align_self": null,
            "border": null,
            "bottom": null,
            "display": null,
            "flex": null,
            "flex_flow": null,
            "grid_area": null,
            "grid_auto_columns": null,
            "grid_auto_flow": null,
            "grid_auto_rows": null,
            "grid_column": null,
            "grid_gap": null,
            "grid_row": null,
            "grid_template_areas": null,
            "grid_template_columns": null,
            "grid_template_rows": null,
            "height": null,
            "justify_content": null,
            "justify_items": null,
            "left": null,
            "margin": null,
            "max_height": null,
            "max_width": null,
            "min_height": null,
            "min_width": null,
            "object_fit": null,
            "object_position": null,
            "order": null,
            "overflow": null,
            "overflow_x": null,
            "overflow_y": null,
            "padding": null,
            "right": null,
            "top": null,
            "visibility": null,
            "width": null
          }
        },
        "6a472d3ae865436a842a029e2a9db9c2": {
          "model_module": "@jupyter-widgets/base",
          "model_name": "LayoutModel",
          "model_module_version": "1.2.0",
          "state": {
            "_model_module": "@jupyter-widgets/base",
            "_model_module_version": "1.2.0",
            "_model_name": "LayoutModel",
            "_view_count": null,
            "_view_module": "@jupyter-widgets/base",
            "_view_module_version": "1.2.0",
            "_view_name": "LayoutView",
            "align_content": null,
            "align_items": null,
            "align_self": null,
            "border": null,
            "bottom": null,
            "display": null,
            "flex": null,
            "flex_flow": null,
            "grid_area": null,
            "grid_auto_columns": null,
            "grid_auto_flow": null,
            "grid_auto_rows": null,
            "grid_column": null,
            "grid_gap": null,
            "grid_row": null,
            "grid_template_areas": null,
            "grid_template_columns": null,
            "grid_template_rows": null,
            "height": null,
            "justify_content": null,
            "justify_items": null,
            "left": null,
            "margin": null,
            "max_height": null,
            "max_width": null,
            "min_height": null,
            "min_width": null,
            "object_fit": null,
            "object_position": null,
            "order": null,
            "overflow": null,
            "overflow_x": null,
            "overflow_y": null,
            "padding": null,
            "right": null,
            "top": null,
            "visibility": null,
            "width": null
          }
        },
        "0af81007f2cc4812ac180fb3c3e812cd": {
          "model_module": "@jupyter-widgets/controls",
          "model_name": "DescriptionStyleModel",
          "model_module_version": "1.5.0",
          "state": {
            "_model_module": "@jupyter-widgets/controls",
            "_model_module_version": "1.5.0",
            "_model_name": "DescriptionStyleModel",
            "_view_count": null,
            "_view_module": "@jupyter-widgets/base",
            "_view_module_version": "1.2.0",
            "_view_name": "StyleView",
            "description_width": ""
          }
        },
        "49d2df1a7cee478aaec81a31506a19c6": {
          "model_module": "@jupyter-widgets/base",
          "model_name": "LayoutModel",
          "model_module_version": "1.2.0",
          "state": {
            "_model_module": "@jupyter-widgets/base",
            "_model_module_version": "1.2.0",
            "_model_name": "LayoutModel",
            "_view_count": null,
            "_view_module": "@jupyter-widgets/base",
            "_view_module_version": "1.2.0",
            "_view_name": "LayoutView",
            "align_content": null,
            "align_items": null,
            "align_self": null,
            "border": null,
            "bottom": null,
            "display": null,
            "flex": null,
            "flex_flow": null,
            "grid_area": null,
            "grid_auto_columns": null,
            "grid_auto_flow": null,
            "grid_auto_rows": null,
            "grid_column": null,
            "grid_gap": null,
            "grid_row": null,
            "grid_template_areas": null,
            "grid_template_columns": null,
            "grid_template_rows": null,
            "height": null,
            "justify_content": null,
            "justify_items": null,
            "left": null,
            "margin": null,
            "max_height": null,
            "max_width": null,
            "min_height": null,
            "min_width": null,
            "object_fit": null,
            "object_position": null,
            "order": null,
            "overflow": null,
            "overflow_x": null,
            "overflow_y": null,
            "padding": null,
            "right": null,
            "top": null,
            "visibility": null,
            "width": null
          }
        },
        "a93456d8c38d41c0a0414ec52bc82d8d": {
          "model_module": "@jupyter-widgets/controls",
          "model_name": "ProgressStyleModel",
          "model_module_version": "1.5.0",
          "state": {
            "_model_module": "@jupyter-widgets/controls",
            "_model_module_version": "1.5.0",
            "_model_name": "ProgressStyleModel",
            "_view_count": null,
            "_view_module": "@jupyter-widgets/base",
            "_view_module_version": "1.2.0",
            "_view_name": "StyleView",
            "bar_color": null,
            "description_width": ""
          }
        },
        "900921bf6c8242529b87c72ac74d6480": {
          "model_module": "@jupyter-widgets/base",
          "model_name": "LayoutModel",
          "model_module_version": "1.2.0",
          "state": {
            "_model_module": "@jupyter-widgets/base",
            "_model_module_version": "1.2.0",
            "_model_name": "LayoutModel",
            "_view_count": null,
            "_view_module": "@jupyter-widgets/base",
            "_view_module_version": "1.2.0",
            "_view_name": "LayoutView",
            "align_content": null,
            "align_items": null,
            "align_self": null,
            "border": null,
            "bottom": null,
            "display": null,
            "flex": null,
            "flex_flow": null,
            "grid_area": null,
            "grid_auto_columns": null,
            "grid_auto_flow": null,
            "grid_auto_rows": null,
            "grid_column": null,
            "grid_gap": null,
            "grid_row": null,
            "grid_template_areas": null,
            "grid_template_columns": null,
            "grid_template_rows": null,
            "height": null,
            "justify_content": null,
            "justify_items": null,
            "left": null,
            "margin": null,
            "max_height": null,
            "max_width": null,
            "min_height": null,
            "min_width": null,
            "object_fit": null,
            "object_position": null,
            "order": null,
            "overflow": null,
            "overflow_x": null,
            "overflow_y": null,
            "padding": null,
            "right": null,
            "top": null,
            "visibility": null,
            "width": null
          }
        },
        "a059c0b416bd401d9b12fa1fa35caead": {
          "model_module": "@jupyter-widgets/controls",
          "model_name": "DescriptionStyleModel",
          "model_module_version": "1.5.0",
          "state": {
            "_model_module": "@jupyter-widgets/controls",
            "_model_module_version": "1.5.0",
            "_model_name": "DescriptionStyleModel",
            "_view_count": null,
            "_view_module": "@jupyter-widgets/base",
            "_view_module_version": "1.2.0",
            "_view_name": "StyleView",
            "description_width": ""
          }
        },
        "4f42087f719d473082837f1067eec00c": {
          "model_module": "@jupyter-widgets/controls",
          "model_name": "HBoxModel",
          "model_module_version": "1.5.0",
          "state": {
            "_dom_classes": [],
            "_model_module": "@jupyter-widgets/controls",
            "_model_module_version": "1.5.0",
            "_model_name": "HBoxModel",
            "_view_count": null,
            "_view_module": "@jupyter-widgets/controls",
            "_view_module_version": "1.5.0",
            "_view_name": "HBoxView",
            "box_style": "",
            "children": [
              "IPY_MODEL_c49775104d1d4cebaed76caf746a1e52",
              "IPY_MODEL_5f12d85c4ab747d7a9fb811b30ea5566",
              "IPY_MODEL_11b628a22b0c4a569754463e1c4cbc10"
            ],
            "layout": "IPY_MODEL_4832b95198af4ba1943aa2b534d57145"
          }
        },
        "c49775104d1d4cebaed76caf746a1e52": {
          "model_module": "@jupyter-widgets/controls",
          "model_name": "HTMLModel",
          "model_module_version": "1.5.0",
          "state": {
            "_dom_classes": [],
            "_model_module": "@jupyter-widgets/controls",
            "_model_module_version": "1.5.0",
            "_model_name": "HTMLModel",
            "_view_count": null,
            "_view_module": "@jupyter-widgets/controls",
            "_view_module_version": "1.5.0",
            "_view_name": "HTMLView",
            "description": "",
            "description_tooltip": null,
            "layout": "IPY_MODEL_d69626e693f2418280097cca3670b06b",
            "placeholder": "​",
            "style": "IPY_MODEL_a4da73bee56b4ecbbf043bf74c7927cb",
            "value": "Downloading (…)tencepiece.bpe.model: 100%"
          }
        },
        "5f12d85c4ab747d7a9fb811b30ea5566": {
          "model_module": "@jupyter-widgets/controls",
          "model_name": "FloatProgressModel",
          "model_module_version": "1.5.0",
          "state": {
            "_dom_classes": [],
            "_model_module": "@jupyter-widgets/controls",
            "_model_module_version": "1.5.0",
            "_model_name": "FloatProgressModel",
            "_view_count": null,
            "_view_module": "@jupyter-widgets/controls",
            "_view_module_version": "1.5.0",
            "_view_name": "ProgressView",
            "bar_style": "success",
            "description": "",
            "description_tooltip": null,
            "layout": "IPY_MODEL_6792ba2f5de34311942438db7a1ffd09",
            "max": 5069051,
            "min": 0,
            "orientation": "horizontal",
            "style": "IPY_MODEL_0c2ee3fe16d944baa62b57ceed356329",
            "value": 5069051
          }
        },
        "11b628a22b0c4a569754463e1c4cbc10": {
          "model_module": "@jupyter-widgets/controls",
          "model_name": "HTMLModel",
          "model_module_version": "1.5.0",
          "state": {
            "_dom_classes": [],
            "_model_module": "@jupyter-widgets/controls",
            "_model_module_version": "1.5.0",
            "_model_name": "HTMLModel",
            "_view_count": null,
            "_view_module": "@jupyter-widgets/controls",
            "_view_module_version": "1.5.0",
            "_view_name": "HTMLView",
            "description": "",
            "description_tooltip": null,
            "layout": "IPY_MODEL_8aad2e634c2d476cb133ca960b71868d",
            "placeholder": "​",
            "style": "IPY_MODEL_2409d642f8a54d87b9f0a95d4780821f",
            "value": " 5.07M/5.07M [00:01&lt;00:00, 4.15MB/s]"
          }
        },
        "4832b95198af4ba1943aa2b534d57145": {
          "model_module": "@jupyter-widgets/base",
          "model_name": "LayoutModel",
          "model_module_version": "1.2.0",
          "state": {
            "_model_module": "@jupyter-widgets/base",
            "_model_module_version": "1.2.0",
            "_model_name": "LayoutModel",
            "_view_count": null,
            "_view_module": "@jupyter-widgets/base",
            "_view_module_version": "1.2.0",
            "_view_name": "LayoutView",
            "align_content": null,
            "align_items": null,
            "align_self": null,
            "border": null,
            "bottom": null,
            "display": null,
            "flex": null,
            "flex_flow": null,
            "grid_area": null,
            "grid_auto_columns": null,
            "grid_auto_flow": null,
            "grid_auto_rows": null,
            "grid_column": null,
            "grid_gap": null,
            "grid_row": null,
            "grid_template_areas": null,
            "grid_template_columns": null,
            "grid_template_rows": null,
            "height": null,
            "justify_content": null,
            "justify_items": null,
            "left": null,
            "margin": null,
            "max_height": null,
            "max_width": null,
            "min_height": null,
            "min_width": null,
            "object_fit": null,
            "object_position": null,
            "order": null,
            "overflow": null,
            "overflow_x": null,
            "overflow_y": null,
            "padding": null,
            "right": null,
            "top": null,
            "visibility": null,
            "width": null
          }
        },
        "d69626e693f2418280097cca3670b06b": {
          "model_module": "@jupyter-widgets/base",
          "model_name": "LayoutModel",
          "model_module_version": "1.2.0",
          "state": {
            "_model_module": "@jupyter-widgets/base",
            "_model_module_version": "1.2.0",
            "_model_name": "LayoutModel",
            "_view_count": null,
            "_view_module": "@jupyter-widgets/base",
            "_view_module_version": "1.2.0",
            "_view_name": "LayoutView",
            "align_content": null,
            "align_items": null,
            "align_self": null,
            "border": null,
            "bottom": null,
            "display": null,
            "flex": null,
            "flex_flow": null,
            "grid_area": null,
            "grid_auto_columns": null,
            "grid_auto_flow": null,
            "grid_auto_rows": null,
            "grid_column": null,
            "grid_gap": null,
            "grid_row": null,
            "grid_template_areas": null,
            "grid_template_columns": null,
            "grid_template_rows": null,
            "height": null,
            "justify_content": null,
            "justify_items": null,
            "left": null,
            "margin": null,
            "max_height": null,
            "max_width": null,
            "min_height": null,
            "min_width": null,
            "object_fit": null,
            "object_position": null,
            "order": null,
            "overflow": null,
            "overflow_x": null,
            "overflow_y": null,
            "padding": null,
            "right": null,
            "top": null,
            "visibility": null,
            "width": null
          }
        },
        "a4da73bee56b4ecbbf043bf74c7927cb": {
          "model_module": "@jupyter-widgets/controls",
          "model_name": "DescriptionStyleModel",
          "model_module_version": "1.5.0",
          "state": {
            "_model_module": "@jupyter-widgets/controls",
            "_model_module_version": "1.5.0",
            "_model_name": "DescriptionStyleModel",
            "_view_count": null,
            "_view_module": "@jupyter-widgets/base",
            "_view_module_version": "1.2.0",
            "_view_name": "StyleView",
            "description_width": ""
          }
        },
        "6792ba2f5de34311942438db7a1ffd09": {
          "model_module": "@jupyter-widgets/base",
          "model_name": "LayoutModel",
          "model_module_version": "1.2.0",
          "state": {
            "_model_module": "@jupyter-widgets/base",
            "_model_module_version": "1.2.0",
            "_model_name": "LayoutModel",
            "_view_count": null,
            "_view_module": "@jupyter-widgets/base",
            "_view_module_version": "1.2.0",
            "_view_name": "LayoutView",
            "align_content": null,
            "align_items": null,
            "align_self": null,
            "border": null,
            "bottom": null,
            "display": null,
            "flex": null,
            "flex_flow": null,
            "grid_area": null,
            "grid_auto_columns": null,
            "grid_auto_flow": null,
            "grid_auto_rows": null,
            "grid_column": null,
            "grid_gap": null,
            "grid_row": null,
            "grid_template_areas": null,
            "grid_template_columns": null,
            "grid_template_rows": null,
            "height": null,
            "justify_content": null,
            "justify_items": null,
            "left": null,
            "margin": null,
            "max_height": null,
            "max_width": null,
            "min_height": null,
            "min_width": null,
            "object_fit": null,
            "object_position": null,
            "order": null,
            "overflow": null,
            "overflow_x": null,
            "overflow_y": null,
            "padding": null,
            "right": null,
            "top": null,
            "visibility": null,
            "width": null
          }
        },
        "0c2ee3fe16d944baa62b57ceed356329": {
          "model_module": "@jupyter-widgets/controls",
          "model_name": "ProgressStyleModel",
          "model_module_version": "1.5.0",
          "state": {
            "_model_module": "@jupyter-widgets/controls",
            "_model_module_version": "1.5.0",
            "_model_name": "ProgressStyleModel",
            "_view_count": null,
            "_view_module": "@jupyter-widgets/base",
            "_view_module_version": "1.2.0",
            "_view_name": "StyleView",
            "bar_color": null,
            "description_width": ""
          }
        },
        "8aad2e634c2d476cb133ca960b71868d": {
          "model_module": "@jupyter-widgets/base",
          "model_name": "LayoutModel",
          "model_module_version": "1.2.0",
          "state": {
            "_model_module": "@jupyter-widgets/base",
            "_model_module_version": "1.2.0",
            "_model_name": "LayoutModel",
            "_view_count": null,
            "_view_module": "@jupyter-widgets/base",
            "_view_module_version": "1.2.0",
            "_view_name": "LayoutView",
            "align_content": null,
            "align_items": null,
            "align_self": null,
            "border": null,
            "bottom": null,
            "display": null,
            "flex": null,
            "flex_flow": null,
            "grid_area": null,
            "grid_auto_columns": null,
            "grid_auto_flow": null,
            "grid_auto_rows": null,
            "grid_column": null,
            "grid_gap": null,
            "grid_row": null,
            "grid_template_areas": null,
            "grid_template_columns": null,
            "grid_template_rows": null,
            "height": null,
            "justify_content": null,
            "justify_items": null,
            "left": null,
            "margin": null,
            "max_height": null,
            "max_width": null,
            "min_height": null,
            "min_width": null,
            "object_fit": null,
            "object_position": null,
            "order": null,
            "overflow": null,
            "overflow_x": null,
            "overflow_y": null,
            "padding": null,
            "right": null,
            "top": null,
            "visibility": null,
            "width": null
          }
        },
        "2409d642f8a54d87b9f0a95d4780821f": {
          "model_module": "@jupyter-widgets/controls",
          "model_name": "DescriptionStyleModel",
          "model_module_version": "1.5.0",
          "state": {
            "_model_module": "@jupyter-widgets/controls",
            "_model_module_version": "1.5.0",
            "_model_name": "DescriptionStyleModel",
            "_view_count": null,
            "_view_module": "@jupyter-widgets/base",
            "_view_module_version": "1.2.0",
            "_view_name": "StyleView",
            "description_width": ""
          }
        },
        "bd5195c851f446c299bef12a89016ff8": {
          "model_module": "@jupyter-widgets/controls",
          "model_name": "HBoxModel",
          "model_module_version": "1.5.0",
          "state": {
            "_dom_classes": [],
            "_model_module": "@jupyter-widgets/controls",
            "_model_module_version": "1.5.0",
            "_model_name": "HBoxModel",
            "_view_count": null,
            "_view_module": "@jupyter-widgets/controls",
            "_view_module_version": "1.5.0",
            "_view_name": "HBoxView",
            "box_style": "",
            "children": [
              "IPY_MODEL_804cea7ef0ab42bab97a232423c83d21",
              "IPY_MODEL_bda40837fdce40e583731b7424061583",
              "IPY_MODEL_07a593aae47c4bf094f847cc10456b3f"
            ],
            "layout": "IPY_MODEL_4894461a203e474db5ecd43129a6c1d3"
          }
        },
        "804cea7ef0ab42bab97a232423c83d21": {
          "model_module": "@jupyter-widgets/controls",
          "model_name": "HTMLModel",
          "model_module_version": "1.5.0",
          "state": {
            "_dom_classes": [],
            "_model_module": "@jupyter-widgets/controls",
            "_model_module_version": "1.5.0",
            "_model_name": "HTMLModel",
            "_view_count": null,
            "_view_module": "@jupyter-widgets/controls",
            "_view_module_version": "1.5.0",
            "_view_name": "HTMLView",
            "description": "",
            "description_tooltip": null,
            "layout": "IPY_MODEL_8ecb94076df54f72b5a550c55c25fea2",
            "placeholder": "​",
            "style": "IPY_MODEL_f2b5fb6475484db5bd9627460b4d5c88",
            "value": "Downloading (…)cial_tokens_map.json: 100%"
          }
        },
        "bda40837fdce40e583731b7424061583": {
          "model_module": "@jupyter-widgets/controls",
          "model_name": "FloatProgressModel",
          "model_module_version": "1.5.0",
          "state": {
            "_dom_classes": [],
            "_model_module": "@jupyter-widgets/controls",
            "_model_module_version": "1.5.0",
            "_model_name": "FloatProgressModel",
            "_view_count": null,
            "_view_module": "@jupyter-widgets/controls",
            "_view_module_version": "1.5.0",
            "_view_name": "ProgressView",
            "bar_style": "success",
            "description": "",
            "description_tooltip": null,
            "layout": "IPY_MODEL_7920d17df9a34f4c8fb710fcc02ef7ff",
            "max": 150,
            "min": 0,
            "orientation": "horizontal",
            "style": "IPY_MODEL_15836ff4887141538411e0c1faaf7f8f",
            "value": 150
          }
        },
        "07a593aae47c4bf094f847cc10456b3f": {
          "model_module": "@jupyter-widgets/controls",
          "model_name": "HTMLModel",
          "model_module_version": "1.5.0",
          "state": {
            "_dom_classes": [],
            "_model_module": "@jupyter-widgets/controls",
            "_model_module_version": "1.5.0",
            "_model_name": "HTMLModel",
            "_view_count": null,
            "_view_module": "@jupyter-widgets/controls",
            "_view_module_version": "1.5.0",
            "_view_name": "HTMLView",
            "description": "",
            "description_tooltip": null,
            "layout": "IPY_MODEL_669b8736f77d4f3ca630a52599bf6591",
            "placeholder": "​",
            "style": "IPY_MODEL_74f53e3f060642f7a752365ab7160445",
            "value": " 150/150 [00:00&lt;00:00, 12.4kB/s]"
          }
        },
        "4894461a203e474db5ecd43129a6c1d3": {
          "model_module": "@jupyter-widgets/base",
          "model_name": "LayoutModel",
          "model_module_version": "1.2.0",
          "state": {
            "_model_module": "@jupyter-widgets/base",
            "_model_module_version": "1.2.0",
            "_model_name": "LayoutModel",
            "_view_count": null,
            "_view_module": "@jupyter-widgets/base",
            "_view_module_version": "1.2.0",
            "_view_name": "LayoutView",
            "align_content": null,
            "align_items": null,
            "align_self": null,
            "border": null,
            "bottom": null,
            "display": null,
            "flex": null,
            "flex_flow": null,
            "grid_area": null,
            "grid_auto_columns": null,
            "grid_auto_flow": null,
            "grid_auto_rows": null,
            "grid_column": null,
            "grid_gap": null,
            "grid_row": null,
            "grid_template_areas": null,
            "grid_template_columns": null,
            "grid_template_rows": null,
            "height": null,
            "justify_content": null,
            "justify_items": null,
            "left": null,
            "margin": null,
            "max_height": null,
            "max_width": null,
            "min_height": null,
            "min_width": null,
            "object_fit": null,
            "object_position": null,
            "order": null,
            "overflow": null,
            "overflow_x": null,
            "overflow_y": null,
            "padding": null,
            "right": null,
            "top": null,
            "visibility": null,
            "width": null
          }
        },
        "8ecb94076df54f72b5a550c55c25fea2": {
          "model_module": "@jupyter-widgets/base",
          "model_name": "LayoutModel",
          "model_module_version": "1.2.0",
          "state": {
            "_model_module": "@jupyter-widgets/base",
            "_model_module_version": "1.2.0",
            "_model_name": "LayoutModel",
            "_view_count": null,
            "_view_module": "@jupyter-widgets/base",
            "_view_module_version": "1.2.0",
            "_view_name": "LayoutView",
            "align_content": null,
            "align_items": null,
            "align_self": null,
            "border": null,
            "bottom": null,
            "display": null,
            "flex": null,
            "flex_flow": null,
            "grid_area": null,
            "grid_auto_columns": null,
            "grid_auto_flow": null,
            "grid_auto_rows": null,
            "grid_column": null,
            "grid_gap": null,
            "grid_row": null,
            "grid_template_areas": null,
            "grid_template_columns": null,
            "grid_template_rows": null,
            "height": null,
            "justify_content": null,
            "justify_items": null,
            "left": null,
            "margin": null,
            "max_height": null,
            "max_width": null,
            "min_height": null,
            "min_width": null,
            "object_fit": null,
            "object_position": null,
            "order": null,
            "overflow": null,
            "overflow_x": null,
            "overflow_y": null,
            "padding": null,
            "right": null,
            "top": null,
            "visibility": null,
            "width": null
          }
        },
        "f2b5fb6475484db5bd9627460b4d5c88": {
          "model_module": "@jupyter-widgets/controls",
          "model_name": "DescriptionStyleModel",
          "model_module_version": "1.5.0",
          "state": {
            "_model_module": "@jupyter-widgets/controls",
            "_model_module_version": "1.5.0",
            "_model_name": "DescriptionStyleModel",
            "_view_count": null,
            "_view_module": "@jupyter-widgets/base",
            "_view_module_version": "1.2.0",
            "_view_name": "StyleView",
            "description_width": ""
          }
        },
        "7920d17df9a34f4c8fb710fcc02ef7ff": {
          "model_module": "@jupyter-widgets/base",
          "model_name": "LayoutModel",
          "model_module_version": "1.2.0",
          "state": {
            "_model_module": "@jupyter-widgets/base",
            "_model_module_version": "1.2.0",
            "_model_name": "LayoutModel",
            "_view_count": null,
            "_view_module": "@jupyter-widgets/base",
            "_view_module_version": "1.2.0",
            "_view_name": "LayoutView",
            "align_content": null,
            "align_items": null,
            "align_self": null,
            "border": null,
            "bottom": null,
            "display": null,
            "flex": null,
            "flex_flow": null,
            "grid_area": null,
            "grid_auto_columns": null,
            "grid_auto_flow": null,
            "grid_auto_rows": null,
            "grid_column": null,
            "grid_gap": null,
            "grid_row": null,
            "grid_template_areas": null,
            "grid_template_columns": null,
            "grid_template_rows": null,
            "height": null,
            "justify_content": null,
            "justify_items": null,
            "left": null,
            "margin": null,
            "max_height": null,
            "max_width": null,
            "min_height": null,
            "min_width": null,
            "object_fit": null,
            "object_position": null,
            "order": null,
            "overflow": null,
            "overflow_x": null,
            "overflow_y": null,
            "padding": null,
            "right": null,
            "top": null,
            "visibility": null,
            "width": null
          }
        },
        "15836ff4887141538411e0c1faaf7f8f": {
          "model_module": "@jupyter-widgets/controls",
          "model_name": "ProgressStyleModel",
          "model_module_version": "1.5.0",
          "state": {
            "_model_module": "@jupyter-widgets/controls",
            "_model_module_version": "1.5.0",
            "_model_name": "ProgressStyleModel",
            "_view_count": null,
            "_view_module": "@jupyter-widgets/base",
            "_view_module_version": "1.2.0",
            "_view_name": "StyleView",
            "bar_color": null,
            "description_width": ""
          }
        },
        "669b8736f77d4f3ca630a52599bf6591": {
          "model_module": "@jupyter-widgets/base",
          "model_name": "LayoutModel",
          "model_module_version": "1.2.0",
          "state": {
            "_model_module": "@jupyter-widgets/base",
            "_model_module_version": "1.2.0",
            "_model_name": "LayoutModel",
            "_view_count": null,
            "_view_module": "@jupyter-widgets/base",
            "_view_module_version": "1.2.0",
            "_view_name": "LayoutView",
            "align_content": null,
            "align_items": null,
            "align_self": null,
            "border": null,
            "bottom": null,
            "display": null,
            "flex": null,
            "flex_flow": null,
            "grid_area": null,
            "grid_auto_columns": null,
            "grid_auto_flow": null,
            "grid_auto_rows": null,
            "grid_column": null,
            "grid_gap": null,
            "grid_row": null,
            "grid_template_areas": null,
            "grid_template_columns": null,
            "grid_template_rows": null,
            "height": null,
            "justify_content": null,
            "justify_items": null,
            "left": null,
            "margin": null,
            "max_height": null,
            "max_width": null,
            "min_height": null,
            "min_width": null,
            "object_fit": null,
            "object_position": null,
            "order": null,
            "overflow": null,
            "overflow_x": null,
            "overflow_y": null,
            "padding": null,
            "right": null,
            "top": null,
            "visibility": null,
            "width": null
          }
        },
        "74f53e3f060642f7a752365ab7160445": {
          "model_module": "@jupyter-widgets/controls",
          "model_name": "DescriptionStyleModel",
          "model_module_version": "1.5.0",
          "state": {
            "_model_module": "@jupyter-widgets/controls",
            "_model_module_version": "1.5.0",
            "_model_name": "DescriptionStyleModel",
            "_view_count": null,
            "_view_module": "@jupyter-widgets/base",
            "_view_module_version": "1.2.0",
            "_view_name": "StyleView",
            "description_width": ""
          }
        }
      }
    }
  },
  "nbformat_minor": 0,
  "nbformat": 4,
  "cells": [
    {
      "cell_type": "code",
      "source": [
        "!pip install transformers==4.28.0"
      ],
      "metadata": {
        "id": "3Nhk4e4VTUuw",
        "colab": {
          "base_uri": "https://localhost:8080/"
        },
        "outputId": "096f9af5-6a4e-4b6d-c675-31bd2bd45edb"
      },
      "execution_count": null,
      "outputs": [
        {
          "output_type": "stream",
          "name": "stdout",
          "text": [
            "Looking in indexes: https://pypi.org/simple, https://us-python.pkg.dev/colab-wheels/public/simple/\n",
            "Collecting transformers==4.28.0\n",
            "  Downloading transformers-4.28.0-py3-none-any.whl (7.0 MB)\n",
            "\u001b[2K     \u001b[90m━━━━━━━━━━━━━━━━━━━━━━━━━━━━━━━━━━━━━━━━\u001b[0m \u001b[32m7.0/7.0 MB\u001b[0m \u001b[31m40.5 MB/s\u001b[0m eta \u001b[36m0:00:00\u001b[0m\n",
            "\u001b[?25hRequirement already satisfied: filelock in /usr/local/lib/python3.10/dist-packages (from transformers==4.28.0) (3.12.0)\n",
            "Collecting huggingface-hub<1.0,>=0.11.0 (from transformers==4.28.0)\n",
            "  Downloading huggingface_hub-0.14.1-py3-none-any.whl (224 kB)\n",
            "\u001b[2K     \u001b[90m━━━━━━━━━━━━━━━━━━━━━━━━━━━━━━━━━━━━━━\u001b[0m \u001b[32m224.5/224.5 kB\u001b[0m \u001b[31m16.2 MB/s\u001b[0m eta \u001b[36m0:00:00\u001b[0m\n",
            "\u001b[?25hRequirement already satisfied: numpy>=1.17 in /usr/local/lib/python3.10/dist-packages (from transformers==4.28.0) (1.22.4)\n",
            "Requirement already satisfied: packaging>=20.0 in /usr/local/lib/python3.10/dist-packages (from transformers==4.28.0) (23.1)\n",
            "Requirement already satisfied: pyyaml>=5.1 in /usr/local/lib/python3.10/dist-packages (from transformers==4.28.0) (6.0)\n",
            "Requirement already satisfied: regex!=2019.12.17 in /usr/local/lib/python3.10/dist-packages (from transformers==4.28.0) (2022.10.31)\n",
            "Requirement already satisfied: requests in /usr/local/lib/python3.10/dist-packages (from transformers==4.28.0) (2.27.1)\n",
            "Collecting tokenizers!=0.11.3,<0.14,>=0.11.1 (from transformers==4.28.0)\n",
            "  Downloading tokenizers-0.13.3-cp310-cp310-manylinux_2_17_x86_64.manylinux2014_x86_64.whl (7.8 MB)\n",
            "\u001b[2K     \u001b[90m━━━━━━━━━━━━━━━━━━━━━━━━━━━━━━━━━━━━━━━━\u001b[0m \u001b[32m7.8/7.8 MB\u001b[0m \u001b[31m83.4 MB/s\u001b[0m eta \u001b[36m0:00:00\u001b[0m\n",
            "\u001b[?25hRequirement already satisfied: tqdm>=4.27 in /usr/local/lib/python3.10/dist-packages (from transformers==4.28.0) (4.65.0)\n",
            "Requirement already satisfied: fsspec in /usr/local/lib/python3.10/dist-packages (from huggingface-hub<1.0,>=0.11.0->transformers==4.28.0) (2023.4.0)\n",
            "Requirement already satisfied: typing-extensions>=3.7.4.3 in /usr/local/lib/python3.10/dist-packages (from huggingface-hub<1.0,>=0.11.0->transformers==4.28.0) (4.5.0)\n",
            "Requirement already satisfied: urllib3<1.27,>=1.21.1 in /usr/local/lib/python3.10/dist-packages (from requests->transformers==4.28.0) (1.26.15)\n",
            "Requirement already satisfied: certifi>=2017.4.17 in /usr/local/lib/python3.10/dist-packages (from requests->transformers==4.28.0) (2022.12.7)\n",
            "Requirement already satisfied: charset-normalizer~=2.0.0 in /usr/local/lib/python3.10/dist-packages (from requests->transformers==4.28.0) (2.0.12)\n",
            "Requirement already satisfied: idna<4,>=2.5 in /usr/local/lib/python3.10/dist-packages (from requests->transformers==4.28.0) (3.4)\n",
            "Installing collected packages: tokenizers, huggingface-hub, transformers\n",
            "Successfully installed huggingface-hub-0.14.1 tokenizers-0.13.3 transformers-4.28.0\n"
          ]
        }
      ]
    },
    {
      "cell_type": "code",
      "source": [
        "!pip install datasets"
      ],
      "metadata": {
        "colab": {
          "base_uri": "https://localhost:8080/"
        },
        "id": "_jEKqjPBMIy-",
        "outputId": "ff9ae1fc-baa9-49a8-f1a0-440368edfaa7"
      },
      "execution_count": null,
      "outputs": [
        {
          "output_type": "stream",
          "name": "stdout",
          "text": [
            "Looking in indexes: https://pypi.org/simple, https://us-python.pkg.dev/colab-wheels/public/simple/\n",
            "Collecting datasets\n",
            "  Downloading datasets-2.12.0-py3-none-any.whl (474 kB)\n",
            "\u001b[2K     \u001b[90m━━━━━━━━━━━━━━━━━━━━━━━━━━━━━━━━━━━━━━━\u001b[0m \u001b[32m474.6/474.6 kB\u001b[0m \u001b[31m7.9 MB/s\u001b[0m eta \u001b[36m0:00:00\u001b[0m\n",
            "\u001b[?25hRequirement already satisfied: numpy>=1.17 in /usr/local/lib/python3.10/dist-packages (from datasets) (1.22.4)\n",
            "Requirement already satisfied: pyarrow>=8.0.0 in /usr/local/lib/python3.10/dist-packages (from datasets) (9.0.0)\n",
            "Collecting dill<0.3.7,>=0.3.0 (from datasets)\n",
            "  Downloading dill-0.3.6-py3-none-any.whl (110 kB)\n",
            "\u001b[2K     \u001b[90m━━━━━━━━━━━━━━━━━━━━━━━━━━━━━━━━━━━━━━\u001b[0m \u001b[32m110.5/110.5 kB\u001b[0m \u001b[31m10.0 MB/s\u001b[0m eta \u001b[36m0:00:00\u001b[0m\n",
            "\u001b[?25hRequirement already satisfied: pandas in /usr/local/lib/python3.10/dist-packages (from datasets) (1.5.3)\n",
            "Requirement already satisfied: requests>=2.19.0 in /usr/local/lib/python3.10/dist-packages (from datasets) (2.27.1)\n",
            "Requirement already satisfied: tqdm>=4.62.1 in /usr/local/lib/python3.10/dist-packages (from datasets) (4.65.0)\n",
            "Collecting xxhash (from datasets)\n",
            "  Downloading xxhash-3.2.0-cp310-cp310-manylinux_2_17_x86_64.manylinux2014_x86_64.whl (212 kB)\n",
            "\u001b[2K     \u001b[90m━━━━━━━━━━━━━━━━━━━━━━━━━━━━━━━━━━━━━━\u001b[0m \u001b[32m212.5/212.5 kB\u001b[0m \u001b[31m25.6 MB/s\u001b[0m eta \u001b[36m0:00:00\u001b[0m\n",
            "\u001b[?25hCollecting multiprocess (from datasets)\n",
            "  Downloading multiprocess-0.70.14-py310-none-any.whl (134 kB)\n",
            "\u001b[2K     \u001b[90m━━━━━━━━━━━━━━━━━━━━━━━━━━━━━━━━━━━━━━\u001b[0m \u001b[32m134.3/134.3 kB\u001b[0m \u001b[31m17.4 MB/s\u001b[0m eta \u001b[36m0:00:00\u001b[0m\n",
            "\u001b[?25hRequirement already satisfied: fsspec[http]>=2021.11.1 in /usr/local/lib/python3.10/dist-packages (from datasets) (2023.4.0)\n",
            "Collecting aiohttp (from datasets)\n",
            "  Downloading aiohttp-3.8.4-cp310-cp310-manylinux_2_17_x86_64.manylinux2014_x86_64.whl (1.0 MB)\n",
            "\u001b[2K     \u001b[90m━━━━━━━━━━━━━━━━━━━━━━━━━━━━━━━━━━━━━━━━\u001b[0m \u001b[32m1.0/1.0 MB\u001b[0m \u001b[31m37.5 MB/s\u001b[0m eta \u001b[36m0:00:00\u001b[0m\n",
            "\u001b[?25hRequirement already satisfied: huggingface-hub<1.0.0,>=0.11.0 in /usr/local/lib/python3.10/dist-packages (from datasets) (0.14.1)\n",
            "Requirement already satisfied: packaging in /usr/local/lib/python3.10/dist-packages (from datasets) (23.1)\n",
            "Collecting responses<0.19 (from datasets)\n",
            "  Downloading responses-0.18.0-py3-none-any.whl (38 kB)\n",
            "Requirement already satisfied: pyyaml>=5.1 in /usr/local/lib/python3.10/dist-packages (from datasets) (6.0)\n",
            "Requirement already satisfied: attrs>=17.3.0 in /usr/local/lib/python3.10/dist-packages (from aiohttp->datasets) (23.1.0)\n",
            "Requirement already satisfied: charset-normalizer<4.0,>=2.0 in /usr/local/lib/python3.10/dist-packages (from aiohttp->datasets) (2.0.12)\n",
            "Collecting multidict<7.0,>=4.5 (from aiohttp->datasets)\n",
            "  Downloading multidict-6.0.4-cp310-cp310-manylinux_2_17_x86_64.manylinux2014_x86_64.whl (114 kB)\n",
            "\u001b[2K     \u001b[90m━━━━━━━━━━━━━━━━━━━━━━━━━━━━━━━━━━━━━━\u001b[0m \u001b[32m114.5/114.5 kB\u001b[0m \u001b[31m13.8 MB/s\u001b[0m eta \u001b[36m0:00:00\u001b[0m\n",
            "\u001b[?25hCollecting async-timeout<5.0,>=4.0.0a3 (from aiohttp->datasets)\n",
            "  Downloading async_timeout-4.0.2-py3-none-any.whl (5.8 kB)\n",
            "Collecting yarl<2.0,>=1.0 (from aiohttp->datasets)\n",
            "  Downloading yarl-1.9.2-cp310-cp310-manylinux_2_17_x86_64.manylinux2014_x86_64.whl (268 kB)\n",
            "\u001b[2K     \u001b[90m━━━━━━━━━━━━━━━━━━━━━━━━━━━━━━━━━━━━━━\u001b[0m \u001b[32m268.8/268.8 kB\u001b[0m \u001b[31m29.7 MB/s\u001b[0m eta \u001b[36m0:00:00\u001b[0m\n",
            "\u001b[?25hCollecting frozenlist>=1.1.1 (from aiohttp->datasets)\n",
            "  Downloading frozenlist-1.3.3-cp310-cp310-manylinux_2_5_x86_64.manylinux1_x86_64.manylinux_2_17_x86_64.manylinux2014_x86_64.whl (149 kB)\n",
            "\u001b[2K     \u001b[90m━━━━━━━━━━━━━━━━━━━━━━━━━━━━━━━━━━━━━━\u001b[0m \u001b[32m149.6/149.6 kB\u001b[0m \u001b[31m17.4 MB/s\u001b[0m eta \u001b[36m0:00:00\u001b[0m\n",
            "\u001b[?25hCollecting aiosignal>=1.1.2 (from aiohttp->datasets)\n",
            "  Downloading aiosignal-1.3.1-py3-none-any.whl (7.6 kB)\n",
            "Requirement already satisfied: filelock in /usr/local/lib/python3.10/dist-packages (from huggingface-hub<1.0.0,>=0.11.0->datasets) (3.12.0)\n",
            "Requirement already satisfied: typing-extensions>=3.7.4.3 in /usr/local/lib/python3.10/dist-packages (from huggingface-hub<1.0.0,>=0.11.0->datasets) (4.5.0)\n",
            "Requirement already satisfied: urllib3<1.27,>=1.21.1 in /usr/local/lib/python3.10/dist-packages (from requests>=2.19.0->datasets) (1.26.15)\n",
            "Requirement already satisfied: certifi>=2017.4.17 in /usr/local/lib/python3.10/dist-packages (from requests>=2.19.0->datasets) (2022.12.7)\n",
            "Requirement already satisfied: idna<4,>=2.5 in /usr/local/lib/python3.10/dist-packages (from requests>=2.19.0->datasets) (3.4)\n",
            "Requirement already satisfied: python-dateutil>=2.8.1 in /usr/local/lib/python3.10/dist-packages (from pandas->datasets) (2.8.2)\n",
            "Requirement already satisfied: pytz>=2020.1 in /usr/local/lib/python3.10/dist-packages (from pandas->datasets) (2022.7.1)\n",
            "Requirement already satisfied: six>=1.5 in /usr/local/lib/python3.10/dist-packages (from python-dateutil>=2.8.1->pandas->datasets) (1.16.0)\n",
            "Installing collected packages: xxhash, multidict, frozenlist, dill, async-timeout, yarl, responses, multiprocess, aiosignal, aiohttp, datasets\n",
            "Successfully installed aiohttp-3.8.4 aiosignal-1.3.1 async-timeout-4.0.2 datasets-2.12.0 dill-0.3.6 frozenlist-1.3.3 multidict-6.0.4 multiprocess-0.70.14 responses-0.18.0 xxhash-3.2.0 yarl-1.9.2\n"
          ]
        }
      ]
    },
    {
      "cell_type": "markdown",
      "source": [
        "### Importing necessary Libraries"
      ],
      "metadata": {
        "id": "TsgXNZ1wKMZS"
      }
    },
    {
      "cell_type": "code",
      "source": [
        "import pandas as pd\n",
        "import transformers\n",
        "from datasets import Dataset\n",
        "from transformers import AutoTokenizer, AutoModelForQuestionAnswering\n",
        "import torch\n",
        "from torch.utils.data import DataLoader\n",
        "from transformers import AdamW\n",
        "import numpy as np\n",
        "from transformers import TrainingArguments, Trainer\n",
        "from transformers import default_data_collator\n",
        "import collections\n",
        "import random\n",
        "import csv\n",
        "random_seed = 42\n",
        "\n",
        "torch.manual_seed(random_seed)\n",
        "torch.cuda.manual_seed(random_seed)\n",
        "np.random.seed(random_seed)\n",
        "random.seed(random_seed)\n",
        "torch.backends.cudnn.deterministic = True\n",
        "\n",
        "device = torch.device('cuda') if torch.cuda.is_available() else torch.device('cpu')\n",
        "%env WANDB_DISABLED=True"
      ],
      "metadata": {
        "execution": {
          "iopub.status.busy": "2021-11-13T20:34:48.758107Z",
          "iopub.execute_input": "2021-11-13T20:34:48.758394Z",
          "iopub.status.idle": "2021-11-13T20:34:48.769746Z",
          "shell.execute_reply.started": "2021-11-13T20:34:48.758357Z",
          "shell.execute_reply": "2021-11-13T20:34:48.769045Z"
        },
        "trusted": true,
        "colab": {
          "base_uri": "https://localhost:8080/"
        },
        "id": "8NkS-qjHtHHi",
        "outputId": "91826e0e-4301-44aa-f802-b69c72b9cd82"
      },
      "execution_count": null,
      "outputs": [
        {
          "output_type": "stream",
          "name": "stdout",
          "text": [
            "env: WANDB_DISABLED=True\n"
          ]
        }
      ]
    },
    {
      "cell_type": "markdown",
      "source": [
        "###Loading the pretrained model"
      ],
      "metadata": {
        "id": "tIiPJE6bL1FX"
      }
    },
    {
      "cell_type": "code",
      "source": [
        "#Specifying  the name of the pre-trained model to used form hugging face \n",
        "Modelname = \"deepset/xlm-roberta-base-squad2\""
      ],
      "metadata": {
        "id": "OT_sCEdx0qN0"
      },
      "execution_count": null,
      "outputs": []
    },
    {
      "cell_type": "code",
      "source": [
        "# cloning the haystack library\n",
        "!pip install git+https://github.com/deepset-ai/haystack.git"
      ],
      "metadata": {
        "colab": {
          "base_uri": "https://localhost:8080/",
          "height": 1000
        },
        "id": "TSMSt7khCX2A",
        "outputId": "30b894e8-7c8f-4597-f783-c5ac9b6b3c34"
      },
      "execution_count": null,
      "outputs": [
        {
          "output_type": "stream",
          "name": "stdout",
          "text": [
            "Looking in indexes: https://pypi.org/simple, https://us-python.pkg.dev/colab-wheels/public/simple/\n",
            "Collecting git+https://github.com/deepset-ai/haystack.git\n",
            "  Cloning https://github.com/deepset-ai/haystack.git to /tmp/pip-req-build-y8ul1ezv\n",
            "  Running command git clone --filter=blob:none --quiet https://github.com/deepset-ai/haystack.git /tmp/pip-req-build-y8ul1ezv\n",
            "  Resolved https://github.com/deepset-ai/haystack.git to commit d322beed6c5a124f1a409eaaa9cdc4621352ec6c\n",
            "  Installing build dependencies ... \u001b[?25l\u001b[?25hdone\n",
            "  Getting requirements to build wheel ... \u001b[?25l\u001b[?25hdone\n",
            "  Preparing metadata (pyproject.toml) ... \u001b[?25l\u001b[?25hdone\n",
            "Collecting azure-ai-formrecognizer>=3.2.0b2 (from farm-haystack==1.17.0rc0)\n",
            "  Downloading azure_ai_formrecognizer-3.3.0b1-py3-none-any.whl (299 kB)\n",
            "\u001b[2K     \u001b[90m━━━━━━━━━━━━━━━━━━━━━━━━━━━━━━━━━━━━━━━\u001b[0m \u001b[32m299.9/299.9 kB\u001b[0m \u001b[31m6.4 MB/s\u001b[0m eta \u001b[36m0:00:00\u001b[0m\n",
            "\u001b[?25hCollecting boilerpy3 (from farm-haystack==1.17.0rc0)\n",
            "  Downloading boilerpy3-1.0.6-py3-none-any.whl (22 kB)\n",
            "Collecting canals==0.1.2 (from farm-haystack==1.17.0rc0)\n",
            "  Downloading canals-0.1.2-py3-none-any.whl (28 kB)\n",
            "Requirement already satisfied: dill in /usr/local/lib/python3.10/dist-packages (from farm-haystack==1.17.0rc0) (0.3.6)\n",
            "Collecting events (from farm-haystack==1.17.0rc0)\n",
            "  Downloading Events-0.4.tar.gz (5.6 kB)\n",
            "  Preparing metadata (setup.py) ... \u001b[?25l\u001b[?25hdone\n",
            "Collecting generalimport (from farm-haystack==1.17.0rc0)\n",
            "  Downloading generalimport-0.3.1-py3-none-any.whl (21 kB)\n",
            "Requirement already satisfied: huggingface-hub>=0.5.0 in /usr/local/lib/python3.10/dist-packages (from farm-haystack==1.17.0rc0) (0.14.1)\n",
            "Requirement already satisfied: jsonschema in /usr/local/lib/python3.10/dist-packages (from farm-haystack==1.17.0rc0) (4.3.3)\n",
            "Collecting mmh3 (from farm-haystack==1.17.0rc0)\n",
            "  Downloading mmh3-3.1.0-cp310-cp310-manylinux_2_5_x86_64.manylinux1_x86_64.manylinux_2_17_x86_64.manylinux2014_x86_64.whl (38 kB)\n",
            "Requirement already satisfied: more-itertools in /usr/local/lib/python3.10/dist-packages (from farm-haystack==1.17.0rc0) (9.1.0)\n",
            "Requirement already satisfied: networkx in /usr/local/lib/python3.10/dist-packages (from farm-haystack==1.17.0rc0) (3.1)\n",
            "Requirement already satisfied: pandas in /usr/local/lib/python3.10/dist-packages (from farm-haystack==1.17.0rc0) (1.5.3)\n",
            "Collecting posthog (from farm-haystack==1.17.0rc0)\n",
            "  Downloading posthog-3.0.1-py2.py3-none-any.whl (37 kB)\n",
            "Collecting protobuf<=3.20.2 (from farm-haystack==1.17.0rc0)\n",
            "  Downloading protobuf-3.20.2-cp310-cp310-manylinux_2_12_x86_64.manylinux2010_x86_64.whl (1.1 MB)\n",
            "\u001b[2K     \u001b[90m━━━━━━━━━━━━━━━━━━━━━━━━━━━━━━━━━━━━━━━━\u001b[0m \u001b[32m1.1/1.1 MB\u001b[0m \u001b[31m32.7 MB/s\u001b[0m eta \u001b[36m0:00:00\u001b[0m\n",
            "\u001b[?25hRequirement already satisfied: pydantic in /usr/local/lib/python3.10/dist-packages (from farm-haystack==1.17.0rc0) (1.10.7)\n",
            "Collecting quantulum3 (from farm-haystack==1.17.0rc0)\n",
            "  Downloading quantulum3-0.9.0-py3-none-any.whl (10.7 MB)\n",
            "\u001b[2K     \u001b[90m━━━━━━━━━━━━━━━━━━━━━━━━━━━━━━━━━━━━━━━━\u001b[0m \u001b[32m10.7/10.7 MB\u001b[0m \u001b[31m67.8 MB/s\u001b[0m eta \u001b[36m0:00:00\u001b[0m\n",
            "\u001b[?25hCollecting rank-bm25 (from farm-haystack==1.17.0rc0)\n",
            "  Downloading rank_bm25-0.2.2-py3-none-any.whl (8.6 kB)\n",
            "Requirement already satisfied: requests in /usr/local/lib/python3.10/dist-packages (from farm-haystack==1.17.0rc0) (2.27.1)\n",
            "Collecting requests-cache<1.0.0 (from farm-haystack==1.17.0rc0)\n",
            "  Downloading requests_cache-0.9.8-py3-none-any.whl (48 kB)\n",
            "\u001b[2K     \u001b[90m━━━━━━━━━━━━━━━━━━━━━━━━━━━━━━━━━━━━━━━━\u001b[0m \u001b[32m48.7/48.7 kB\u001b[0m \u001b[31m6.5 MB/s\u001b[0m eta \u001b[36m0:00:00\u001b[0m\n",
            "\u001b[?25hRequirement already satisfied: scikit-learn>=1.0.0 in /usr/local/lib/python3.10/dist-packages (from farm-haystack==1.17.0rc0) (1.2.2)\n",
            "Collecting sentence-transformers>=2.2.0 (from farm-haystack==1.17.0rc0)\n",
            "  Downloading sentence-transformers-2.2.2.tar.gz (85 kB)\n",
            "\u001b[2K     \u001b[90m━━━━━━━━━━━━━━━━━━━━━━━━━━━━━━━━━━━━━━━━\u001b[0m \u001b[32m86.0/86.0 kB\u001b[0m \u001b[31m11.9 MB/s\u001b[0m eta \u001b[36m0:00:00\u001b[0m\n",
            "\u001b[?25h  Preparing metadata (setup.py) ... \u001b[?25l\u001b[?25hdone\n",
            "Collecting sseclient-py (from farm-haystack==1.17.0rc0)\n",
            "  Downloading sseclient_py-1.7.2-py2.py3-none-any.whl (8.4 kB)\n",
            "Requirement already satisfied: tenacity in /usr/local/lib/python3.10/dist-packages (from farm-haystack==1.17.0rc0) (8.2.2)\n",
            "Collecting tiktoken>=0.3.0 (from farm-haystack==1.17.0rc0)\n",
            "  Downloading tiktoken-0.4.0-cp310-cp310-manylinux_2_17_x86_64.manylinux2014_x86_64.whl (1.7 MB)\n",
            "\u001b[2K     \u001b[90m━━━━━━━━━━━━━━━━━━━━━━━━━━━━━━━━━━━━━━━━\u001b[0m \u001b[32m1.7/1.7 MB\u001b[0m \u001b[31m91.5 MB/s\u001b[0m eta \u001b[36m0:00:00\u001b[0m\n",
            "\u001b[?25hRequirement already satisfied: tqdm in /usr/local/lib/python3.10/dist-packages (from farm-haystack==1.17.0rc0) (4.65.0)\n",
            "Collecting transformers[torch]==4.28.1 (from farm-haystack==1.17.0rc0)\n",
            "  Downloading transformers-4.28.1-py3-none-any.whl (7.0 MB)\n",
            "\u001b[2K     \u001b[90m━━━━━━━━━━━━━━━━━━━━━━━━━━━━━━━━━━━━━━━━\u001b[0m \u001b[32m7.0/7.0 MB\u001b[0m \u001b[31m122.4 MB/s\u001b[0m eta \u001b[36m0:00:00\u001b[0m\n",
            "\u001b[?25hRequirement already satisfied: filelock in /usr/local/lib/python3.10/dist-packages (from transformers[torch]==4.28.1->farm-haystack==1.17.0rc0) (3.12.0)\n",
            "Requirement already satisfied: numpy>=1.17 in /usr/local/lib/python3.10/dist-packages (from transformers[torch]==4.28.1->farm-haystack==1.17.0rc0) (1.22.4)\n",
            "Requirement already satisfied: packaging>=20.0 in /usr/local/lib/python3.10/dist-packages (from transformers[torch]==4.28.1->farm-haystack==1.17.0rc0) (23.1)\n",
            "Requirement already satisfied: pyyaml>=5.1 in /usr/local/lib/python3.10/dist-packages (from transformers[torch]==4.28.1->farm-haystack==1.17.0rc0) (6.0)\n",
            "Requirement already satisfied: regex!=2019.12.17 in /usr/local/lib/python3.10/dist-packages (from transformers[torch]==4.28.1->farm-haystack==1.17.0rc0) (2022.10.31)\n",
            "Requirement already satisfied: tokenizers!=0.11.3,<0.14,>=0.11.1 in /usr/local/lib/python3.10/dist-packages (from transformers[torch]==4.28.1->farm-haystack==1.17.0rc0) (0.13.3)\n",
            "Requirement already satisfied: torch!=1.12.0,>=1.9 in /usr/local/lib/python3.10/dist-packages (from transformers[torch]==4.28.1->farm-haystack==1.17.0rc0) (2.0.0+cu118)\n",
            "Collecting azure-core<2.0.0,>=1.23.0 (from azure-ai-formrecognizer>=3.2.0b2->farm-haystack==1.17.0rc0)\n",
            "  Downloading azure_core-1.26.4-py3-none-any.whl (173 kB)\n",
            "\u001b[2K     \u001b[90m━━━━━━━━━━━━━━━━━━━━━━━━━━━━━━━━━━━━━━\u001b[0m \u001b[32m173.9/173.9 kB\u001b[0m \u001b[31m23.9 MB/s\u001b[0m eta \u001b[36m0:00:00\u001b[0m\n",
            "\u001b[?25hCollecting msrest>=0.6.21 (from azure-ai-formrecognizer>=3.2.0b2->farm-haystack==1.17.0rc0)\n",
            "  Downloading msrest-0.7.1-py3-none-any.whl (85 kB)\n",
            "\u001b[2K     \u001b[90m━━━━━━━━━━━━━━━━━━━━━━━━━━━━━━━━━━━━━━━━\u001b[0m \u001b[32m85.4/85.4 kB\u001b[0m \u001b[31m12.3 MB/s\u001b[0m eta \u001b[36m0:00:00\u001b[0m\n",
            "\u001b[?25hCollecting azure-common~=1.1 (from azure-ai-formrecognizer>=3.2.0b2->farm-haystack==1.17.0rc0)\n",
            "  Downloading azure_common-1.1.28-py2.py3-none-any.whl (14 kB)\n",
            "Requirement already satisfied: typing-extensions>=4.0.1 in /usr/local/lib/python3.10/dist-packages (from azure-ai-formrecognizer>=3.2.0b2->farm-haystack==1.17.0rc0) (4.5.0)\n",
            "Requirement already satisfied: fsspec in /usr/local/lib/python3.10/dist-packages (from huggingface-hub>=0.5.0->farm-haystack==1.17.0rc0) (2023.4.0)\n",
            "Requirement already satisfied: appdirs>=1.4.4 in /usr/local/lib/python3.10/dist-packages (from requests-cache<1.0.0->farm-haystack==1.17.0rc0) (1.4.4)\n",
            "Requirement already satisfied: attrs>=21.2 in /usr/local/lib/python3.10/dist-packages (from requests-cache<1.0.0->farm-haystack==1.17.0rc0) (23.1.0)\n",
            "Collecting cattrs>=22.2 (from requests-cache<1.0.0->farm-haystack==1.17.0rc0)\n",
            "  Downloading cattrs-22.2.0-py3-none-any.whl (35 kB)\n",
            "Collecting url-normalize>=1.4 (from requests-cache<1.0.0->farm-haystack==1.17.0rc0)\n",
            "  Downloading url_normalize-1.4.3-py2.py3-none-any.whl (6.8 kB)\n",
            "Requirement already satisfied: urllib3>=1.25.5 in /usr/local/lib/python3.10/dist-packages (from requests-cache<1.0.0->farm-haystack==1.17.0rc0) (1.26.15)\n",
            "Requirement already satisfied: certifi>=2017.4.17 in /usr/local/lib/python3.10/dist-packages (from requests->farm-haystack==1.17.0rc0) (2022.12.7)\n",
            "Requirement already satisfied: charset-normalizer~=2.0.0 in /usr/local/lib/python3.10/dist-packages (from requests->farm-haystack==1.17.0rc0) (2.0.12)\n",
            "Requirement already satisfied: idna<4,>=2.5 in /usr/local/lib/python3.10/dist-packages (from requests->farm-haystack==1.17.0rc0) (3.4)\n",
            "Requirement already satisfied: scipy>=1.3.2 in /usr/local/lib/python3.10/dist-packages (from scikit-learn>=1.0.0->farm-haystack==1.17.0rc0) (1.10.1)\n",
            "Requirement already satisfied: joblib>=1.1.1 in /usr/local/lib/python3.10/dist-packages (from scikit-learn>=1.0.0->farm-haystack==1.17.0rc0) (1.2.0)\n",
            "Requirement already satisfied: threadpoolctl>=2.0.0 in /usr/local/lib/python3.10/dist-packages (from scikit-learn>=1.0.0->farm-haystack==1.17.0rc0) (3.1.0)\n",
            "Requirement already satisfied: torchvision in /usr/local/lib/python3.10/dist-packages (from sentence-transformers>=2.2.0->farm-haystack==1.17.0rc0) (0.15.1+cu118)\n",
            "Requirement already satisfied: nltk in /usr/local/lib/python3.10/dist-packages (from sentence-transformers>=2.2.0->farm-haystack==1.17.0rc0) (3.8.1)\n",
            "Collecting sentencepiece (from sentence-transformers>=2.2.0->farm-haystack==1.17.0rc0)\n",
            "  Downloading sentencepiece-0.1.99-cp310-cp310-manylinux_2_17_x86_64.manylinux2014_x86_64.whl (1.3 MB)\n",
            "\u001b[2K     \u001b[90m━━━━━━━━━━━━━━━━━━━━━━━━━━━━━━━━━━━━━━━━\u001b[0m \u001b[32m1.3/1.3 MB\u001b[0m \u001b[31m82.0 MB/s\u001b[0m eta \u001b[36m0:00:00\u001b[0m\n",
            "\u001b[?25hRequirement already satisfied: pyrsistent!=0.17.0,!=0.17.1,!=0.17.2,>=0.14.0 in /usr/local/lib/python3.10/dist-packages (from jsonschema->farm-haystack==1.17.0rc0) (0.19.3)\n",
            "Requirement already satisfied: python-dateutil>=2.8.1 in /usr/local/lib/python3.10/dist-packages (from pandas->farm-haystack==1.17.0rc0) (2.8.2)\n",
            "Requirement already satisfied: pytz>=2020.1 in /usr/local/lib/python3.10/dist-packages (from pandas->farm-haystack==1.17.0rc0) (2022.7.1)\n",
            "Requirement already satisfied: six>=1.5 in /usr/local/lib/python3.10/dist-packages (from posthog->farm-haystack==1.17.0rc0) (1.16.0)\n",
            "Collecting monotonic>=1.5 (from posthog->farm-haystack==1.17.0rc0)\n",
            "  Downloading monotonic-1.6-py2.py3-none-any.whl (8.2 kB)\n",
            "Collecting backoff>=1.10.0 (from posthog->farm-haystack==1.17.0rc0)\n",
            "  Downloading backoff-2.2.1-py3-none-any.whl (15 kB)\n",
            "Requirement already satisfied: inflect in /usr/local/lib/python3.10/dist-packages (from quantulum3->farm-haystack==1.17.0rc0) (6.0.4)\n",
            "Collecting num2words (from quantulum3->farm-haystack==1.17.0rc0)\n",
            "  Downloading num2words-0.5.12-py3-none-any.whl (125 kB)\n",
            "\u001b[2K     \u001b[90m━━━━━━━━━━━━━━━━━━━━━━━━━━━━━━━━━━━━━━\u001b[0m \u001b[32m125.2/125.2 kB\u001b[0m \u001b[31m17.0 MB/s\u001b[0m eta \u001b[36m0:00:00\u001b[0m\n",
            "\u001b[?25hRequirement already satisfied: exceptiongroup in /usr/local/lib/python3.10/dist-packages (from cattrs>=22.2->requests-cache<1.0.0->farm-haystack==1.17.0rc0) (1.1.1)\n",
            "Collecting isodate>=0.6.0 (from msrest>=0.6.21->azure-ai-formrecognizer>=3.2.0b2->farm-haystack==1.17.0rc0)\n",
            "  Downloading isodate-0.6.1-py2.py3-none-any.whl (41 kB)\n",
            "\u001b[2K     \u001b[90m━━━━━━━━━━━━━━━━━━━━━━━━━━━━━━━━━━━━━━━━\u001b[0m \u001b[32m41.7/41.7 kB\u001b[0m \u001b[31m5.8 MB/s\u001b[0m eta \u001b[36m0:00:00\u001b[0m\n",
            "\u001b[?25hRequirement already satisfied: requests-oauthlib>=0.5.0 in /usr/local/lib/python3.10/dist-packages (from msrest>=0.6.21->azure-ai-formrecognizer>=3.2.0b2->farm-haystack==1.17.0rc0) (1.3.1)\n",
            "Requirement already satisfied: sympy in /usr/local/lib/python3.10/dist-packages (from torch!=1.12.0,>=1.9->transformers[torch]==4.28.1->farm-haystack==1.17.0rc0) (1.11.1)\n",
            "Requirement already satisfied: jinja2 in /usr/local/lib/python3.10/dist-packages (from torch!=1.12.0,>=1.9->transformers[torch]==4.28.1->farm-haystack==1.17.0rc0) (3.1.2)\n",
            "Requirement already satisfied: triton==2.0.0 in /usr/local/lib/python3.10/dist-packages (from torch!=1.12.0,>=1.9->transformers[torch]==4.28.1->farm-haystack==1.17.0rc0) (2.0.0)\n",
            "Requirement already satisfied: cmake in /usr/local/lib/python3.10/dist-packages (from triton==2.0.0->torch!=1.12.0,>=1.9->transformers[torch]==4.28.1->farm-haystack==1.17.0rc0) (3.25.2)\n",
            "Requirement already satisfied: lit in /usr/local/lib/python3.10/dist-packages (from triton==2.0.0->torch!=1.12.0,>=1.9->transformers[torch]==4.28.1->farm-haystack==1.17.0rc0) (16.0.3)\n",
            "Requirement already satisfied: click in /usr/local/lib/python3.10/dist-packages (from nltk->sentence-transformers>=2.2.0->farm-haystack==1.17.0rc0) (8.1.3)\n",
            "Collecting docopt>=0.6.2 (from num2words->quantulum3->farm-haystack==1.17.0rc0)\n",
            "  Downloading docopt-0.6.2.tar.gz (25 kB)\n",
            "  Preparing metadata (setup.py) ... \u001b[?25l\u001b[?25hdone\n",
            "Requirement already satisfied: pillow!=8.3.*,>=5.3.0 in /usr/local/lib/python3.10/dist-packages (from torchvision->sentence-transformers>=2.2.0->farm-haystack==1.17.0rc0) (8.4.0)\n",
            "Requirement already satisfied: oauthlib>=3.0.0 in /usr/local/lib/python3.10/dist-packages (from requests-oauthlib>=0.5.0->msrest>=0.6.21->azure-ai-formrecognizer>=3.2.0b2->farm-haystack==1.17.0rc0) (3.2.2)\n",
            "Requirement already satisfied: MarkupSafe>=2.0 in /usr/local/lib/python3.10/dist-packages (from jinja2->torch!=1.12.0,>=1.9->transformers[torch]==4.28.1->farm-haystack==1.17.0rc0) (2.1.2)\n",
            "Requirement already satisfied: mpmath>=0.19 in /usr/local/lib/python3.10/dist-packages (from sympy->torch!=1.12.0,>=1.9->transformers[torch]==4.28.1->farm-haystack==1.17.0rc0) (1.3.0)\n",
            "Building wheels for collected packages: farm-haystack, sentence-transformers, events, docopt\n",
            "  Building wheel for farm-haystack (pyproject.toml) ... \u001b[?25l\u001b[?25hdone\n",
            "  Created wheel for farm-haystack: filename=farm_haystack-1.17.0rc0-py3-none-any.whl size=719853 sha256=f565ba74e9b4840a2d2b5d4cc5fe02421133e95e1105ae299689bc6aa85c5c8b\n",
            "  Stored in directory: /tmp/pip-ephem-wheel-cache-9c0d89oq/wheels/e7/f8/df/e7c3a1fea47ea9a9db18c056e698a82658e0fe5814c5608165\n",
            "  Building wheel for sentence-transformers (setup.py) ... \u001b[?25l\u001b[?25hdone\n",
            "  Created wheel for sentence-transformers: filename=sentence_transformers-2.2.2-py3-none-any.whl size=125926 sha256=2b89321c512184c200aa1e6124aa6b6aada478c18c151d5c40d7dd276f6f43eb\n",
            "  Stored in directory: /root/.cache/pip/wheels/62/f2/10/1e606fd5f02395388f74e7462910fe851042f97238cbbd902f\n",
            "  Building wheel for events (setup.py) ... \u001b[?25l\u001b[?25hdone\n",
            "  Created wheel for events: filename=Events-0.4-py3-none-any.whl size=6273 sha256=81420663748cfcd42c8baf1cd5224ad5655df795ef58206c998fd977af580a3e\n",
            "  Stored in directory: /root/.cache/pip/wheels/1b/34/cf/445b39702c5a25aa8ceccf99429f5855726be49d43ce31ec03\n",
            "  Building wheel for docopt (setup.py) ... \u001b[?25l\u001b[?25hdone\n",
            "  Created wheel for docopt: filename=docopt-0.6.2-py2.py3-none-any.whl size=13707 sha256=5b79777dac512b20d4e047a830fb4fb64e520a22c004a2eb2f0eb9c1c8ff5788\n",
            "  Stored in directory: /root/.cache/pip/wheels/fc/ab/d4/5da2067ac95b36618c629a5f93f809425700506f72c9732fac\n",
            "Successfully built farm-haystack sentence-transformers events docopt\n",
            "Installing collected packages: sseclient-py, sentencepiece, monotonic, mmh3, generalimport, events, docopt, azure-common, url-normalize, rank-bm25, protobuf, num2words, isodate, cattrs, canals, boilerpy3, backoff, tiktoken, requests-cache, posthog, azure-core, transformers, quantulum3, msrest, azure-ai-formrecognizer, sentence-transformers, farm-haystack\n",
            "  Attempting uninstall: protobuf\n",
            "    Found existing installation: protobuf 3.20.3\n",
            "    Uninstalling protobuf-3.20.3:\n",
            "      Successfully uninstalled protobuf-3.20.3\n",
            "  Attempting uninstall: transformers\n",
            "    Found existing installation: transformers 4.28.0\n",
            "    Uninstalling transformers-4.28.0:\n",
            "      Successfully uninstalled transformers-4.28.0\n",
            "\u001b[31mERROR: pip's dependency resolver does not currently take into account all the packages that are installed. This behaviour is the source of the following dependency conflicts.\n",
            "tensorflow 2.12.0 requires protobuf!=4.21.0,!=4.21.1,!=4.21.2,!=4.21.3,!=4.21.4,!=4.21.5,<5.0.0dev,>=3.20.3, but you have protobuf 3.20.2 which is incompatible.\n",
            "tensorflow-metadata 1.13.1 requires protobuf<5,>=3.20.3, but you have protobuf 3.20.2 which is incompatible.\u001b[0m\u001b[31m\n",
            "\u001b[0mSuccessfully installed azure-ai-formrecognizer-3.3.0b1 azure-common-1.1.28 azure-core-1.26.4 backoff-2.2.1 boilerpy3-1.0.6 canals-0.1.2 cattrs-22.2.0 docopt-0.6.2 events-0.4 farm-haystack-1.17.0rc0 generalimport-0.3.1 isodate-0.6.1 mmh3-3.1.0 monotonic-1.6 msrest-0.7.1 num2words-0.5.12 posthog-3.0.1 protobuf-3.20.2 quantulum3-0.9.0 rank-bm25-0.2.2 requests-cache-0.9.8 sentence-transformers-2.2.2 sentencepiece-0.1.99 sseclient-py-1.7.2 tiktoken-0.4.0 transformers-4.28.1 url-normalize-1.4.3\n"
          ]
        },
        {
          "output_type": "display_data",
          "data": {
            "application/vnd.colab-display-data+json": {
              "pip_warning": {
                "packages": [
                  "google",
                  "transformers"
                ]
              }
            }
          },
          "metadata": {}
        }
      ]
    },
    {
      "cell_type": "code",
      "source": [
        "#installin the FarmReader library which is used by Tokenzier\n",
        "!pip install FARMReader"
      ],
      "metadata": {
        "colab": {
          "base_uri": "https://localhost:8080/"
        },
        "id": "QSkdQb_6Essj",
        "outputId": "8b523a7e-600b-426c-b53f-4c198fe6ff18"
      },
      "execution_count": null,
      "outputs": [
        {
          "output_type": "stream",
          "name": "stdout",
          "text": [
            "Looking in indexes: https://pypi.org/simple, https://us-python.pkg.dev/colab-wheels/public/simple/\n",
            "\u001b[31mERROR: Could not find a version that satisfies the requirement FARMReader (from versions: none)\u001b[0m\u001b[31m\n",
            "\u001b[0m\u001b[31mERROR: No matching distribution found for FARMReader\u001b[0m\u001b[31m\n",
            "\u001b[0m"
          ]
        }
      ]
    },
    {
      "cell_type": "markdown",
      "source": [
        "### Loading the pretrained model and tokenizer"
      ],
      "metadata": {
        "id": "wGKgEs7-Mpii"
      }
    },
    {
      "cell_type": "code",
      "source": [
        "# Loading the Pretrained model from about loader\n",
        "model = AutoModelForQuestionAnswering.from_pretrained(Modelname)\n",
        "#Loading the Tokenzier for above imported model\n",
        "tokenizer = AutoTokenizer.from_pretrained(Modelname)"
      ],
      "metadata": {
        "id": "rLRBAs0LxWi3",
        "colab": {
          "base_uri": "https://localhost:8080/",
          "height": 177,
          "referenced_widgets": [
            "8f1895dc517e4131bbba5d1539d5a6b1",
            "71caa3eaab944726bd5752558a590c78",
            "fbcef8f1d13447ddb0a6b2f498c8209e",
            "fe70afff57f9420a9e31c5914bcb2985",
            "508f5c3d1fd245f3903872c2032c45de",
            "cf68b5605852492da93d22aef33e8cc3",
            "b70fe17f60ed49658a4890a36ab53c02",
            "29e67c19a56e4b55b824db81b5aa6a23",
            "9b1e5294aaf74488b5ceb77c17ebf4a2",
            "e304bcb6eab44a67942dcdfcf8c22b59",
            "d82444ffeb0d470683ea0f00b4d586d7",
            "2d416eb986784edcb644dccb78e97946",
            "91deaa35e00b4fb1a354055dd829b582",
            "8478aafe966248069c2ccacab8ef48dc",
            "36ccfeb300b54605b8e57885174aa857",
            "1bb93c18ff7f4125a012e02dc7d6c4c8",
            "52b397ad00fa4197968c50451a017671",
            "2be4b5fca62943c79d60821ad82c0718",
            "16c5ed48d1834acb86fb5776ac30eed9",
            "d2119ad877694e12872bbcc4344dd565",
            "f5e2f590b50b403e9f93d6184b7fa30d",
            "c9a2803346de40feb1bb1f23bc239023",
            "626e6b863d844487940fc8eec9593c6f",
            "d95f764c3231414d827ff070c69b699c",
            "a90d951386c6471b8f83d7a8406eb171",
            "516ab7aef5b44debafafc325b011ae5e",
            "6d869a610c9948ef92a5f5065b8885cb",
            "6a472d3ae865436a842a029e2a9db9c2",
            "0af81007f2cc4812ac180fb3c3e812cd",
            "49d2df1a7cee478aaec81a31506a19c6",
            "a93456d8c38d41c0a0414ec52bc82d8d",
            "900921bf6c8242529b87c72ac74d6480",
            "a059c0b416bd401d9b12fa1fa35caead",
            "4f42087f719d473082837f1067eec00c",
            "c49775104d1d4cebaed76caf746a1e52",
            "5f12d85c4ab747d7a9fb811b30ea5566",
            "11b628a22b0c4a569754463e1c4cbc10",
            "4832b95198af4ba1943aa2b534d57145",
            "d69626e693f2418280097cca3670b06b",
            "a4da73bee56b4ecbbf043bf74c7927cb",
            "6792ba2f5de34311942438db7a1ffd09",
            "0c2ee3fe16d944baa62b57ceed356329",
            "8aad2e634c2d476cb133ca960b71868d",
            "2409d642f8a54d87b9f0a95d4780821f",
            "bd5195c851f446c299bef12a89016ff8",
            "804cea7ef0ab42bab97a232423c83d21",
            "bda40837fdce40e583731b7424061583",
            "07a593aae47c4bf094f847cc10456b3f",
            "4894461a203e474db5ecd43129a6c1d3",
            "8ecb94076df54f72b5a550c55c25fea2",
            "f2b5fb6475484db5bd9627460b4d5c88",
            "7920d17df9a34f4c8fb710fcc02ef7ff",
            "15836ff4887141538411e0c1faaf7f8f",
            "669b8736f77d4f3ca630a52599bf6591",
            "74f53e3f060642f7a752365ab7160445"
          ]
        },
        "outputId": "40df4deb-2c7a-4c50-db6a-29be97c00433"
      },
      "execution_count": null,
      "outputs": [
        {
          "output_type": "display_data",
          "data": {
            "text/plain": [
              "Downloading (…)lve/main/config.json:   0%|          | 0.00/605 [00:00<?, ?B/s]"
            ],
            "application/vnd.jupyter.widget-view+json": {
              "version_major": 2,
              "version_minor": 0,
              "model_id": "8f1895dc517e4131bbba5d1539d5a6b1"
            }
          },
          "metadata": {}
        },
        {
          "output_type": "display_data",
          "data": {
            "text/plain": [
              "Downloading pytorch_model.bin:   0%|          | 0.00/1.11G [00:00<?, ?B/s]"
            ],
            "application/vnd.jupyter.widget-view+json": {
              "version_major": 2,
              "version_minor": 0,
              "model_id": "2d416eb986784edcb644dccb78e97946"
            }
          },
          "metadata": {}
        },
        {
          "output_type": "display_data",
          "data": {
            "text/plain": [
              "Downloading (…)okenizer_config.json:   0%|          | 0.00/79.0 [00:00<?, ?B/s]"
            ],
            "application/vnd.jupyter.widget-view+json": {
              "version_major": 2,
              "version_minor": 0,
              "model_id": "626e6b863d844487940fc8eec9593c6f"
            }
          },
          "metadata": {}
        },
        {
          "output_type": "display_data",
          "data": {
            "text/plain": [
              "Downloading (…)tencepiece.bpe.model:   0%|          | 0.00/5.07M [00:00<?, ?B/s]"
            ],
            "application/vnd.jupyter.widget-view+json": {
              "version_major": 2,
              "version_minor": 0,
              "model_id": "4f42087f719d473082837f1067eec00c"
            }
          },
          "metadata": {}
        },
        {
          "output_type": "display_data",
          "data": {
            "text/plain": [
              "Downloading (…)cial_tokens_map.json:   0%|          | 0.00/150 [00:00<?, ?B/s]"
            ],
            "application/vnd.jupyter.widget-view+json": {
              "version_major": 2,
              "version_minor": 0,
              "model_id": "bd5195c851f446c299bef12a89016ff8"
            }
          },
          "metadata": {}
        }
      ]
    },
    {
      "cell_type": "code",
      "source": [
        "# helper functions\n",
        "def set_max_len_encd_stride(max_len, encd_stride):\n",
        "  # Store the provided values in new variables\n",
        "    max_len_ = max_len\n",
        "    encd_stride_ = encd_stride\n",
        "     # Return the stored values as a tuple\n",
        "    return max_len_, encd_stride_"
      ],
      "metadata": {
        "execution": {
          "iopub.status.busy": "2021-11-13T19:55:18.644340Z",
          "iopub.execute_input": "2021-11-13T19:55:18.644640Z",
          "iopub.status.idle": "2021-11-13T19:55:18.650244Z",
          "shell.execute_reply.started": "2021-11-13T19:55:18.644603Z",
          "shell.execute_reply": "2021-11-13T19:55:18.649402Z"
        },
        "trusted": true,
        "id": "T_Tp21YbtHHj"
      },
      "execution_count": null,
      "outputs": []
    },
    {
      "cell_type": "markdown",
      "source": [
        "## Preprocessing of data"
      ],
      "metadata": {
        "id": "Vvh8pmVytHHk"
      }
    },
    {
      "cell_type": "code",
      "source": [
        "from google.colab import drive\n",
        "drive.mount('/content/drive')"
      ],
      "metadata": {
        "colab": {
          "base_uri": "https://localhost:8080/"
        },
        "id": "_D4LLdNhB3ox",
        "outputId": "0f72ccd1-6635-43bc-9f73-52835ebaed5e"
      },
      "execution_count": null,
      "outputs": [
        {
          "output_type": "stream",
          "name": "stdout",
          "text": [
            "Mounted at /content/drive\n"
          ]
        }
      ]
    },
    {
      "cell_type": "code",
      "source": [
        "# Loading the tarin file by using pandas \n",
        "train_data_chai =  pd.read_csv(\"/content/drive/MyDrive/nlp final project/chaii-hindi-and-tamil-question-answering/train.csv\", encoding = \"utf-8\")\n",
        "train_data_chai = train_data_chai.sample(frac=1, random_state = random_seed)"
      ],
      "metadata": {
        "execution": {
          "iopub.status.busy": "2021-11-13T19:55:18.652183Z",
          "iopub.execute_input": "2021-11-13T19:55:18.652523Z",
          "iopub.status.idle": "2021-11-13T19:55:19.234963Z",
          "shell.execute_reply.started": "2021-11-13T19:55:18.652473Z",
          "shell.execute_reply": "2021-11-13T19:55:19.234245Z"
        },
        "trusted": true,
        "id": "GoWwJiFitHHl"
      },
      "execution_count": null,
      "outputs": []
    },
    {
      "cell_type": "code",
      "source": [
        "\n",
        "train_data_chai['question'] = train_data_chai['question'].apply(lambda x: x.lstrip())"
      ],
      "metadata": {
        "execution": {
          "iopub.status.busy": "2021-11-13T19:55:19.237498Z",
          "iopub.execute_input": "2021-11-13T19:55:19.237988Z",
          "iopub.status.idle": "2021-11-13T19:55:19.246741Z",
          "shell.execute_reply.started": "2021-11-13T19:55:19.237952Z",
          "shell.execute_reply": "2021-11-13T19:55:19.245985Z"
        },
        "trusted": true,
        "id": "-D6xP9wOtHHm"
      },
      "execution_count": null,
      "outputs": []
    },
    {
      "cell_type": "code",
      "source": [
        "train_data_chai= train_data_chai[:].reset_index(drop=True)\n",
        "\n",
        "valid_data_chai = train_data_chai[-10:].reset_index(drop=True)\n",
        "\n"
      ],
      "metadata": {
        "execution": {
          "iopub.status.busy": "2021-11-13T19:55:19.249776Z",
          "iopub.execute_input": "2021-11-13T19:55:19.250024Z",
          "iopub.status.idle": "2021-11-13T19:55:19.257003Z",
          "shell.execute_reply.started": "2021-11-13T19:55:19.249999Z",
          "shell.execute_reply": "2021-11-13T19:55:19.256183Z"
        },
        "trusted": true,
        "id": "9L40LMa0tHHm"
      },
      "execution_count": null,
      "outputs": []
    },
    {
      "cell_type": "markdown",
      "source": [
        "### Displaying the few records in tarining data"
      ],
      "metadata": {
        "id": "rUKJGP_nNfs5"
      }
    },
    {
      "cell_type": "code",
      "source": [
        "train_data_chai.head()"
      ],
      "metadata": {
        "execution": {
          "iopub.status.busy": "2021-11-13T19:55:19.258269Z",
          "iopub.execute_input": "2021-11-13T19:55:19.258695Z",
          "iopub.status.idle": "2021-11-13T19:55:19.280899Z",
          "shell.execute_reply.started": "2021-11-13T19:55:19.258648Z",
          "shell.execute_reply": "2021-11-13T19:55:19.280226Z"
        },
        "trusted": true,
        "colab": {
          "base_uri": "https://localhost:8080/",
          "height": 284
        },
        "id": "kQzGjW1HtHHn",
        "outputId": "4d758dde-025a-4c71-acc0-cd4987022de4"
      },
      "execution_count": null,
      "outputs": [
        {
          "output_type": "execute_result",
          "data": {
            "text/plain": [
              "          id                                            context  \\\n",
              "0  cd1339bdd  एरीजोना (English: Arizona) संयुक्त राज्य अमेरि...   \n",
              "1  4c38392a6  ஆத்திரேலியா, ஆஸ்திரேலியா அல்லது அவுஸ்திரேலியா ...   \n",
              "2  0d35dc007  अग्नि पंचम (अग्नि-५) भारत की अन्तरमहाद्वीपीय ब...   \n",
              "3  5b2018761  मदर टेरेसा (२६ अगस्त १९१० - ५ सितम्बर १९९७) जि...   \n",
              "4  4f99ce2e0  எம். ஜி. ஆர் என்ற பெயரில் புகழ் பெற்ற, மருதூர்...   \n",
              "\n",
              "                                          question     answer_text  \\\n",
              "0                     एरिज़ोना की राजधानी क्या है?         फ़िनक्स   \n",
              "1             அவுஸ்திரேலியா நாட்டின் தலைநகரம் எது?         கான்பரா   \n",
              "2    अग्नि पंचम(५) मिसाइल की लम्बाई कितने मीटर है?              17   \n",
              "3               मदर टेरेसा की राष्ट्रीयता क्या थी?          भारतीय   \n",
              "4  நடிகர் ம. கோ. இராமச்சந்திரன் எப்போது பிறந்தார்?  சனவரி 17, 1917   \n",
              "\n",
              "   answer_start language  \n",
              "0           123    hindi  \n",
              "1          1472    tamil  \n",
              "2           155    hindi  \n",
              "3           328    hindi  \n",
              "4            99    tamil  "
            ],
            "text/html": [
              "\n",
              "  <div id=\"df-df07efd2-5690-4c5b-8a5a-98c1b94638e5\">\n",
              "    <div class=\"colab-df-container\">\n",
              "      <div>\n",
              "<style scoped>\n",
              "    .dataframe tbody tr th:only-of-type {\n",
              "        vertical-align: middle;\n",
              "    }\n",
              "\n",
              "    .dataframe tbody tr th {\n",
              "        vertical-align: top;\n",
              "    }\n",
              "\n",
              "    .dataframe thead th {\n",
              "        text-align: right;\n",
              "    }\n",
              "</style>\n",
              "<table border=\"1\" class=\"dataframe\">\n",
              "  <thead>\n",
              "    <tr style=\"text-align: right;\">\n",
              "      <th></th>\n",
              "      <th>id</th>\n",
              "      <th>context</th>\n",
              "      <th>question</th>\n",
              "      <th>answer_text</th>\n",
              "      <th>answer_start</th>\n",
              "      <th>language</th>\n",
              "    </tr>\n",
              "  </thead>\n",
              "  <tbody>\n",
              "    <tr>\n",
              "      <th>0</th>\n",
              "      <td>cd1339bdd</td>\n",
              "      <td>एरीजोना (English: Arizona) संयुक्त राज्य अमेरि...</td>\n",
              "      <td>एरिज़ोना की राजधानी क्या है?</td>\n",
              "      <td>फ़िनक्स</td>\n",
              "      <td>123</td>\n",
              "      <td>hindi</td>\n",
              "    </tr>\n",
              "    <tr>\n",
              "      <th>1</th>\n",
              "      <td>4c38392a6</td>\n",
              "      <td>ஆத்திரேலியா, ஆஸ்திரேலியா அல்லது அவுஸ்திரேலியா ...</td>\n",
              "      <td>அவுஸ்திரேலியா நாட்டின் தலைநகரம் எது?</td>\n",
              "      <td>கான்பரா</td>\n",
              "      <td>1472</td>\n",
              "      <td>tamil</td>\n",
              "    </tr>\n",
              "    <tr>\n",
              "      <th>2</th>\n",
              "      <td>0d35dc007</td>\n",
              "      <td>अग्नि पंचम (अग्नि-५) भारत की अन्तरमहाद्वीपीय ब...</td>\n",
              "      <td>अग्नि पंचम(५) मिसाइल की लम्बाई कितने मीटर है?</td>\n",
              "      <td>17</td>\n",
              "      <td>155</td>\n",
              "      <td>hindi</td>\n",
              "    </tr>\n",
              "    <tr>\n",
              "      <th>3</th>\n",
              "      <td>5b2018761</td>\n",
              "      <td>मदर टेरेसा (२६ अगस्त १९१० - ५ सितम्बर १९९७) जि...</td>\n",
              "      <td>मदर टेरेसा की राष्ट्रीयता क्या थी?</td>\n",
              "      <td>भारतीय</td>\n",
              "      <td>328</td>\n",
              "      <td>hindi</td>\n",
              "    </tr>\n",
              "    <tr>\n",
              "      <th>4</th>\n",
              "      <td>4f99ce2e0</td>\n",
              "      <td>எம். ஜி. ஆர் என்ற பெயரில் புகழ் பெற்ற, மருதூர்...</td>\n",
              "      <td>நடிகர் ம. கோ. இராமச்சந்திரன் எப்போது பிறந்தார்?</td>\n",
              "      <td>சனவரி 17, 1917</td>\n",
              "      <td>99</td>\n",
              "      <td>tamil</td>\n",
              "    </tr>\n",
              "  </tbody>\n",
              "</table>\n",
              "</div>\n",
              "      <button class=\"colab-df-convert\" onclick=\"convertToInteractive('df-df07efd2-5690-4c5b-8a5a-98c1b94638e5')\"\n",
              "              title=\"Convert this dataframe to an interactive table.\"\n",
              "              style=\"display:none;\">\n",
              "        \n",
              "  <svg xmlns=\"http://www.w3.org/2000/svg\" height=\"24px\"viewBox=\"0 0 24 24\"\n",
              "       width=\"24px\">\n",
              "    <path d=\"M0 0h24v24H0V0z\" fill=\"none\"/>\n",
              "    <path d=\"M18.56 5.44l.94 2.06.94-2.06 2.06-.94-2.06-.94-.94-2.06-.94 2.06-2.06.94zm-11 1L8.5 8.5l.94-2.06 2.06-.94-2.06-.94L8.5 2.5l-.94 2.06-2.06.94zm10 10l.94 2.06.94-2.06 2.06-.94-2.06-.94-.94-2.06-.94 2.06-2.06.94z\"/><path d=\"M17.41 7.96l-1.37-1.37c-.4-.4-.92-.59-1.43-.59-.52 0-1.04.2-1.43.59L10.3 9.45l-7.72 7.72c-.78.78-.78 2.05 0 2.83L4 21.41c.39.39.9.59 1.41.59.51 0 1.02-.2 1.41-.59l7.78-7.78 2.81-2.81c.8-.78.8-2.07 0-2.86zM5.41 20L4 18.59l7.72-7.72 1.47 1.35L5.41 20z\"/>\n",
              "  </svg>\n",
              "      </button>\n",
              "      \n",
              "  <style>\n",
              "    .colab-df-container {\n",
              "      display:flex;\n",
              "      flex-wrap:wrap;\n",
              "      gap: 12px;\n",
              "    }\n",
              "\n",
              "    .colab-df-convert {\n",
              "      background-color: #E8F0FE;\n",
              "      border: none;\n",
              "      border-radius: 50%;\n",
              "      cursor: pointer;\n",
              "      display: none;\n",
              "      fill: #1967D2;\n",
              "      height: 32px;\n",
              "      padding: 0 0 0 0;\n",
              "      width: 32px;\n",
              "    }\n",
              "\n",
              "    .colab-df-convert:hover {\n",
              "      background-color: #E2EBFA;\n",
              "      box-shadow: 0px 1px 2px rgba(60, 64, 67, 0.3), 0px 1px 3px 1px rgba(60, 64, 67, 0.15);\n",
              "      fill: #174EA6;\n",
              "    }\n",
              "\n",
              "    [theme=dark] .colab-df-convert {\n",
              "      background-color: #3B4455;\n",
              "      fill: #D2E3FC;\n",
              "    }\n",
              "\n",
              "    [theme=dark] .colab-df-convert:hover {\n",
              "      background-color: #434B5C;\n",
              "      box-shadow: 0px 1px 3px 1px rgba(0, 0, 0, 0.15);\n",
              "      filter: drop-shadow(0px 1px 2px rgba(0, 0, 0, 0.3));\n",
              "      fill: #FFFFFF;\n",
              "    }\n",
              "  </style>\n",
              "\n",
              "      <script>\n",
              "        const buttonEl =\n",
              "          document.querySelector('#df-df07efd2-5690-4c5b-8a5a-98c1b94638e5 button.colab-df-convert');\n",
              "        buttonEl.style.display =\n",
              "          google.colab.kernel.accessAllowed ? 'block' : 'none';\n",
              "\n",
              "        async function convertToInteractive(key) {\n",
              "          const element = document.querySelector('#df-df07efd2-5690-4c5b-8a5a-98c1b94638e5');\n",
              "          const dataTable =\n",
              "            await google.colab.kernel.invokeFunction('convertToInteractive',\n",
              "                                                     [key], {});\n",
              "          if (!dataTable) return;\n",
              "\n",
              "          const docLinkHtml = 'Like what you see? Visit the ' +\n",
              "            '<a target=\"_blank\" href=https://colab.research.google.com/notebooks/data_table.ipynb>data table notebook</a>'\n",
              "            + ' to learn more about interactive tables.';\n",
              "          element.innerHTML = '';\n",
              "          dataTable['output_type'] = 'display_data';\n",
              "          await google.colab.output.renderOutput(dataTable, element);\n",
              "          const docLink = document.createElement('div');\n",
              "          docLink.innerHTML = docLinkHtml;\n",
              "          element.appendChild(docLink);\n",
              "        }\n",
              "      </script>\n",
              "    </div>\n",
              "  </div>\n",
              "  "
            ]
          },
          "metadata": {},
          "execution_count": 13
        }
      ]
    },
    {
      "cell_type": "code",
      "source": [
        "#Loading MLQA file\n",
        "data_mldq = pd.read_csv(\"/content/drive/MyDrive/nlp final project/chaii-hindi-and-tamil-question-answering/mlqa_hindi (1).csv\", encoding = \"utf-8\")\n",
        "#Loading data_xquad file\n",
        "data_xquad = pd.read_csv(\"/content/drive/MyDrive/nlp final project/chaii-hindi-and-tamil-question-answering/xquad (1).csv\", encoding = \"utf-8\")"
      ],
      "metadata": {
        "execution": {
          "iopub.status.busy": "2021-11-13T19:55:19.281937Z",
          "iopub.execute_input": "2021-11-13T19:55:19.282166Z",
          "iopub.status.idle": "2021-11-13T19:55:19.590592Z",
          "shell.execute_reply.started": "2021-11-13T19:55:19.282136Z",
          "shell.execute_reply": "2021-11-13T19:55:19.589825Z"
        },
        "trusted": true,
        "id": "qu0RA9NotHHn"
      },
      "execution_count": null,
      "outputs": []
    },
    {
      "cell_type": "markdown",
      "source": [
        "### Displaying the mldq records"
      ],
      "metadata": {
        "id": "Stm8dgiJOPK3"
      }
    },
    {
      "cell_type": "code",
      "source": [
        "data_mldq.head()"
      ],
      "metadata": {
        "execution": {
          "iopub.status.busy": "2021-11-13T19:55:19.591738Z",
          "iopub.execute_input": "2021-11-13T19:55:19.591977Z",
          "iopub.status.idle": "2021-11-13T19:55:19.602748Z",
          "shell.execute_reply.started": "2021-11-13T19:55:19.591945Z",
          "shell.execute_reply": "2021-11-13T19:55:19.602023Z"
        },
        "trusted": true,
        "colab": {
          "base_uri": "https://localhost:8080/",
          "height": 206
        },
        "id": "e43RK_b_tHHn",
        "outputId": "42a132f8-1bc5-4c47-95dd-92ef70f4adb0"
      },
      "execution_count": null,
      "outputs": [
        {
          "output_type": "execute_result",
          "data": {
            "text/plain": [
              "                                             context  \\\n",
              "0  पैरेनकाइमा कोशिकाएं वे जीवित कोशिकाएं हैं जो स...   \n",
              "1  पैरेनकाइमा कोशिकाएं वे जीवित कोशिकाएं हैं जो स...   \n",
              "2  जाइलेम कोशिकाएं कोशिका भित्तियों की लिग्निकृत ...   \n",
              "3  फ्लोएम उच्चतर पौधों में आहार का संवहन करने वाल...   \n",
              "4  सभी हवाई अवयवों की बाह्यत्वचा, जड़ों को छोड़कर...   \n",
              "\n",
              "                                            question  \\\n",
              "0  एक प्रकार की रस्सी का नाम बताईए जो सेलेरी के क...   \n",
              "1  क्या चीज पूरी तरह से पैरेनकाइमा कोशिकाओं से बन...   \n",
              "2       जाइलेम किस प्रकार के पौधों में पाया जाता है?   \n",
              "3                                 लेप्टोम क्या है?\\n   \n",
              "4           बाह्यत्वचा की कोशिकाएं क्या कर सकती हैं?   \n",
              "\n",
              "                            answer_text  answer_start language  \n",
              "0                           कोलेन्काइमा          2267    hindi  \n",
              "1                              पत्तियां           158    hindi  \n",
              "2                        ट्रेकियोफाइटों           292    hindi  \n",
              "3  समान कार्य करने वाला एक अधिक सरल ऊतक           969    hindi  \n",
              "4                    क्यटिन का संश्लेषण           433    hindi  "
            ],
            "text/html": [
              "\n",
              "  <div id=\"df-304b61df-6211-40d5-9106-4ad8246c60a8\">\n",
              "    <div class=\"colab-df-container\">\n",
              "      <div>\n",
              "<style scoped>\n",
              "    .dataframe tbody tr th:only-of-type {\n",
              "        vertical-align: middle;\n",
              "    }\n",
              "\n",
              "    .dataframe tbody tr th {\n",
              "        vertical-align: top;\n",
              "    }\n",
              "\n",
              "    .dataframe thead th {\n",
              "        text-align: right;\n",
              "    }\n",
              "</style>\n",
              "<table border=\"1\" class=\"dataframe\">\n",
              "  <thead>\n",
              "    <tr style=\"text-align: right;\">\n",
              "      <th></th>\n",
              "      <th>context</th>\n",
              "      <th>question</th>\n",
              "      <th>answer_text</th>\n",
              "      <th>answer_start</th>\n",
              "      <th>language</th>\n",
              "    </tr>\n",
              "  </thead>\n",
              "  <tbody>\n",
              "    <tr>\n",
              "      <th>0</th>\n",
              "      <td>पैरेनकाइमा कोशिकाएं वे जीवित कोशिकाएं हैं जो स...</td>\n",
              "      <td>एक प्रकार की रस्सी का नाम बताईए जो सेलेरी के क...</td>\n",
              "      <td>कोलेन्काइमा</td>\n",
              "      <td>2267</td>\n",
              "      <td>hindi</td>\n",
              "    </tr>\n",
              "    <tr>\n",
              "      <th>1</th>\n",
              "      <td>पैरेनकाइमा कोशिकाएं वे जीवित कोशिकाएं हैं जो स...</td>\n",
              "      <td>क्या चीज पूरी तरह से पैरेनकाइमा कोशिकाओं से बन...</td>\n",
              "      <td>पत्तियां</td>\n",
              "      <td>158</td>\n",
              "      <td>hindi</td>\n",
              "    </tr>\n",
              "    <tr>\n",
              "      <th>2</th>\n",
              "      <td>जाइलेम कोशिकाएं कोशिका भित्तियों की लिग्निकृत ...</td>\n",
              "      <td>जाइलेम किस प्रकार के पौधों में पाया जाता है?</td>\n",
              "      <td>ट्रेकियोफाइटों</td>\n",
              "      <td>292</td>\n",
              "      <td>hindi</td>\n",
              "    </tr>\n",
              "    <tr>\n",
              "      <th>3</th>\n",
              "      <td>फ्लोएम उच्चतर पौधों में आहार का संवहन करने वाल...</td>\n",
              "      <td>लेप्टोम क्या है?\\n</td>\n",
              "      <td>समान कार्य करने वाला एक अधिक सरल ऊतक</td>\n",
              "      <td>969</td>\n",
              "      <td>hindi</td>\n",
              "    </tr>\n",
              "    <tr>\n",
              "      <th>4</th>\n",
              "      <td>सभी हवाई अवयवों की बाह्यत्वचा, जड़ों को छोड़कर...</td>\n",
              "      <td>बाह्यत्वचा की कोशिकाएं क्या कर सकती हैं?</td>\n",
              "      <td>क्यटिन का संश्लेषण</td>\n",
              "      <td>433</td>\n",
              "      <td>hindi</td>\n",
              "    </tr>\n",
              "  </tbody>\n",
              "</table>\n",
              "</div>\n",
              "      <button class=\"colab-df-convert\" onclick=\"convertToInteractive('df-304b61df-6211-40d5-9106-4ad8246c60a8')\"\n",
              "              title=\"Convert this dataframe to an interactive table.\"\n",
              "              style=\"display:none;\">\n",
              "        \n",
              "  <svg xmlns=\"http://www.w3.org/2000/svg\" height=\"24px\"viewBox=\"0 0 24 24\"\n",
              "       width=\"24px\">\n",
              "    <path d=\"M0 0h24v24H0V0z\" fill=\"none\"/>\n",
              "    <path d=\"M18.56 5.44l.94 2.06.94-2.06 2.06-.94-2.06-.94-.94-2.06-.94 2.06-2.06.94zm-11 1L8.5 8.5l.94-2.06 2.06-.94-2.06-.94L8.5 2.5l-.94 2.06-2.06.94zm10 10l.94 2.06.94-2.06 2.06-.94-2.06-.94-.94-2.06-.94 2.06-2.06.94z\"/><path d=\"M17.41 7.96l-1.37-1.37c-.4-.4-.92-.59-1.43-.59-.52 0-1.04.2-1.43.59L10.3 9.45l-7.72 7.72c-.78.78-.78 2.05 0 2.83L4 21.41c.39.39.9.59 1.41.59.51 0 1.02-.2 1.41-.59l7.78-7.78 2.81-2.81c.8-.78.8-2.07 0-2.86zM5.41 20L4 18.59l7.72-7.72 1.47 1.35L5.41 20z\"/>\n",
              "  </svg>\n",
              "      </button>\n",
              "      \n",
              "  <style>\n",
              "    .colab-df-container {\n",
              "      display:flex;\n",
              "      flex-wrap:wrap;\n",
              "      gap: 12px;\n",
              "    }\n",
              "\n",
              "    .colab-df-convert {\n",
              "      background-color: #E8F0FE;\n",
              "      border: none;\n",
              "      border-radius: 50%;\n",
              "      cursor: pointer;\n",
              "      display: none;\n",
              "      fill: #1967D2;\n",
              "      height: 32px;\n",
              "      padding: 0 0 0 0;\n",
              "      width: 32px;\n",
              "    }\n",
              "\n",
              "    .colab-df-convert:hover {\n",
              "      background-color: #E2EBFA;\n",
              "      box-shadow: 0px 1px 2px rgba(60, 64, 67, 0.3), 0px 1px 3px 1px rgba(60, 64, 67, 0.15);\n",
              "      fill: #174EA6;\n",
              "    }\n",
              "\n",
              "    [theme=dark] .colab-df-convert {\n",
              "      background-color: #3B4455;\n",
              "      fill: #D2E3FC;\n",
              "    }\n",
              "\n",
              "    [theme=dark] .colab-df-convert:hover {\n",
              "      background-color: #434B5C;\n",
              "      box-shadow: 0px 1px 3px 1px rgba(0, 0, 0, 0.15);\n",
              "      filter: drop-shadow(0px 1px 2px rgba(0, 0, 0, 0.3));\n",
              "      fill: #FFFFFF;\n",
              "    }\n",
              "  </style>\n",
              "\n",
              "      <script>\n",
              "        const buttonEl =\n",
              "          document.querySelector('#df-304b61df-6211-40d5-9106-4ad8246c60a8 button.colab-df-convert');\n",
              "        buttonEl.style.display =\n",
              "          google.colab.kernel.accessAllowed ? 'block' : 'none';\n",
              "\n",
              "        async function convertToInteractive(key) {\n",
              "          const element = document.querySelector('#df-304b61df-6211-40d5-9106-4ad8246c60a8');\n",
              "          const dataTable =\n",
              "            await google.colab.kernel.invokeFunction('convertToInteractive',\n",
              "                                                     [key], {});\n",
              "          if (!dataTable) return;\n",
              "\n",
              "          const docLinkHtml = 'Like what you see? Visit the ' +\n",
              "            '<a target=\"_blank\" href=https://colab.research.google.com/notebooks/data_table.ipynb>data table notebook</a>'\n",
              "            + ' to learn more about interactive tables.';\n",
              "          element.innerHTML = '';\n",
              "          dataTable['output_type'] = 'display_data';\n",
              "          await google.colab.output.renderOutput(dataTable, element);\n",
              "          const docLink = document.createElement('div');\n",
              "          docLink.innerHTML = docLinkHtml;\n",
              "          element.appendChild(docLink);\n",
              "        }\n",
              "      </script>\n",
              "    </div>\n",
              "  </div>\n",
              "  "
            ]
          },
          "metadata": {},
          "execution_count": 15
        }
      ]
    },
    {
      "cell_type": "code",
      "source": [
        "# cleaning the input data by removing leading white space from the beginning of the questions. \n",
        "data_mldq['question'] = data_mldq['question'].apply(lambda x: x.lstrip())\n",
        "data_xquad['question'] = data_xquad['question'].apply(lambda x: x.lstrip())"
      ],
      "metadata": {
        "execution": {
          "iopub.status.busy": "2021-11-13T19:55:19.604181Z",
          "iopub.execute_input": "2021-11-13T19:55:19.604708Z",
          "iopub.status.idle": "2021-11-13T19:55:19.615665Z",
          "shell.execute_reply.started": "2021-11-13T19:55:19.604670Z",
          "shell.execute_reply": "2021-11-13T19:55:19.615002Z"
        },
        "trusted": true,
        "id": "dKOL2IZrtHHo"
      },
      "execution_count": null,
      "outputs": []
    },
    {
      "cell_type": "code",
      "source": [
        "#concat() method of Pandas DataFrame is used to concatenate the two input DataFrames vertically (i.e., along rows) by default. \n",
        "#This means that the resulting DataFrame will have all the rows of train_data_chai\n",
        "train_data = pd.concat([train_data_chai, data_mldq])\n"
      ],
      "metadata": {
        "execution": {
          "iopub.status.busy": "2021-11-13T19:55:19.622816Z",
          "iopub.execute_input": "2021-11-13T19:55:19.623379Z",
          "iopub.status.idle": "2021-11-13T19:55:19.633381Z",
          "shell.execute_reply.started": "2021-11-13T19:55:19.623287Z",
          "shell.execute_reply": "2021-11-13T19:55:19.632712Z"
        },
        "trusted": true,
        "id": "04AMO_VgtHHo"
      },
      "execution_count": null,
      "outputs": []
    },
    {
      "cell_type": "markdown",
      "source": [
        "### Displaying validation data"
      ],
      "metadata": {
        "id": "xuSVxZJ-PC6I"
      }
    },
    {
      "cell_type": "code",
      "source": [
        "valid_data_chai"
      ],
      "metadata": {
        "execution": {
          "iopub.status.busy": "2021-11-13T19:55:19.637534Z",
          "iopub.execute_input": "2021-11-13T19:55:19.637856Z",
          "iopub.status.idle": "2021-11-13T19:55:19.651715Z",
          "shell.execute_reply.started": "2021-11-13T19:55:19.637822Z",
          "shell.execute_reply": "2021-11-13T19:55:19.650977Z"
        },
        "trusted": true,
        "colab": {
          "base_uri": "https://localhost:8080/",
          "height": 459
        },
        "id": "iN5mkybxtHHo",
        "outputId": "8b95028e-6f02-49a5-f806-9205e415d072"
      },
      "execution_count": null,
      "outputs": [
        {
          "output_type": "execute_result",
          "data": {
            "text/plain": [
              "          id                                            context  \\\n",
              "0  9aaa1672a  गुरु केलुचरण महापात्र (1926-2004) ने ओड़िसीका ...   \n",
              "1  a317a9b97  ஜெ.ஜெ. தாம்சன்(Joseph John Thomson) என்று பொது...   \n",
              "2  435396d8e  अग्नि पंचम (अग्नि-५) भारत की अन्तरमहाद्वीपीय ब...   \n",
              "3  f64641ba1  யானை பாலூட்டி வகையைச் சேர்ந்த ஒரு தாவர உண்ணி (...   \n",
              "4  a52d546ba  பூமியில் வாழும் பாலூட்டிகளில் மிக மிக முன்னேற்...   \n",
              "5  3acaa3b86  अरस्तु (384 ईपू – 322 ईपू) यूनानी दार्शनिक थे।...   \n",
              "6  7a3e4bf22  சிந்துவெளி நாகரிகம் (Indus Valley Civilisation...   \n",
              "7  de34ee0a0  Main Page\\n\\nआई एन एस (INS) विक्रमादित्य  (San...   \n",
              "8  518fc3aaf  अमेरिकी क्रन्तिकारी युद्ध (1775–1783), जिसे सं...   \n",
              "9  632812604  संयुक्त राष्ट्र संगठन का मुख्यालय [[[अमेरिका]]...   \n",
              "\n",
              "                                            question  \\\n",
              "0           गुरु केलुचरण महापात्र का जन्म कब हुआ था?   \n",
              "1                அணுவை முதலில் கண்டுபிடித்தவர் யார்?   \n",
              "2  अग्नि पंचम(५) मिसाइल की परिचालन सीमा कितने किल...   \n",
              "3     ஆண் யானை சராசரி எத்தனை மீட்டர் உயரம் இருக்கும்   \n",
              "4    ஆதி மனிதனின் வேட்டையாட பயன்படுத்திய ஆயுதம் எது?   \n",
              "5                        अरस्तु का जन्म कहाँ हुआ था?   \n",
              "6           சிந்து சமவெளி நாகரிகம் எப்போது உருவானது?   \n",
              "7  आई एन एस विक्रमादित्य युद्धपोत किस कंपनी द्वार...   \n",
              "8  कितने अमेरिकी उपनिवेश अमेरिकी क्रांति का हिस्स...   \n",
              "9            संयुक्त राष्ट्र का मुख्यालय कहाँ पर है?   \n",
              "\n",
              "                   answer_text  answer_start language  \n",
              "0                         1926            23    hindi  \n",
              "1       சர் ஜோசப் ஜான் தாம்சன்            65    tamil  \n",
              "2              5 हजार किलोमीटर           261    hindi  \n",
              "3                            3          2284    tamil  \n",
              "4                கற்கருவிகளைப்          2448    tamil  \n",
              "5                   स्टेगेरिया            97    hindi  \n",
              "6                   கி.மு 3000           305    tamil  \n",
              "7  माइकोलैव ब्लैक ‍सी शिपयार्ड           460    hindi  \n",
              "8                         तेरह           147    hindi  \n",
              "9                    न्युयॉर्क            50    hindi  "
            ],
            "text/html": [
              "\n",
              "  <div id=\"df-a8982159-2840-4da9-924d-868558a44030\">\n",
              "    <div class=\"colab-df-container\">\n",
              "      <div>\n",
              "<style scoped>\n",
              "    .dataframe tbody tr th:only-of-type {\n",
              "        vertical-align: middle;\n",
              "    }\n",
              "\n",
              "    .dataframe tbody tr th {\n",
              "        vertical-align: top;\n",
              "    }\n",
              "\n",
              "    .dataframe thead th {\n",
              "        text-align: right;\n",
              "    }\n",
              "</style>\n",
              "<table border=\"1\" class=\"dataframe\">\n",
              "  <thead>\n",
              "    <tr style=\"text-align: right;\">\n",
              "      <th></th>\n",
              "      <th>id</th>\n",
              "      <th>context</th>\n",
              "      <th>question</th>\n",
              "      <th>answer_text</th>\n",
              "      <th>answer_start</th>\n",
              "      <th>language</th>\n",
              "    </tr>\n",
              "  </thead>\n",
              "  <tbody>\n",
              "    <tr>\n",
              "      <th>0</th>\n",
              "      <td>9aaa1672a</td>\n",
              "      <td>गुरु केलुचरण महापात्र (1926-2004) ने ओड़िसीका ...</td>\n",
              "      <td>गुरु केलुचरण महापात्र का जन्म कब हुआ था?</td>\n",
              "      <td>1926</td>\n",
              "      <td>23</td>\n",
              "      <td>hindi</td>\n",
              "    </tr>\n",
              "    <tr>\n",
              "      <th>1</th>\n",
              "      <td>a317a9b97</td>\n",
              "      <td>ஜெ.ஜெ. தாம்சன்(Joseph John Thomson) என்று பொது...</td>\n",
              "      <td>அணுவை முதலில் கண்டுபிடித்தவர் யார்?</td>\n",
              "      <td>சர் ஜோசப் ஜான் தாம்சன்</td>\n",
              "      <td>65</td>\n",
              "      <td>tamil</td>\n",
              "    </tr>\n",
              "    <tr>\n",
              "      <th>2</th>\n",
              "      <td>435396d8e</td>\n",
              "      <td>अग्नि पंचम (अग्नि-५) भारत की अन्तरमहाद्वीपीय ब...</td>\n",
              "      <td>अग्नि पंचम(५) मिसाइल की परिचालन सीमा कितने किल...</td>\n",
              "      <td>5 हजार किलोमीटर</td>\n",
              "      <td>261</td>\n",
              "      <td>hindi</td>\n",
              "    </tr>\n",
              "    <tr>\n",
              "      <th>3</th>\n",
              "      <td>f64641ba1</td>\n",
              "      <td>யானை பாலூட்டி வகையைச் சேர்ந்த ஒரு தாவர உண்ணி (...</td>\n",
              "      <td>ஆண் யானை சராசரி எத்தனை மீட்டர் உயரம் இருக்கும்</td>\n",
              "      <td>3</td>\n",
              "      <td>2284</td>\n",
              "      <td>tamil</td>\n",
              "    </tr>\n",
              "    <tr>\n",
              "      <th>4</th>\n",
              "      <td>a52d546ba</td>\n",
              "      <td>பூமியில் வாழும் பாலூட்டிகளில் மிக மிக முன்னேற்...</td>\n",
              "      <td>ஆதி மனிதனின் வேட்டையாட பயன்படுத்திய ஆயுதம் எது?</td>\n",
              "      <td>கற்கருவிகளைப்</td>\n",
              "      <td>2448</td>\n",
              "      <td>tamil</td>\n",
              "    </tr>\n",
              "    <tr>\n",
              "      <th>5</th>\n",
              "      <td>3acaa3b86</td>\n",
              "      <td>अरस्तु (384 ईपू – 322 ईपू) यूनानी दार्शनिक थे।...</td>\n",
              "      <td>अरस्तु का जन्म कहाँ हुआ था?</td>\n",
              "      <td>स्टेगेरिया</td>\n",
              "      <td>97</td>\n",
              "      <td>hindi</td>\n",
              "    </tr>\n",
              "    <tr>\n",
              "      <th>6</th>\n",
              "      <td>7a3e4bf22</td>\n",
              "      <td>சிந்துவெளி நாகரிகம் (Indus Valley Civilisation...</td>\n",
              "      <td>சிந்து சமவெளி நாகரிகம் எப்போது உருவானது?</td>\n",
              "      <td>கி.மு 3000</td>\n",
              "      <td>305</td>\n",
              "      <td>tamil</td>\n",
              "    </tr>\n",
              "    <tr>\n",
              "      <th>7</th>\n",
              "      <td>de34ee0a0</td>\n",
              "      <td>Main Page\\n\\nआई एन एस (INS) विक्रमादित्य  (San...</td>\n",
              "      <td>आई एन एस विक्रमादित्य युद्धपोत किस कंपनी द्वार...</td>\n",
              "      <td>माइकोलैव ब्लैक ‍सी शिपयार्ड</td>\n",
              "      <td>460</td>\n",
              "      <td>hindi</td>\n",
              "    </tr>\n",
              "    <tr>\n",
              "      <th>8</th>\n",
              "      <td>518fc3aaf</td>\n",
              "      <td>अमेरिकी क्रन्तिकारी युद्ध (1775–1783), जिसे सं...</td>\n",
              "      <td>कितने अमेरिकी उपनिवेश अमेरिकी क्रांति का हिस्स...</td>\n",
              "      <td>तेरह</td>\n",
              "      <td>147</td>\n",
              "      <td>hindi</td>\n",
              "    </tr>\n",
              "    <tr>\n",
              "      <th>9</th>\n",
              "      <td>632812604</td>\n",
              "      <td>संयुक्त राष्ट्र संगठन का मुख्यालय [[[अमेरिका]]...</td>\n",
              "      <td>संयुक्त राष्ट्र का मुख्यालय कहाँ पर है?</td>\n",
              "      <td>न्युयॉर्क</td>\n",
              "      <td>50</td>\n",
              "      <td>hindi</td>\n",
              "    </tr>\n",
              "  </tbody>\n",
              "</table>\n",
              "</div>\n",
              "      <button class=\"colab-df-convert\" onclick=\"convertToInteractive('df-a8982159-2840-4da9-924d-868558a44030')\"\n",
              "              title=\"Convert this dataframe to an interactive table.\"\n",
              "              style=\"display:none;\">\n",
              "        \n",
              "  <svg xmlns=\"http://www.w3.org/2000/svg\" height=\"24px\"viewBox=\"0 0 24 24\"\n",
              "       width=\"24px\">\n",
              "    <path d=\"M0 0h24v24H0V0z\" fill=\"none\"/>\n",
              "    <path d=\"M18.56 5.44l.94 2.06.94-2.06 2.06-.94-2.06-.94-.94-2.06-.94 2.06-2.06.94zm-11 1L8.5 8.5l.94-2.06 2.06-.94-2.06-.94L8.5 2.5l-.94 2.06-2.06.94zm10 10l.94 2.06.94-2.06 2.06-.94-2.06-.94-.94-2.06-.94 2.06-2.06.94z\"/><path d=\"M17.41 7.96l-1.37-1.37c-.4-.4-.92-.59-1.43-.59-.52 0-1.04.2-1.43.59L10.3 9.45l-7.72 7.72c-.78.78-.78 2.05 0 2.83L4 21.41c.39.39.9.59 1.41.59.51 0 1.02-.2 1.41-.59l7.78-7.78 2.81-2.81c.8-.78.8-2.07 0-2.86zM5.41 20L4 18.59l7.72-7.72 1.47 1.35L5.41 20z\"/>\n",
              "  </svg>\n",
              "      </button>\n",
              "      \n",
              "  <style>\n",
              "    .colab-df-container {\n",
              "      display:flex;\n",
              "      flex-wrap:wrap;\n",
              "      gap: 12px;\n",
              "    }\n",
              "\n",
              "    .colab-df-convert {\n",
              "      background-color: #E8F0FE;\n",
              "      border: none;\n",
              "      border-radius: 50%;\n",
              "      cursor: pointer;\n",
              "      display: none;\n",
              "      fill: #1967D2;\n",
              "      height: 32px;\n",
              "      padding: 0 0 0 0;\n",
              "      width: 32px;\n",
              "    }\n",
              "\n",
              "    .colab-df-convert:hover {\n",
              "      background-color: #E2EBFA;\n",
              "      box-shadow: 0px 1px 2px rgba(60, 64, 67, 0.3), 0px 1px 3px 1px rgba(60, 64, 67, 0.15);\n",
              "      fill: #174EA6;\n",
              "    }\n",
              "\n",
              "    [theme=dark] .colab-df-convert {\n",
              "      background-color: #3B4455;\n",
              "      fill: #D2E3FC;\n",
              "    }\n",
              "\n",
              "    [theme=dark] .colab-df-convert:hover {\n",
              "      background-color: #434B5C;\n",
              "      box-shadow: 0px 1px 3px 1px rgba(0, 0, 0, 0.15);\n",
              "      filter: drop-shadow(0px 1px 2px rgba(0, 0, 0, 0.3));\n",
              "      fill: #FFFFFF;\n",
              "    }\n",
              "  </style>\n",
              "\n",
              "      <script>\n",
              "        const buttonEl =\n",
              "          document.querySelector('#df-a8982159-2840-4da9-924d-868558a44030 button.colab-df-convert');\n",
              "        buttonEl.style.display =\n",
              "          google.colab.kernel.accessAllowed ? 'block' : 'none';\n",
              "\n",
              "        async function convertToInteractive(key) {\n",
              "          const element = document.querySelector('#df-a8982159-2840-4da9-924d-868558a44030');\n",
              "          const dataTable =\n",
              "            await google.colab.kernel.invokeFunction('convertToInteractive',\n",
              "                                                     [key], {});\n",
              "          if (!dataTable) return;\n",
              "\n",
              "          const docLinkHtml = 'Like what you see? Visit the ' +\n",
              "            '<a target=\"_blank\" href=https://colab.research.google.com/notebooks/data_table.ipynb>data table notebook</a>'\n",
              "            + ' to learn more about interactive tables.';\n",
              "          element.innerHTML = '';\n",
              "          dataTable['output_type'] = 'display_data';\n",
              "          await google.colab.output.renderOutput(dataTable, element);\n",
              "          const docLink = document.createElement('div');\n",
              "          docLink.innerHTML = docLinkHtml;\n",
              "          element.appendChild(docLink);\n",
              "        }\n",
              "      </script>\n",
              "    </div>\n",
              "  </div>\n",
              "  "
            ]
          },
          "metadata": {},
          "execution_count": 19
        }
      ]
    },
    {
      "cell_type": "code",
      "source": [
        "#displaying the tamil data\n",
        "valid_data_chai_tamil = valid_data_chai[valid_data_chai.language == 'tamil']\n",
        "valid_data_chai_tamil"
      ],
      "metadata": {
        "execution": {
          "iopub.status.busy": "2021-11-13T19:55:19.652987Z",
          "iopub.execute_input": "2021-11-13T19:55:19.653235Z",
          "iopub.status.idle": "2021-11-13T19:55:19.664333Z",
          "shell.execute_reply.started": "2021-11-13T19:55:19.653205Z",
          "shell.execute_reply": "2021-11-13T19:55:19.663589Z"
        },
        "trusted": true,
        "colab": {
          "base_uri": "https://localhost:8080/",
          "height": 270
        },
        "id": "y9681OhbtHHo",
        "outputId": "a6ca405d-92f7-4755-aca8-85fa4797742a"
      },
      "execution_count": null,
      "outputs": [
        {
          "output_type": "execute_result",
          "data": {
            "text/plain": [
              "          id                                            context  \\\n",
              "1  a317a9b97  ஜெ.ஜெ. தாம்சன்(Joseph John Thomson) என்று பொது...   \n",
              "3  f64641ba1  யானை பாலூட்டி வகையைச் சேர்ந்த ஒரு தாவர உண்ணி (...   \n",
              "4  a52d546ba  பூமியில் வாழும் பாலூட்டிகளில் மிக மிக முன்னேற்...   \n",
              "6  7a3e4bf22  சிந்துவெளி நாகரிகம் (Indus Valley Civilisation...   \n",
              "\n",
              "                                          question             answer_text  \\\n",
              "1              அணுவை முதலில் கண்டுபிடித்தவர் யார்?  சர் ஜோசப் ஜான் தாம்சன்   \n",
              "3   ஆண் யானை சராசரி எத்தனை மீட்டர் உயரம் இருக்கும்                       3   \n",
              "4  ஆதி மனிதனின் வேட்டையாட பயன்படுத்திய ஆயுதம் எது?           கற்கருவிகளைப்   \n",
              "6         சிந்து சமவெளி நாகரிகம் எப்போது உருவானது?              கி.மு 3000   \n",
              "\n",
              "   answer_start language  \n",
              "1            65    tamil  \n",
              "3          2284    tamil  \n",
              "4          2448    tamil  \n",
              "6           305    tamil  "
            ],
            "text/html": [
              "\n",
              "  <div id=\"df-4ba310b4-a413-42ca-8495-e03d349df9db\">\n",
              "    <div class=\"colab-df-container\">\n",
              "      <div>\n",
              "<style scoped>\n",
              "    .dataframe tbody tr th:only-of-type {\n",
              "        vertical-align: middle;\n",
              "    }\n",
              "\n",
              "    .dataframe tbody tr th {\n",
              "        vertical-align: top;\n",
              "    }\n",
              "\n",
              "    .dataframe thead th {\n",
              "        text-align: right;\n",
              "    }\n",
              "</style>\n",
              "<table border=\"1\" class=\"dataframe\">\n",
              "  <thead>\n",
              "    <tr style=\"text-align: right;\">\n",
              "      <th></th>\n",
              "      <th>id</th>\n",
              "      <th>context</th>\n",
              "      <th>question</th>\n",
              "      <th>answer_text</th>\n",
              "      <th>answer_start</th>\n",
              "      <th>language</th>\n",
              "    </tr>\n",
              "  </thead>\n",
              "  <tbody>\n",
              "    <tr>\n",
              "      <th>1</th>\n",
              "      <td>a317a9b97</td>\n",
              "      <td>ஜெ.ஜெ. தாம்சன்(Joseph John Thomson) என்று பொது...</td>\n",
              "      <td>அணுவை முதலில் கண்டுபிடித்தவர் யார்?</td>\n",
              "      <td>சர் ஜோசப் ஜான் தாம்சன்</td>\n",
              "      <td>65</td>\n",
              "      <td>tamil</td>\n",
              "    </tr>\n",
              "    <tr>\n",
              "      <th>3</th>\n",
              "      <td>f64641ba1</td>\n",
              "      <td>யானை பாலூட்டி வகையைச் சேர்ந்த ஒரு தாவர உண்ணி (...</td>\n",
              "      <td>ஆண் யானை சராசரி எத்தனை மீட்டர் உயரம் இருக்கும்</td>\n",
              "      <td>3</td>\n",
              "      <td>2284</td>\n",
              "      <td>tamil</td>\n",
              "    </tr>\n",
              "    <tr>\n",
              "      <th>4</th>\n",
              "      <td>a52d546ba</td>\n",
              "      <td>பூமியில் வாழும் பாலூட்டிகளில் மிக மிக முன்னேற்...</td>\n",
              "      <td>ஆதி மனிதனின் வேட்டையாட பயன்படுத்திய ஆயுதம் எது?</td>\n",
              "      <td>கற்கருவிகளைப்</td>\n",
              "      <td>2448</td>\n",
              "      <td>tamil</td>\n",
              "    </tr>\n",
              "    <tr>\n",
              "      <th>6</th>\n",
              "      <td>7a3e4bf22</td>\n",
              "      <td>சிந்துவெளி நாகரிகம் (Indus Valley Civilisation...</td>\n",
              "      <td>சிந்து சமவெளி நாகரிகம் எப்போது உருவானது?</td>\n",
              "      <td>கி.மு 3000</td>\n",
              "      <td>305</td>\n",
              "      <td>tamil</td>\n",
              "    </tr>\n",
              "  </tbody>\n",
              "</table>\n",
              "</div>\n",
              "      <button class=\"colab-df-convert\" onclick=\"convertToInteractive('df-4ba310b4-a413-42ca-8495-e03d349df9db')\"\n",
              "              title=\"Convert this dataframe to an interactive table.\"\n",
              "              style=\"display:none;\">\n",
              "        \n",
              "  <svg xmlns=\"http://www.w3.org/2000/svg\" height=\"24px\"viewBox=\"0 0 24 24\"\n",
              "       width=\"24px\">\n",
              "    <path d=\"M0 0h24v24H0V0z\" fill=\"none\"/>\n",
              "    <path d=\"M18.56 5.44l.94 2.06.94-2.06 2.06-.94-2.06-.94-.94-2.06-.94 2.06-2.06.94zm-11 1L8.5 8.5l.94-2.06 2.06-.94-2.06-.94L8.5 2.5l-.94 2.06-2.06.94zm10 10l.94 2.06.94-2.06 2.06-.94-2.06-.94-.94-2.06-.94 2.06-2.06.94z\"/><path d=\"M17.41 7.96l-1.37-1.37c-.4-.4-.92-.59-1.43-.59-.52 0-1.04.2-1.43.59L10.3 9.45l-7.72 7.72c-.78.78-.78 2.05 0 2.83L4 21.41c.39.39.9.59 1.41.59.51 0 1.02-.2 1.41-.59l7.78-7.78 2.81-2.81c.8-.78.8-2.07 0-2.86zM5.41 20L4 18.59l7.72-7.72 1.47 1.35L5.41 20z\"/>\n",
              "  </svg>\n",
              "      </button>\n",
              "      \n",
              "  <style>\n",
              "    .colab-df-container {\n",
              "      display:flex;\n",
              "      flex-wrap:wrap;\n",
              "      gap: 12px;\n",
              "    }\n",
              "\n",
              "    .colab-df-convert {\n",
              "      background-color: #E8F0FE;\n",
              "      border: none;\n",
              "      border-radius: 50%;\n",
              "      cursor: pointer;\n",
              "      display: none;\n",
              "      fill: #1967D2;\n",
              "      height: 32px;\n",
              "      padding: 0 0 0 0;\n",
              "      width: 32px;\n",
              "    }\n",
              "\n",
              "    .colab-df-convert:hover {\n",
              "      background-color: #E2EBFA;\n",
              "      box-shadow: 0px 1px 2px rgba(60, 64, 67, 0.3), 0px 1px 3px 1px rgba(60, 64, 67, 0.15);\n",
              "      fill: #174EA6;\n",
              "    }\n",
              "\n",
              "    [theme=dark] .colab-df-convert {\n",
              "      background-color: #3B4455;\n",
              "      fill: #D2E3FC;\n",
              "    }\n",
              "\n",
              "    [theme=dark] .colab-df-convert:hover {\n",
              "      background-color: #434B5C;\n",
              "      box-shadow: 0px 1px 3px 1px rgba(0, 0, 0, 0.15);\n",
              "      filter: drop-shadow(0px 1px 2px rgba(0, 0, 0, 0.3));\n",
              "      fill: #FFFFFF;\n",
              "    }\n",
              "  </style>\n",
              "\n",
              "      <script>\n",
              "        const buttonEl =\n",
              "          document.querySelector('#df-4ba310b4-a413-42ca-8495-e03d349df9db button.colab-df-convert');\n",
              "        buttonEl.style.display =\n",
              "          google.colab.kernel.accessAllowed ? 'block' : 'none';\n",
              "\n",
              "        async function convertToInteractive(key) {\n",
              "          const element = document.querySelector('#df-4ba310b4-a413-42ca-8495-e03d349df9db');\n",
              "          const dataTable =\n",
              "            await google.colab.kernel.invokeFunction('convertToInteractive',\n",
              "                                                     [key], {});\n",
              "          if (!dataTable) return;\n",
              "\n",
              "          const docLinkHtml = 'Like what you see? Visit the ' +\n",
              "            '<a target=\"_blank\" href=https://colab.research.google.com/notebooks/data_table.ipynb>data table notebook</a>'\n",
              "            + ' to learn more about interactive tables.';\n",
              "          element.innerHTML = '';\n",
              "          dataTable['output_type'] = 'display_data';\n",
              "          await google.colab.output.renderOutput(dataTable, element);\n",
              "          const docLink = document.createElement('div');\n",
              "          docLink.innerHTML = docLinkHtml;\n",
              "          element.appendChild(docLink);\n",
              "        }\n",
              "      </script>\n",
              "    </div>\n",
              "  </div>\n",
              "  "
            ]
          },
          "metadata": {},
          "execution_count": 20
        }
      ]
    },
    {
      "cell_type": "code",
      "source": [
        "#displaying the hindi data\n",
        "valid_data_chai_hindi = valid_data_chai[valid_data_chai.language == 'hindi']\n",
        "valid_data_chai_hindi"
      ],
      "metadata": {
        "execution": {
          "iopub.status.busy": "2021-11-13T19:55:19.665822Z",
          "iopub.execute_input": "2021-11-13T19:55:19.666072Z",
          "iopub.status.idle": "2021-11-13T19:55:19.681581Z",
          "shell.execute_reply.started": "2021-11-13T19:55:19.666040Z",
          "shell.execute_reply": "2021-11-13T19:55:19.680828Z"
        },
        "trusted": true,
        "colab": {
          "base_uri": "https://localhost:8080/",
          "height": 237
        },
        "id": "oPNTfJwctHHp",
        "outputId": "994c3849-69e4-4ce3-c5dd-3c958e13118a"
      },
      "execution_count": null,
      "outputs": [
        {
          "output_type": "execute_result",
          "data": {
            "text/plain": [
              "          id                                            context  \\\n",
              "0  9aaa1672a  गुरु केलुचरण महापात्र (1926-2004) ने ओड़िसीका ...   \n",
              "2  435396d8e  अग्नि पंचम (अग्नि-५) भारत की अन्तरमहाद्वीपीय ब...   \n",
              "5  3acaa3b86  अरस्तु (384 ईपू – 322 ईपू) यूनानी दार्शनिक थे।...   \n",
              "7  de34ee0a0  Main Page\\n\\nआई एन एस (INS) विक्रमादित्य  (San...   \n",
              "8  518fc3aaf  अमेरिकी क्रन्तिकारी युद्ध (1775–1783), जिसे सं...   \n",
              "9  632812604  संयुक्त राष्ट्र संगठन का मुख्यालय [[[अमेरिका]]...   \n",
              "\n",
              "                                            question  \\\n",
              "0           गुरु केलुचरण महापात्र का जन्म कब हुआ था?   \n",
              "2  अग्नि पंचम(५) मिसाइल की परिचालन सीमा कितने किल...   \n",
              "5                        अरस्तु का जन्म कहाँ हुआ था?   \n",
              "7  आई एन एस विक्रमादित्य युद्धपोत किस कंपनी द्वार...   \n",
              "8  कितने अमेरिकी उपनिवेश अमेरिकी क्रांति का हिस्स...   \n",
              "9            संयुक्त राष्ट्र का मुख्यालय कहाँ पर है?   \n",
              "\n",
              "                   answer_text  answer_start language  \n",
              "0                         1926            23    hindi  \n",
              "2              5 हजार किलोमीटर           261    hindi  \n",
              "5                   स्टेगेरिया            97    hindi  \n",
              "7  माइकोलैव ब्लैक ‍सी शिपयार्ड           460    hindi  \n",
              "8                         तेरह           147    hindi  \n",
              "9                    न्युयॉर्क            50    hindi  "
            ],
            "text/html": [
              "\n",
              "  <div id=\"df-500de60c-dd2e-43fc-8365-5240d41cbbb6\">\n",
              "    <div class=\"colab-df-container\">\n",
              "      <div>\n",
              "<style scoped>\n",
              "    .dataframe tbody tr th:only-of-type {\n",
              "        vertical-align: middle;\n",
              "    }\n",
              "\n",
              "    .dataframe tbody tr th {\n",
              "        vertical-align: top;\n",
              "    }\n",
              "\n",
              "    .dataframe thead th {\n",
              "        text-align: right;\n",
              "    }\n",
              "</style>\n",
              "<table border=\"1\" class=\"dataframe\">\n",
              "  <thead>\n",
              "    <tr style=\"text-align: right;\">\n",
              "      <th></th>\n",
              "      <th>id</th>\n",
              "      <th>context</th>\n",
              "      <th>question</th>\n",
              "      <th>answer_text</th>\n",
              "      <th>answer_start</th>\n",
              "      <th>language</th>\n",
              "    </tr>\n",
              "  </thead>\n",
              "  <tbody>\n",
              "    <tr>\n",
              "      <th>0</th>\n",
              "      <td>9aaa1672a</td>\n",
              "      <td>गुरु केलुचरण महापात्र (1926-2004) ने ओड़िसीका ...</td>\n",
              "      <td>गुरु केलुचरण महापात्र का जन्म कब हुआ था?</td>\n",
              "      <td>1926</td>\n",
              "      <td>23</td>\n",
              "      <td>hindi</td>\n",
              "    </tr>\n",
              "    <tr>\n",
              "      <th>2</th>\n",
              "      <td>435396d8e</td>\n",
              "      <td>अग्नि पंचम (अग्नि-५) भारत की अन्तरमहाद्वीपीय ब...</td>\n",
              "      <td>अग्नि पंचम(५) मिसाइल की परिचालन सीमा कितने किल...</td>\n",
              "      <td>5 हजार किलोमीटर</td>\n",
              "      <td>261</td>\n",
              "      <td>hindi</td>\n",
              "    </tr>\n",
              "    <tr>\n",
              "      <th>5</th>\n",
              "      <td>3acaa3b86</td>\n",
              "      <td>अरस्तु (384 ईपू – 322 ईपू) यूनानी दार्शनिक थे।...</td>\n",
              "      <td>अरस्तु का जन्म कहाँ हुआ था?</td>\n",
              "      <td>स्टेगेरिया</td>\n",
              "      <td>97</td>\n",
              "      <td>hindi</td>\n",
              "    </tr>\n",
              "    <tr>\n",
              "      <th>7</th>\n",
              "      <td>de34ee0a0</td>\n",
              "      <td>Main Page\\n\\nआई एन एस (INS) विक्रमादित्य  (San...</td>\n",
              "      <td>आई एन एस विक्रमादित्य युद्धपोत किस कंपनी द्वार...</td>\n",
              "      <td>माइकोलैव ब्लैक ‍सी शिपयार्ड</td>\n",
              "      <td>460</td>\n",
              "      <td>hindi</td>\n",
              "    </tr>\n",
              "    <tr>\n",
              "      <th>8</th>\n",
              "      <td>518fc3aaf</td>\n",
              "      <td>अमेरिकी क्रन्तिकारी युद्ध (1775–1783), जिसे सं...</td>\n",
              "      <td>कितने अमेरिकी उपनिवेश अमेरिकी क्रांति का हिस्स...</td>\n",
              "      <td>तेरह</td>\n",
              "      <td>147</td>\n",
              "      <td>hindi</td>\n",
              "    </tr>\n",
              "    <tr>\n",
              "      <th>9</th>\n",
              "      <td>632812604</td>\n",
              "      <td>संयुक्त राष्ट्र संगठन का मुख्यालय [[[अमेरिका]]...</td>\n",
              "      <td>संयुक्त राष्ट्र का मुख्यालय कहाँ पर है?</td>\n",
              "      <td>न्युयॉर्क</td>\n",
              "      <td>50</td>\n",
              "      <td>hindi</td>\n",
              "    </tr>\n",
              "  </tbody>\n",
              "</table>\n",
              "</div>\n",
              "      <button class=\"colab-df-convert\" onclick=\"convertToInteractive('df-500de60c-dd2e-43fc-8365-5240d41cbbb6')\"\n",
              "              title=\"Convert this dataframe to an interactive table.\"\n",
              "              style=\"display:none;\">\n",
              "        \n",
              "  <svg xmlns=\"http://www.w3.org/2000/svg\" height=\"24px\"viewBox=\"0 0 24 24\"\n",
              "       width=\"24px\">\n",
              "    <path d=\"M0 0h24v24H0V0z\" fill=\"none\"/>\n",
              "    <path d=\"M18.56 5.44l.94 2.06.94-2.06 2.06-.94-2.06-.94-.94-2.06-.94 2.06-2.06.94zm-11 1L8.5 8.5l.94-2.06 2.06-.94-2.06-.94L8.5 2.5l-.94 2.06-2.06.94zm10 10l.94 2.06.94-2.06 2.06-.94-2.06-.94-.94-2.06-.94 2.06-2.06.94z\"/><path d=\"M17.41 7.96l-1.37-1.37c-.4-.4-.92-.59-1.43-.59-.52 0-1.04.2-1.43.59L10.3 9.45l-7.72 7.72c-.78.78-.78 2.05 0 2.83L4 21.41c.39.39.9.59 1.41.59.51 0 1.02-.2 1.41-.59l7.78-7.78 2.81-2.81c.8-.78.8-2.07 0-2.86zM5.41 20L4 18.59l7.72-7.72 1.47 1.35L5.41 20z\"/>\n",
              "  </svg>\n",
              "      </button>\n",
              "      \n",
              "  <style>\n",
              "    .colab-df-container {\n",
              "      display:flex;\n",
              "      flex-wrap:wrap;\n",
              "      gap: 12px;\n",
              "    }\n",
              "\n",
              "    .colab-df-convert {\n",
              "      background-color: #E8F0FE;\n",
              "      border: none;\n",
              "      border-radius: 50%;\n",
              "      cursor: pointer;\n",
              "      display: none;\n",
              "      fill: #1967D2;\n",
              "      height: 32px;\n",
              "      padding: 0 0 0 0;\n",
              "      width: 32px;\n",
              "    }\n",
              "\n",
              "    .colab-df-convert:hover {\n",
              "      background-color: #E2EBFA;\n",
              "      box-shadow: 0px 1px 2px rgba(60, 64, 67, 0.3), 0px 1px 3px 1px rgba(60, 64, 67, 0.15);\n",
              "      fill: #174EA6;\n",
              "    }\n",
              "\n",
              "    [theme=dark] .colab-df-convert {\n",
              "      background-color: #3B4455;\n",
              "      fill: #D2E3FC;\n",
              "    }\n",
              "\n",
              "    [theme=dark] .colab-df-convert:hover {\n",
              "      background-color: #434B5C;\n",
              "      box-shadow: 0px 1px 3px 1px rgba(0, 0, 0, 0.15);\n",
              "      filter: drop-shadow(0px 1px 2px rgba(0, 0, 0, 0.3));\n",
              "      fill: #FFFFFF;\n",
              "    }\n",
              "  </style>\n",
              "\n",
              "      <script>\n",
              "        const buttonEl =\n",
              "          document.querySelector('#df-500de60c-dd2e-43fc-8365-5240d41cbbb6 button.colab-df-convert');\n",
              "        buttonEl.style.display =\n",
              "          google.colab.kernel.accessAllowed ? 'block' : 'none';\n",
              "\n",
              "        async function convertToInteractive(key) {\n",
              "          const element = document.querySelector('#df-500de60c-dd2e-43fc-8365-5240d41cbbb6');\n",
              "          const dataTable =\n",
              "            await google.colab.kernel.invokeFunction('convertToInteractive',\n",
              "                                                     [key], {});\n",
              "          if (!dataTable) return;\n",
              "\n",
              "          const docLinkHtml = 'Like what you see? Visit the ' +\n",
              "            '<a target=\"_blank\" href=https://colab.research.google.com/notebooks/data_table.ipynb>data table notebook</a>'\n",
              "            + ' to learn more about interactive tables.';\n",
              "          element.innerHTML = '';\n",
              "          dataTable['output_type'] = 'display_data';\n",
              "          await google.colab.output.renderOutput(dataTable, element);\n",
              "          const docLink = document.createElement('div');\n",
              "          docLink.innerHTML = docLinkHtml;\n",
              "          element.appendChild(docLink);\n",
              "        }\n",
              "      </script>\n",
              "    </div>\n",
              "  </div>\n",
              "  "
            ]
          },
          "metadata": {},
          "execution_count": 21
        }
      ]
    },
    {
      "cell_type": "markdown",
      "source": [
        "### Displaying train data "
      ],
      "metadata": {
        "id": "VYtZfhCpPrJQ"
      }
    },
    {
      "cell_type": "code",
      "source": [
        "#Displaying train data using head function\n",
        "train_data.head()"
      ],
      "metadata": {
        "execution": {
          "iopub.status.busy": "2021-11-13T19:55:19.682902Z",
          "iopub.execute_input": "2021-11-13T19:55:19.683149Z",
          "iopub.status.idle": "2021-11-13T19:55:19.735855Z",
          "shell.execute_reply.started": "2021-11-13T19:55:19.683118Z",
          "shell.execute_reply": "2021-11-13T19:55:19.734886Z"
        },
        "trusted": true,
        "colab": {
          "base_uri": "https://localhost:8080/",
          "height": 284
        },
        "id": "O3JapNNQtHHp",
        "outputId": "5bd02fad-3c50-4fa0-828b-eaf895bdf03d"
      },
      "execution_count": null,
      "outputs": [
        {
          "output_type": "execute_result",
          "data": {
            "text/plain": [
              "          id                                            context  \\\n",
              "0  cd1339bdd  एरीजोना (English: Arizona) संयुक्त राज्य अमेरि...   \n",
              "1  4c38392a6  ஆத்திரேலியா, ஆஸ்திரேலியா அல்லது அவுஸ்திரேலியா ...   \n",
              "2  0d35dc007  अग्नि पंचम (अग्नि-५) भारत की अन्तरमहाद्वीपीय ब...   \n",
              "3  5b2018761  मदर टेरेसा (२६ अगस्त १९१० - ५ सितम्बर १९९७) जि...   \n",
              "4  4f99ce2e0  எம். ஜி. ஆர் என்ற பெயரில் புகழ் பெற்ற, மருதூர்...   \n",
              "\n",
              "                                          question     answer_text  \\\n",
              "0                     एरिज़ोना की राजधानी क्या है?         फ़िनक्स   \n",
              "1             அவுஸ்திரேலியா நாட்டின் தலைநகரம் எது?         கான்பரா   \n",
              "2    अग्नि पंचम(५) मिसाइल की लम्बाई कितने मीटर है?              17   \n",
              "3               मदर टेरेसा की राष्ट्रीयता क्या थी?          भारतीय   \n",
              "4  நடிகர் ம. கோ. இராமச்சந்திரன் எப்போது பிறந்தார்?  சனவரி 17, 1917   \n",
              "\n",
              "   answer_start language  \n",
              "0           123    hindi  \n",
              "1          1472    tamil  \n",
              "2           155    hindi  \n",
              "3           328    hindi  \n",
              "4            99    tamil  "
            ],
            "text/html": [
              "\n",
              "  <div id=\"df-473cc2ae-bd16-4fce-9373-bf2dc575cd2a\">\n",
              "    <div class=\"colab-df-container\">\n",
              "      <div>\n",
              "<style scoped>\n",
              "    .dataframe tbody tr th:only-of-type {\n",
              "        vertical-align: middle;\n",
              "    }\n",
              "\n",
              "    .dataframe tbody tr th {\n",
              "        vertical-align: top;\n",
              "    }\n",
              "\n",
              "    .dataframe thead th {\n",
              "        text-align: right;\n",
              "    }\n",
              "</style>\n",
              "<table border=\"1\" class=\"dataframe\">\n",
              "  <thead>\n",
              "    <tr style=\"text-align: right;\">\n",
              "      <th></th>\n",
              "      <th>id</th>\n",
              "      <th>context</th>\n",
              "      <th>question</th>\n",
              "      <th>answer_text</th>\n",
              "      <th>answer_start</th>\n",
              "      <th>language</th>\n",
              "    </tr>\n",
              "  </thead>\n",
              "  <tbody>\n",
              "    <tr>\n",
              "      <th>0</th>\n",
              "      <td>cd1339bdd</td>\n",
              "      <td>एरीजोना (English: Arizona) संयुक्त राज्य अमेरि...</td>\n",
              "      <td>एरिज़ोना की राजधानी क्या है?</td>\n",
              "      <td>फ़िनक्स</td>\n",
              "      <td>123</td>\n",
              "      <td>hindi</td>\n",
              "    </tr>\n",
              "    <tr>\n",
              "      <th>1</th>\n",
              "      <td>4c38392a6</td>\n",
              "      <td>ஆத்திரேலியா, ஆஸ்திரேலியா அல்லது அவுஸ்திரேலியா ...</td>\n",
              "      <td>அவுஸ்திரேலியா நாட்டின் தலைநகரம் எது?</td>\n",
              "      <td>கான்பரா</td>\n",
              "      <td>1472</td>\n",
              "      <td>tamil</td>\n",
              "    </tr>\n",
              "    <tr>\n",
              "      <th>2</th>\n",
              "      <td>0d35dc007</td>\n",
              "      <td>अग्नि पंचम (अग्नि-५) भारत की अन्तरमहाद्वीपीय ब...</td>\n",
              "      <td>अग्नि पंचम(५) मिसाइल की लम्बाई कितने मीटर है?</td>\n",
              "      <td>17</td>\n",
              "      <td>155</td>\n",
              "      <td>hindi</td>\n",
              "    </tr>\n",
              "    <tr>\n",
              "      <th>3</th>\n",
              "      <td>5b2018761</td>\n",
              "      <td>मदर टेरेसा (२६ अगस्त १९१० - ५ सितम्बर १९९७) जि...</td>\n",
              "      <td>मदर टेरेसा की राष्ट्रीयता क्या थी?</td>\n",
              "      <td>भारतीय</td>\n",
              "      <td>328</td>\n",
              "      <td>hindi</td>\n",
              "    </tr>\n",
              "    <tr>\n",
              "      <th>4</th>\n",
              "      <td>4f99ce2e0</td>\n",
              "      <td>எம். ஜி. ஆர் என்ற பெயரில் புகழ் பெற்ற, மருதூர்...</td>\n",
              "      <td>நடிகர் ம. கோ. இராமச்சந்திரன் எப்போது பிறந்தார்?</td>\n",
              "      <td>சனவரி 17, 1917</td>\n",
              "      <td>99</td>\n",
              "      <td>tamil</td>\n",
              "    </tr>\n",
              "  </tbody>\n",
              "</table>\n",
              "</div>\n",
              "      <button class=\"colab-df-convert\" onclick=\"convertToInteractive('df-473cc2ae-bd16-4fce-9373-bf2dc575cd2a')\"\n",
              "              title=\"Convert this dataframe to an interactive table.\"\n",
              "              style=\"display:none;\">\n",
              "        \n",
              "  <svg xmlns=\"http://www.w3.org/2000/svg\" height=\"24px\"viewBox=\"0 0 24 24\"\n",
              "       width=\"24px\">\n",
              "    <path d=\"M0 0h24v24H0V0z\" fill=\"none\"/>\n",
              "    <path d=\"M18.56 5.44l.94 2.06.94-2.06 2.06-.94-2.06-.94-.94-2.06-.94 2.06-2.06.94zm-11 1L8.5 8.5l.94-2.06 2.06-.94-2.06-.94L8.5 2.5l-.94 2.06-2.06.94zm10 10l.94 2.06.94-2.06 2.06-.94-2.06-.94-.94-2.06-.94 2.06-2.06.94z\"/><path d=\"M17.41 7.96l-1.37-1.37c-.4-.4-.92-.59-1.43-.59-.52 0-1.04.2-1.43.59L10.3 9.45l-7.72 7.72c-.78.78-.78 2.05 0 2.83L4 21.41c.39.39.9.59 1.41.59.51 0 1.02-.2 1.41-.59l7.78-7.78 2.81-2.81c.8-.78.8-2.07 0-2.86zM5.41 20L4 18.59l7.72-7.72 1.47 1.35L5.41 20z\"/>\n",
              "  </svg>\n",
              "      </button>\n",
              "      \n",
              "  <style>\n",
              "    .colab-df-container {\n",
              "      display:flex;\n",
              "      flex-wrap:wrap;\n",
              "      gap: 12px;\n",
              "    }\n",
              "\n",
              "    .colab-df-convert {\n",
              "      background-color: #E8F0FE;\n",
              "      border: none;\n",
              "      border-radius: 50%;\n",
              "      cursor: pointer;\n",
              "      display: none;\n",
              "      fill: #1967D2;\n",
              "      height: 32px;\n",
              "      padding: 0 0 0 0;\n",
              "      width: 32px;\n",
              "    }\n",
              "\n",
              "    .colab-df-convert:hover {\n",
              "      background-color: #E2EBFA;\n",
              "      box-shadow: 0px 1px 2px rgba(60, 64, 67, 0.3), 0px 1px 3px 1px rgba(60, 64, 67, 0.15);\n",
              "      fill: #174EA6;\n",
              "    }\n",
              "\n",
              "    [theme=dark] .colab-df-convert {\n",
              "      background-color: #3B4455;\n",
              "      fill: #D2E3FC;\n",
              "    }\n",
              "\n",
              "    [theme=dark] .colab-df-convert:hover {\n",
              "      background-color: #434B5C;\n",
              "      box-shadow: 0px 1px 3px 1px rgba(0, 0, 0, 0.15);\n",
              "      filter: drop-shadow(0px 1px 2px rgba(0, 0, 0, 0.3));\n",
              "      fill: #FFFFFF;\n",
              "    }\n",
              "  </style>\n",
              "\n",
              "      <script>\n",
              "        const buttonEl =\n",
              "          document.querySelector('#df-473cc2ae-bd16-4fce-9373-bf2dc575cd2a button.colab-df-convert');\n",
              "        buttonEl.style.display =\n",
              "          google.colab.kernel.accessAllowed ? 'block' : 'none';\n",
              "\n",
              "        async function convertToInteractive(key) {\n",
              "          const element = document.querySelector('#df-473cc2ae-bd16-4fce-9373-bf2dc575cd2a');\n",
              "          const dataTable =\n",
              "            await google.colab.kernel.invokeFunction('convertToInteractive',\n",
              "                                                     [key], {});\n",
              "          if (!dataTable) return;\n",
              "\n",
              "          const docLinkHtml = 'Like what you see? Visit the ' +\n",
              "            '<a target=\"_blank\" href=https://colab.research.google.com/notebooks/data_table.ipynb>data table notebook</a>'\n",
              "            + ' to learn more about interactive tables.';\n",
              "          element.innerHTML = '';\n",
              "          dataTable['output_type'] = 'display_data';\n",
              "          await google.colab.output.renderOutput(dataTable, element);\n",
              "          const docLink = document.createElement('div');\n",
              "          docLink.innerHTML = docLinkHtml;\n",
              "          element.appendChild(docLink);\n",
              "        }\n",
              "      </script>\n",
              "    </div>\n",
              "  </div>\n",
              "  "
            ]
          },
          "metadata": {},
          "execution_count": 25
        }
      ]
    },
    {
      "cell_type": "code",
      "source": [
        "train_data = train_data.reset_index(drop=True)\n",
        "train_data"
      ],
      "metadata": {
        "execution": {
          "iopub.status.busy": "2021-11-13T19:55:19.737698Z",
          "iopub.execute_input": "2021-11-13T19:55:19.737979Z",
          "iopub.status.idle": "2021-11-13T19:55:19.761114Z",
          "shell.execute_reply.started": "2021-11-13T19:55:19.737943Z",
          "shell.execute_reply": "2021-11-13T19:55:19.760445Z"
        },
        "trusted": true,
        "colab": {
          "base_uri": "https://localhost:8080/",
          "height": 519
        },
        "id": "DMQ7YKAKtHHp",
        "outputId": "aa98c903-32e0-4537-98b5-82898af25319"
      },
      "execution_count": null,
      "outputs": [
        {
          "output_type": "execute_result",
          "data": {
            "text/plain": [
              "             id                                            context  \\\n",
              "0     cd1339bdd  एरीजोना (English: Arizona) संयुक्त राज्य अमेरि...   \n",
              "1     4c38392a6  ஆத்திரேலியா, ஆஸ்திரேலியா அல்லது அவுஸ்திரேலியா ...   \n",
              "2     0d35dc007  अग्नि पंचम (अग्नि-५) भारत की अन्तरमहाद्वीपीय ब...   \n",
              "3     5b2018761  मदर टेरेसा (२६ अगस्त १९१० - ५ सितम्बर १९९७) जि...   \n",
              "4     4f99ce2e0  எம். ஜி. ஆர் என்ற பெயரில் புகழ் பெற்ற, மருதூர்...   \n",
              "...         ...                                                ...   \n",
              "6534        NaN  सिडनी शेल्डन (11 फरवरी,1917 - 30 जनवरी 2007) ए...   \n",
              "6535        NaN  राज्यों को काउंटियों या काउंटी-समकक्ष में विभा...   \n",
              "6536        NaN  89 वें अकादमी पुरस्कार (ऑस्कर 2017) समारोह, मो...   \n",
              "6537        NaN  डीज़ल उत्सर्जन तरल (अंग्रेजी:Diesel exhaust fl...   \n",
              "6538        NaN  गुरुत्वीय तरंगों का संसूचन (detection) आसान नह...   \n",
              "\n",
              "                                               question  \\\n",
              "0                          एरिज़ोना की राजधानी क्या है?   \n",
              "1                  அவுஸ்திரேலியா நாட்டின் தலைநகரம் எது?   \n",
              "2         अग्नि पंचम(५) मिसाइल की लम्बाई कितने मीटर है?   \n",
              "3                    मदर टेरेसा की राष्ट्रीयता क्या थी?   \n",
              "4       நடிகர் ம. கோ. இராமச்சந்திரன் எப்போது பிறந்தார்?   \n",
              "...                                                 ...   \n",
              "6534               सिडनी शेल्डन की राष्ट्रीयता क्या थी?   \n",
              "6535  अतीत में, सार्वजनिक शिक्षा और सार्वजनिक स्वास्...   \n",
              "6536              पुरस्कारों का आयोजन किस दिन किया गया?   \n",
              "6537                        डीईएफ का क्या अर्थ होता है?   \n",
              "6538                      विकृतियाँ कितनी बड़ी होती हैं?   \n",
              "\n",
              "                         answer_text  answer_start language  \n",
              "0                            फ़िनक्स           123    hindi  \n",
              "1                            கான்பரா          1472    tamil  \n",
              "2                                 17           155    hindi  \n",
              "3                             भारतीय           328    hindi  \n",
              "4                     சனவரி 17, 1917            99    tamil  \n",
              "...                              ...           ...      ...  \n",
              "6534                         अमेरिकी            48    hindi  \n",
              "6535                           राज्य           590    hindi  \n",
              "6536                  26 फरवरी, 2017           141    hindi  \n",
              "6537  (अंग्रेजी:Diesel exhaust fluid            19    hindi  \n",
              "6538                           10−21           142    hindi  \n",
              "\n",
              "[6539 rows x 6 columns]"
            ],
            "text/html": [
              "\n",
              "  <div id=\"df-65a90862-ace2-48b2-999f-c622efc75315\">\n",
              "    <div class=\"colab-df-container\">\n",
              "      <div>\n",
              "<style scoped>\n",
              "    .dataframe tbody tr th:only-of-type {\n",
              "        vertical-align: middle;\n",
              "    }\n",
              "\n",
              "    .dataframe tbody tr th {\n",
              "        vertical-align: top;\n",
              "    }\n",
              "\n",
              "    .dataframe thead th {\n",
              "        text-align: right;\n",
              "    }\n",
              "</style>\n",
              "<table border=\"1\" class=\"dataframe\">\n",
              "  <thead>\n",
              "    <tr style=\"text-align: right;\">\n",
              "      <th></th>\n",
              "      <th>id</th>\n",
              "      <th>context</th>\n",
              "      <th>question</th>\n",
              "      <th>answer_text</th>\n",
              "      <th>answer_start</th>\n",
              "      <th>language</th>\n",
              "    </tr>\n",
              "  </thead>\n",
              "  <tbody>\n",
              "    <tr>\n",
              "      <th>0</th>\n",
              "      <td>cd1339bdd</td>\n",
              "      <td>एरीजोना (English: Arizona) संयुक्त राज्य अमेरि...</td>\n",
              "      <td>एरिज़ोना की राजधानी क्या है?</td>\n",
              "      <td>फ़िनक्स</td>\n",
              "      <td>123</td>\n",
              "      <td>hindi</td>\n",
              "    </tr>\n",
              "    <tr>\n",
              "      <th>1</th>\n",
              "      <td>4c38392a6</td>\n",
              "      <td>ஆத்திரேலியா, ஆஸ்திரேலியா அல்லது அவுஸ்திரேலியா ...</td>\n",
              "      <td>அவுஸ்திரேலியா நாட்டின் தலைநகரம் எது?</td>\n",
              "      <td>கான்பரா</td>\n",
              "      <td>1472</td>\n",
              "      <td>tamil</td>\n",
              "    </tr>\n",
              "    <tr>\n",
              "      <th>2</th>\n",
              "      <td>0d35dc007</td>\n",
              "      <td>अग्नि पंचम (अग्नि-५) भारत की अन्तरमहाद्वीपीय ब...</td>\n",
              "      <td>अग्नि पंचम(५) मिसाइल की लम्बाई कितने मीटर है?</td>\n",
              "      <td>17</td>\n",
              "      <td>155</td>\n",
              "      <td>hindi</td>\n",
              "    </tr>\n",
              "    <tr>\n",
              "      <th>3</th>\n",
              "      <td>5b2018761</td>\n",
              "      <td>मदर टेरेसा (२६ अगस्त १९१० - ५ सितम्बर १९९७) जि...</td>\n",
              "      <td>मदर टेरेसा की राष्ट्रीयता क्या थी?</td>\n",
              "      <td>भारतीय</td>\n",
              "      <td>328</td>\n",
              "      <td>hindi</td>\n",
              "    </tr>\n",
              "    <tr>\n",
              "      <th>4</th>\n",
              "      <td>4f99ce2e0</td>\n",
              "      <td>எம். ஜி. ஆர் என்ற பெயரில் புகழ் பெற்ற, மருதூர்...</td>\n",
              "      <td>நடிகர் ம. கோ. இராமச்சந்திரன் எப்போது பிறந்தார்?</td>\n",
              "      <td>சனவரி 17, 1917</td>\n",
              "      <td>99</td>\n",
              "      <td>tamil</td>\n",
              "    </tr>\n",
              "    <tr>\n",
              "      <th>...</th>\n",
              "      <td>...</td>\n",
              "      <td>...</td>\n",
              "      <td>...</td>\n",
              "      <td>...</td>\n",
              "      <td>...</td>\n",
              "      <td>...</td>\n",
              "    </tr>\n",
              "    <tr>\n",
              "      <th>6534</th>\n",
              "      <td>NaN</td>\n",
              "      <td>सिडनी शेल्डन (11 फरवरी,1917 - 30 जनवरी 2007) ए...</td>\n",
              "      <td>सिडनी शेल्डन की राष्ट्रीयता क्या थी?</td>\n",
              "      <td>अमेरिकी</td>\n",
              "      <td>48</td>\n",
              "      <td>hindi</td>\n",
              "    </tr>\n",
              "    <tr>\n",
              "      <th>6535</th>\n",
              "      <td>NaN</td>\n",
              "      <td>राज्यों को काउंटियों या काउंटी-समकक्ष में विभा...</td>\n",
              "      <td>अतीत में, सार्वजनिक शिक्षा और सार्वजनिक स्वास्...</td>\n",
              "      <td>राज्य</td>\n",
              "      <td>590</td>\n",
              "      <td>hindi</td>\n",
              "    </tr>\n",
              "    <tr>\n",
              "      <th>6536</th>\n",
              "      <td>NaN</td>\n",
              "      <td>89 वें अकादमी पुरस्कार (ऑस्कर 2017) समारोह, मो...</td>\n",
              "      <td>पुरस्कारों का आयोजन किस दिन किया गया?</td>\n",
              "      <td>26 फरवरी, 2017</td>\n",
              "      <td>141</td>\n",
              "      <td>hindi</td>\n",
              "    </tr>\n",
              "    <tr>\n",
              "      <th>6537</th>\n",
              "      <td>NaN</td>\n",
              "      <td>डीज़ल उत्सर्जन तरल (अंग्रेजी:Diesel exhaust fl...</td>\n",
              "      <td>डीईएफ का क्या अर्थ होता है?</td>\n",
              "      <td>(अंग्रेजी:Diesel exhaust fluid</td>\n",
              "      <td>19</td>\n",
              "      <td>hindi</td>\n",
              "    </tr>\n",
              "    <tr>\n",
              "      <th>6538</th>\n",
              "      <td>NaN</td>\n",
              "      <td>गुरुत्वीय तरंगों का संसूचन (detection) आसान नह...</td>\n",
              "      <td>विकृतियाँ कितनी बड़ी होती हैं?</td>\n",
              "      <td>10−21</td>\n",
              "      <td>142</td>\n",
              "      <td>hindi</td>\n",
              "    </tr>\n",
              "  </tbody>\n",
              "</table>\n",
              "<p>6539 rows × 6 columns</p>\n",
              "</div>\n",
              "      <button class=\"colab-df-convert\" onclick=\"convertToInteractive('df-65a90862-ace2-48b2-999f-c622efc75315')\"\n",
              "              title=\"Convert this dataframe to an interactive table.\"\n",
              "              style=\"display:none;\">\n",
              "        \n",
              "  <svg xmlns=\"http://www.w3.org/2000/svg\" height=\"24px\"viewBox=\"0 0 24 24\"\n",
              "       width=\"24px\">\n",
              "    <path d=\"M0 0h24v24H0V0z\" fill=\"none\"/>\n",
              "    <path d=\"M18.56 5.44l.94 2.06.94-2.06 2.06-.94-2.06-.94-.94-2.06-.94 2.06-2.06.94zm-11 1L8.5 8.5l.94-2.06 2.06-.94-2.06-.94L8.5 2.5l-.94 2.06-2.06.94zm10 10l.94 2.06.94-2.06 2.06-.94-2.06-.94-.94-2.06-.94 2.06-2.06.94z\"/><path d=\"M17.41 7.96l-1.37-1.37c-.4-.4-.92-.59-1.43-.59-.52 0-1.04.2-1.43.59L10.3 9.45l-7.72 7.72c-.78.78-.78 2.05 0 2.83L4 21.41c.39.39.9.59 1.41.59.51 0 1.02-.2 1.41-.59l7.78-7.78 2.81-2.81c.8-.78.8-2.07 0-2.86zM5.41 20L4 18.59l7.72-7.72 1.47 1.35L5.41 20z\"/>\n",
              "  </svg>\n",
              "      </button>\n",
              "      \n",
              "  <style>\n",
              "    .colab-df-container {\n",
              "      display:flex;\n",
              "      flex-wrap:wrap;\n",
              "      gap: 12px;\n",
              "    }\n",
              "\n",
              "    .colab-df-convert {\n",
              "      background-color: #E8F0FE;\n",
              "      border: none;\n",
              "      border-radius: 50%;\n",
              "      cursor: pointer;\n",
              "      display: none;\n",
              "      fill: #1967D2;\n",
              "      height: 32px;\n",
              "      padding: 0 0 0 0;\n",
              "      width: 32px;\n",
              "    }\n",
              "\n",
              "    .colab-df-convert:hover {\n",
              "      background-color: #E2EBFA;\n",
              "      box-shadow: 0px 1px 2px rgba(60, 64, 67, 0.3), 0px 1px 3px 1px rgba(60, 64, 67, 0.15);\n",
              "      fill: #174EA6;\n",
              "    }\n",
              "\n",
              "    [theme=dark] .colab-df-convert {\n",
              "      background-color: #3B4455;\n",
              "      fill: #D2E3FC;\n",
              "    }\n",
              "\n",
              "    [theme=dark] .colab-df-convert:hover {\n",
              "      background-color: #434B5C;\n",
              "      box-shadow: 0px 1px 3px 1px rgba(0, 0, 0, 0.15);\n",
              "      filter: drop-shadow(0px 1px 2px rgba(0, 0, 0, 0.3));\n",
              "      fill: #FFFFFF;\n",
              "    }\n",
              "  </style>\n",
              "\n",
              "      <script>\n",
              "        const buttonEl =\n",
              "          document.querySelector('#df-65a90862-ace2-48b2-999f-c622efc75315 button.colab-df-convert');\n",
              "        buttonEl.style.display =\n",
              "          google.colab.kernel.accessAllowed ? 'block' : 'none';\n",
              "\n",
              "        async function convertToInteractive(key) {\n",
              "          const element = document.querySelector('#df-65a90862-ace2-48b2-999f-c622efc75315');\n",
              "          const dataTable =\n",
              "            await google.colab.kernel.invokeFunction('convertToInteractive',\n",
              "                                                     [key], {});\n",
              "          if (!dataTable) return;\n",
              "\n",
              "          const docLinkHtml = 'Like what you see? Visit the ' +\n",
              "            '<a target=\"_blank\" href=https://colab.research.google.com/notebooks/data_table.ipynb>data table notebook</a>'\n",
              "            + ' to learn more about interactive tables.';\n",
              "          element.innerHTML = '';\n",
              "          dataTable['output_type'] = 'display_data';\n",
              "          await google.colab.output.renderOutput(dataTable, element);\n",
              "          const docLink = document.createElement('div');\n",
              "          docLink.innerHTML = docLinkHtml;\n",
              "          element.appendChild(docLink);\n",
              "        }\n",
              "      </script>\n",
              "    </div>\n",
              "  </div>\n",
              "  "
            ]
          },
          "metadata": {},
          "execution_count": 26
        }
      ]
    },
    {
      "cell_type": "code",
      "source": [
        "# train_data = train_data.sample(frac=1, random_state = random_seed)"
      ],
      "metadata": {
        "execution": {
          "iopub.status.busy": "2021-11-13T19:55:19.763422Z",
          "iopub.execute_input": "2021-11-13T19:55:19.763906Z",
          "iopub.status.idle": "2021-11-13T19:55:19.767571Z",
          "shell.execute_reply.started": "2021-11-13T19:55:19.763867Z",
          "shell.execute_reply": "2021-11-13T19:55:19.766716Z"
        },
        "trusted": true,
        "id": "vXeqt08ItHHp"
      },
      "execution_count": null,
      "outputs": []
    },
    {
      "cell_type": "code",
      "source": [
        "#Preparation of data for training the model\n",
        "train_dataset = Dataset.from_pandas(train_data)\n",
        "valid_dataset = Dataset.from_pandas(valid_data_chai)\n",
        "train_dataset"
      ],
      "metadata": {
        "execution": {
          "iopub.status.busy": "2021-11-13T19:55:19.769109Z",
          "iopub.execute_input": "2021-11-13T19:55:19.769549Z",
          "iopub.status.idle": "2021-11-13T19:55:19.955215Z",
          "shell.execute_reply.started": "2021-11-13T19:55:19.769495Z",
          "shell.execute_reply": "2021-11-13T19:55:19.954548Z"
        },
        "trusted": true,
        "colab": {
          "base_uri": "https://localhost:8080/"
        },
        "id": "G9zVRmCZtHHp",
        "outputId": "53df6e98-f8da-4973-a35f-aa8d28182bf4"
      },
      "execution_count": null,
      "outputs": [
        {
          "output_type": "execute_result",
          "data": {
            "text/plain": [
              "Dataset({\n",
              "    features: ['id', 'context', 'question', 'answer_text', 'answer_start', 'language'],\n",
              "    num_rows: 6539\n",
              "})"
            ]
          },
          "metadata": {},
          "execution_count": 28
        }
      ]
    },
    {
      "cell_type": "code",
      "source": [
        "#  set_max_len_encd_stride() function is used to set the maximum length of input sequences to 384 and the encoding stride to 128\n",
        "max_len, encoding_stride = set_max_len_encd_stride(384, 128)\n",
        "print(max_len)\n",
        "print(encoding_stride)\n"
      ],
      "metadata": {
        "execution": {
          "iopub.status.busy": "2021-11-13T19:55:19.956483Z",
          "iopub.execute_input": "2021-11-13T19:55:19.956903Z",
          "iopub.status.idle": "2021-11-13T19:55:19.962917Z",
          "shell.execute_reply.started": "2021-11-13T19:55:19.956867Z",
          "shell.execute_reply": "2021-11-13T19:55:19.962111Z"
        },
        "trusted": true,
        "colab": {
          "base_uri": "https://localhost:8080/"
        },
        "id": "gpO4Bf8NtHHp",
        "outputId": "1e474c34-0c87-4e59-e995-58e323d26382"
      },
      "execution_count": null,
      "outputs": [
        {
          "output_type": "stream",
          "name": "stdout",
          "text": [
            "384\n",
            "128\n"
          ]
        }
      ]
    },
    {
      "cell_type": "code",
      "source": [
        "#demonstrates how to use the tokenizer object to preprocess input data for model \n",
        "#including how to customize the tokenization process by setting various parameters.\n",
        "train_encoding = tokenizer(train_dataset['question'], train_dataset['context'],\n",
        "                             truncation = 'only_second', max_length=max_len, stride = encoding_stride, \n",
        "                             return_overflowing_tokens = True, return_offsets_mapping = True,\n",
        "                             padding = 'max_length')\n",
        "valid_encoding = tokenizer(valid_dataset['question'], valid_dataset['context'],\n",
        "                             truncation = 'only_second', max_length=max_len, stride = encoding_stride, \n",
        "                             return_overflowing_tokens = True, return_offsets_mapping = True,\n",
        "                             padding = 'max_length')"
      ],
      "metadata": {
        "execution": {
          "iopub.status.busy": "2021-11-13T19:55:19.963897Z",
          "iopub.execute_input": "2021-11-13T19:55:19.964083Z",
          "iopub.status.idle": "2021-11-13T19:55:59.816015Z",
          "shell.execute_reply.started": "2021-11-13T19:55:19.964061Z",
          "shell.execute_reply": "2021-11-13T19:55:59.815260Z"
        },
        "trusted": true,
        "id": "CON3mIWqtHHq"
      },
      "execution_count": null,
      "outputs": []
    },
    {
      "cell_type": "code",
      "source": [
        "class proc_data():\n",
        "    #handle_no_answer checks if there is no answer and if it's the case, it will append the start and end positions \n",
        "    def handle_no_answer(self, data_encoding, answer_start, cls_idx):\n",
        "        if len(answer_start) == 0:\n",
        "            data_encoding['start_positions'].append(cls_idx)\n",
        "            data_encoding['end_positions'].append(cls_idx)\n",
        "            return True\n",
        "        return False\n",
        "    # method correct_tokens receives the sequence ids and returns the index of the first and last token corresponding to the answer.\n",
        "    def correct_tokens(self, seq_ids):\n",
        "        seq_ids = list(seq_ids)\n",
        "        answer_token_start_index = seq_ids.index(1)\n",
        "        seq_ids_reverse = seq_ids[::-1]\n",
        "        answer_token_end_index_reverse = seq_ids_reverse.index(1)\n",
        "        answer_token_end_index = len(seq_ids) - 1 - answer_token_end_index_reverse\n",
        "        return answer_token_start_index, answer_token_end_index\n",
        "# method update_data_encoding appends the start and end positions of the answer token to the data encoding dictionary.    \n",
        "    def update_data_encoding(self, data_encoding, start, end):\n",
        "        data_encoding['start_positions'].append(start)\n",
        "        data_encoding['end_positions'].append(end)\n",
        "        #method get_encodings receives the data encoding, data sample, tokenizer, offset mapping, and sample mapping\n",
        "    def get_encodings(self, data_encoding, data_sample, tokenizer, offset_mapping, sample_mapping):\n",
        "        for i, offsets in enumerate(offset_mapping):\n",
        "            input_ids = data_encoding['input_ids'][i]\n",
        "            seq_ids = data_encoding.sequence_ids(i)\n",
        "            sample_index = sample_mapping[i]\n",
        "            answer_start = [data_sample['answer_start'][sample_index]]\n",
        "            text = data_sample['answer_text'][sample_index]\n",
        "# handling no answe function\n",
        "            no_answer_handled = self.handle_no_answer(data_encoding, answer_start, input_ids.index(tokenizer.cls_token_id))\n",
        "            if not no_answer_handled:\n",
        "                answer_start_char_index = answer_start[0]\n",
        "                answer_end_char_index = answer_start_char_index + len(text)\n",
        "\n",
        "                answer_token_start_index, answer_token_end_index = self.correct_tokens(seq_ids)\n",
        "\n",
        "                if offsets[answer_token_start_index][0] <= answer_start_char_index and offsets[answer_token_end_index][1] >= answer_end_char_index:\n",
        "                    while offsets[answer_token_end_index][1] >= answer_end_char_index:\n",
        "                        answer_token_end_index -=1\n",
        "                    while answer_token_start_index <len(offsets) and offsets[answer_token_start_index][0] <= answer_start_char_index:\n",
        "                        answer_token_start_index +=1\n",
        "                        \n",
        "                    self.update_data_encoding(data_encoding, answer_token_start_index-1, answer_token_end_index+1)\n",
        "                else:\n",
        "                    self.handle_no_answer(data_encoding, [], input_ids.index(tokenizer.cls_token_id)) # [] is just a dummpy,  a 0 element list for the function to work correctly. change this afterwards\n",
        "        return data_encoding, offset_mapping, sample_mapping\n",
        "    # function that adds start and token positions\n",
        "    def add_start_end_token_positions(self, data_encoding, data_sample, tokenizer, train = True):\n",
        "        offset_mapping = data_encoding.pop('offset_mapping')\n",
        "        sample_mapping = data_encoding.pop(\"overflow_to_sample_mapping\")\n",
        "        if train:\n",
        "            data_encoding['start_positions'] = []\n",
        "            data_encoding['end_positions'] = []\n",
        "\n",
        "            data_encoding, offset_mapping, sample_mapping = self.get_encodings(data_encoding, data_sample, tokenizer, offset_mapping, sample_mapping)\n",
        "\n",
        "        return data_encoding, offset_mapping, sample_mapping"
      ],
      "metadata": {
        "execution": {
          "iopub.status.busy": "2021-11-13T19:55:59.817627Z",
          "iopub.execute_input": "2021-11-13T19:55:59.817868Z",
          "iopub.status.idle": "2021-11-13T19:55:59.833148Z",
          "shell.execute_reply.started": "2021-11-13T19:55:59.817836Z",
          "shell.execute_reply": "2021-11-13T19:55:59.832350Z"
        },
        "trusted": true,
        "id": "SoUJYX5gtHHq"
      },
      "execution_count": null,
      "outputs": []
    },
    {
      "cell_type": "code",
      "source": [
        " #instantiates an object of the proc_data class and assigns it to the variable proc_data_obj\n",
        "proc_data_obj = proc_data()"
      ],
      "metadata": {
        "execution": {
          "iopub.status.busy": "2021-11-13T19:55:59.834841Z",
          "iopub.execute_input": "2021-11-13T19:55:59.835414Z",
          "iopub.status.idle": "2021-11-13T19:55:59.846600Z",
          "shell.execute_reply.started": "2021-11-13T19:55:59.835375Z",
          "shell.execute_reply": "2021-11-13T19:55:59.845622Z"
        },
        "trusted": true,
        "id": "Cyv6cgaNtHHq"
      },
      "execution_count": null,
      "outputs": []
    },
    {
      "cell_type": "code",
      "source": [
        "# Traing encd_proc\n",
        "train_encd_proc, train_offset_mapping, training_sample_mapping = proc_data_obj.add_start_end_token_positions(train_encoding, train_data, tokenizer, True)\n"
      ],
      "metadata": {
        "execution": {
          "iopub.status.busy": "2021-11-13T19:55:59.849452Z",
          "iopub.execute_input": "2021-11-13T19:55:59.850172Z",
          "iopub.status.idle": "2021-11-13T19:56:01.571790Z",
          "shell.execute_reply.started": "2021-11-13T19:55:59.850132Z",
          "shell.execute_reply": "2021-11-13T19:56:01.571019Z"
        },
        "trusted": true,
        "id": "REicpCHDtHHq"
      },
      "execution_count": null,
      "outputs": []
    },
    {
      "cell_type": "code",
      "source": [
        "#valid_encd_proc\n",
        "valid_encd_proc, valid_offset_mapping, valid_sample_mapping = proc_data_obj.add_start_end_token_positions(valid_encoding, valid_data_chai, tokenizer, True)"
      ],
      "metadata": {
        "execution": {
          "iopub.status.busy": "2021-11-13T19:56:01.573110Z",
          "iopub.execute_input": "2021-11-13T19:56:01.573352Z",
          "iopub.status.idle": "2021-11-13T19:56:01.583099Z",
          "shell.execute_reply.started": "2021-11-13T19:56:01.573321Z",
          "shell.execute_reply": "2021-11-13T19:56:01.582451Z"
        },
        "trusted": true,
        "id": "yaOMFi2GtHHq"
      },
      "execution_count": null,
      "outputs": []
    },
    {
      "cell_type": "code",
      "source": [
        "#printing the start positions count\n",
        "print(len(train_encd_proc['start_positions']))\n",
        "#printing the end positions count\n",
        "print(len(train_encd_proc['end_positions']))\n",
        "#printing the input_ids count\n",
        "print(len(train_encd_proc['input_ids']))\n",
        "# print(len(train_encd_proc['attention_masks']))\n"
      ],
      "metadata": {
        "execution": {
          "iopub.status.busy": "2021-11-13T19:56:01.596938Z",
          "iopub.execute_input": "2021-11-13T19:56:01.597746Z",
          "iopub.status.idle": "2021-11-13T19:56:01.603996Z",
          "shell.execute_reply.started": "2021-11-13T19:56:01.597706Z",
          "shell.execute_reply": "2021-11-13T19:56:01.603319Z"
        },
        "trusted": true,
        "colab": {
          "base_uri": "https://localhost:8080/"
        },
        "id": "rW24-kj1tHHq",
        "outputId": "26cf6f62-452f-4fcb-8ae4-8a75045da295"
      },
      "execution_count": null,
      "outputs": [
        {
          "output_type": "stream",
          "name": "stdout",
          "text": [
            "21727\n",
            "21727\n",
            "21727\n"
          ]
        }
      ]
    },
    {
      "cell_type": "code",
      "source": [
        "# creating chai datatset class wjich takes encoding and id and returns len\n",
        "class ChaiiDataset(torch.utils.data.Dataset):\n",
        "    def __init__(self, encodings):\n",
        "        self.encodings = encodings\n",
        "\n",
        "    def __getitem__(self, idx):\n",
        "        return {key: torch.tensor(val[idx]) for key, val in self.encodings.items()}\n",
        "\n",
        "    def __len__(self):\n",
        "        return len(self.encodings.input_ids)"
      ],
      "metadata": {
        "execution": {
          "iopub.status.busy": "2021-11-13T19:56:01.605203Z",
          "iopub.execute_input": "2021-11-13T19:56:01.605582Z",
          "iopub.status.idle": "2021-11-13T19:56:01.612475Z",
          "shell.execute_reply.started": "2021-11-13T19:56:01.605547Z",
          "shell.execute_reply": "2021-11-13T19:56:01.611693Z"
        },
        "trusted": true,
        "id": "geGM-UCdtHHr"
      },
      "execution_count": null,
      "outputs": []
    },
    {
      "cell_type": "code",
      "source": [
        "# training dataset\n",
        "train_dataset_ = ChaiiDataset(train_encd_proc)\n",
        "#validation dataset\n",
        "valid_dataset_ = ChaiiDataset(valid_encd_proc)"
      ],
      "metadata": {
        "execution": {
          "iopub.status.busy": "2021-11-13T19:56:01.613971Z",
          "iopub.execute_input": "2021-11-13T19:56:01.614451Z",
          "iopub.status.idle": "2021-11-13T19:56:01.624307Z",
          "shell.execute_reply.started": "2021-11-13T19:56:01.614410Z",
          "shell.execute_reply": "2021-11-13T19:56:01.623597Z"
        },
        "trusted": true,
        "id": "eG73U3CJtHHr"
      },
      "execution_count": null,
      "outputs": []
    },
    {
      "cell_type": "code",
      "source": [
        "pip install git+https://github.com/huggingface/accelerate"
      ],
      "metadata": {
        "colab": {
          "base_uri": "https://localhost:8080/"
        },
        "id": "78_5YzqcTGd0",
        "outputId": "54f74819-f334-4d29-afc5-cfe84838323e"
      },
      "execution_count": null,
      "outputs": [
        {
          "output_type": "stream",
          "name": "stdout",
          "text": [
            "Looking in indexes: https://pypi.org/simple, https://us-python.pkg.dev/colab-wheels/public/simple/\n",
            "Collecting git+https://github.com/huggingface/accelerate\n",
            "  Cloning https://github.com/huggingface/accelerate to /tmp/pip-req-build-abqq7lyc\n",
            "  Running command git clone --filter=blob:none --quiet https://github.com/huggingface/accelerate /tmp/pip-req-build-abqq7lyc\n",
            "  Resolved https://github.com/huggingface/accelerate to commit ab379793d44be16d8fcac5c098a3ab9b6f5a7ec3\n",
            "  Installing build dependencies ... \u001b[?25l\u001b[?25hdone\n",
            "  Getting requirements to build wheel ... \u001b[?25l\u001b[?25hdone\n",
            "  Preparing metadata (pyproject.toml) ... \u001b[?25l\u001b[?25hdone\n",
            "Requirement already satisfied: numpy>=1.17 in /usr/local/lib/python3.10/dist-packages (from accelerate==0.20.0.dev0) (1.22.4)\n",
            "Requirement already satisfied: packaging>=20.0 in /usr/local/lib/python3.10/dist-packages (from accelerate==0.20.0.dev0) (23.1)\n",
            "Requirement already satisfied: psutil in /usr/local/lib/python3.10/dist-packages (from accelerate==0.20.0.dev0) (5.9.5)\n",
            "Requirement already satisfied: pyyaml in /usr/local/lib/python3.10/dist-packages (from accelerate==0.20.0.dev0) (6.0)\n",
            "Requirement already satisfied: torch>=1.6.0 in /usr/local/lib/python3.10/dist-packages (from accelerate==0.20.0.dev0) (2.0.0+cu118)\n",
            "Requirement already satisfied: filelock in /usr/local/lib/python3.10/dist-packages (from torch>=1.6.0->accelerate==0.20.0.dev0) (3.12.0)\n",
            "Requirement already satisfied: typing-extensions in /usr/local/lib/python3.10/dist-packages (from torch>=1.6.0->accelerate==0.20.0.dev0) (4.5.0)\n",
            "Requirement already satisfied: sympy in /usr/local/lib/python3.10/dist-packages (from torch>=1.6.0->accelerate==0.20.0.dev0) (1.11.1)\n",
            "Requirement already satisfied: networkx in /usr/local/lib/python3.10/dist-packages (from torch>=1.6.0->accelerate==0.20.0.dev0) (3.1)\n",
            "Requirement already satisfied: jinja2 in /usr/local/lib/python3.10/dist-packages (from torch>=1.6.0->accelerate==0.20.0.dev0) (3.1.2)\n",
            "Requirement already satisfied: triton==2.0.0 in /usr/local/lib/python3.10/dist-packages (from torch>=1.6.0->accelerate==0.20.0.dev0) (2.0.0)\n",
            "Requirement already satisfied: cmake in /usr/local/lib/python3.10/dist-packages (from triton==2.0.0->torch>=1.6.0->accelerate==0.20.0.dev0) (3.25.2)\n",
            "Requirement already satisfied: lit in /usr/local/lib/python3.10/dist-packages (from triton==2.0.0->torch>=1.6.0->accelerate==0.20.0.dev0) (16.0.3)\n",
            "Requirement already satisfied: MarkupSafe>=2.0 in /usr/local/lib/python3.10/dist-packages (from jinja2->torch>=1.6.0->accelerate==0.20.0.dev0) (2.1.2)\n",
            "Requirement already satisfied: mpmath>=0.19 in /usr/local/lib/python3.10/dist-packages (from sympy->torch>=1.6.0->accelerate==0.20.0.dev0) (1.3.0)\n",
            "Building wheels for collected packages: accelerate\n",
            "  Building wheel for accelerate (pyproject.toml) ... \u001b[?25l\u001b[?25hdone\n",
            "  Created wheel for accelerate: filename=accelerate-0.20.0.dev0-py3-none-any.whl size=222939 sha256=79dbcca23c597babd05928bc561784426c001d3279193141de563234b7923e93\n",
            "  Stored in directory: /tmp/pip-ephem-wheel-cache-oipzalgu/wheels/f6/c7/9d/1b8a5ca8353d9307733bc719107acb67acdc95063bba749f26\n",
            "Successfully built accelerate\n",
            "Installing collected packages: accelerate\n",
            "Successfully installed accelerate-0.20.0.dev0\n"
          ]
        }
      ]
    },
    {
      "cell_type": "code",
      "source": [
        "# train args passing args\n",
        "train_args = TrainingArguments(\n",
        "    output_dir='./results',          \n",
        "    per_device_train_batch_size=4,\n",
        "    per_device_eval_batch_size=4,  \n",
        "    learning_rate = 3e-5, # default 5e-5\n",
        "    gradient_accumulation_steps = 8,\n",
        "    warmup_steps=0.1,\n",
        "    weight_decay=0.01,\n",
        "    num_train_epochs = 1,\n",
        "\n",
        "  # logging_dir=logs            \n",
        "#     logging_steps=100,\n",
        "    save_strategy = 'epoch',\n",
        "    evaluation_strategy = 'epoch',\n",
        "#     eval_steps = 100,\n",
        "    save_total_limit = 1,\n",
        "    load_best_model_at_end = True,\n",
        ")"
      ],
      "metadata": {
        "execution": {
          "iopub.status.busy": "2021-11-13T19:56:01.625908Z",
          "iopub.execute_input": "2021-11-13T19:56:01.626386Z",
          "iopub.status.idle": "2021-11-13T19:56:01.639537Z",
          "shell.execute_reply.started": "2021-11-13T19:56:01.626352Z",
          "shell.execute_reply": "2021-11-13T19:56:01.638659Z"
        },
        "trusted": true,
        "colab": {
          "base_uri": "https://localhost:8080/"
        },
        "id": "sMsdecpztHHr",
        "outputId": "1835a4ea-ef78-4b43-a07a-03bedf3626f7"
      },
      "execution_count": null,
      "outputs": [
        {
          "output_type": "stream",
          "name": "stderr",
          "text": [
            "Using the `WANDB_DISABLED` environment variable is deprecated and will be removed in v5. Use the --report_to flag to control the integrations used for logging result (for instance --report_to none).\n"
          ]
        }
      ]
    },
    {
      "cell_type": "markdown",
      "source": [
        "### loading the trainer class"
      ],
      "metadata": {
        "id": "FZEJYZzqXXV6"
      }
    },
    {
      "cell_type": "code",
      "source": [
        "trainer = Trainer(\n",
        "    model=model,                         \n",
        "    args=train_args,                  \n",
        "    train_dataset=train_dataset_,         \n",
        "    eval_dataset=valid_dataset_,\n",
        "    data_collator = default_data_collator\n",
        ")"
      ],
      "metadata": {
        "execution": {
          "iopub.status.busy": "2021-11-13T19:56:01.641812Z",
          "iopub.execute_input": "2021-11-13T19:56:01.642475Z",
          "iopub.status.idle": "2021-11-13T19:56:09.209815Z",
          "shell.execute_reply.started": "2021-11-13T19:56:01.642439Z",
          "shell.execute_reply": "2021-11-13T19:56:09.209050Z"
        },
        "trusted": true,
        "id": "iRa6oVxRtHHr"
      },
      "execution_count": null,
      "outputs": []
    },
    {
      "cell_type": "markdown",
      "source": [
        "### Training the model"
      ],
      "metadata": {
        "id": "hGT-mg1-XjtD"
      }
    },
    {
      "cell_type": "code",
      "source": [
        "trainer.train()"
      ],
      "metadata": {
        "execution": {
          "iopub.status.busy": "2021-11-13T19:56:09.211053Z",
          "iopub.execute_input": "2021-11-13T19:56:09.211326Z",
          "iopub.status.idle": "2021-11-13T20:12:50.836471Z",
          "shell.execute_reply.started": "2021-11-13T19:56:09.211294Z",
          "shell.execute_reply": "2021-11-13T20:12:50.835813Z"
        },
        "trusted": true,
        "colab": {
          "base_uri": "https://localhost:8080/",
          "height": 198
        },
        "id": "JDDIVQXttHHr",
        "outputId": "6e934f0c-415f-4955-bada-5a780e864e71"
      },
      "execution_count": null,
      "outputs": [
        {
          "output_type": "stream",
          "name": "stderr",
          "text": [
            "/usr/local/lib/python3.10/dist-packages/transformers/optimization.py:391: FutureWarning: This implementation of AdamW is deprecated and will be removed in a future version. Use the PyTorch implementation torch.optim.AdamW instead, or set `no_deprecation_warning=True` to disable this warning\n",
            "  warnings.warn(\n"
          ]
        },
        {
          "output_type": "display_data",
          "data": {
            "text/plain": [
              "<IPython.core.display.HTML object>"
            ],
            "text/html": [
              "\n",
              "    <div>\n",
              "      \n",
              "      <progress value='679' max='679' style='width:300px; height:20px; vertical-align: middle;'></progress>\n",
              "      [679/679 28:54, Epoch 1/1]\n",
              "    </div>\n",
              "    <table border=\"1\" class=\"dataframe\">\n",
              "  <thead>\n",
              " <tr style=\"text-align: left;\">\n",
              "      <th>Epoch</th>\n",
              "      <th>Training Loss</th>\n",
              "      <th>Validation Loss</th>\n",
              "    </tr>\n",
              "  </thead>\n",
              "  <tbody>\n",
              "    <tr>\n",
              "      <td>1</td>\n",
              "      <td>0.824500</td>\n",
              "      <td>0.147810</td>\n",
              "    </tr>\n",
              "  </tbody>\n",
              "</table><p>"
            ]
          },
          "metadata": {}
        },
        {
          "output_type": "execute_result",
          "data": {
            "text/plain": [
              "TrainOutput(global_step=679, training_loss=0.7988492940416744, metrics={'train_runtime': 1739.3245, 'train_samples_per_second': 12.492, 'train_steps_per_second': 0.39, 'total_flos': 4257895975202304.0, 'train_loss': 0.7988492940416744, 'epoch': 1.0})"
            ]
          },
          "metadata": {},
          "execution_count": 41
        }
      ]
    },
    {
      "cell_type": "markdown",
      "source": [
        "## Testing the data"
      ],
      "metadata": {
        "id": "RlIcVeSJtHHr"
      }
    },
    {
      "cell_type": "code",
      "source": [
        "test_dataanswers=['22bf73dec',\n",
        "'282758170',\n",
        "'d60987e0e',\n",
        "'f99c770dc',\n",
        "'40dec1964']"
      ],
      "metadata": {
        "id": "2HI9D7bSi5Ju"
      },
      "execution_count": null,
      "outputs": []
    },
    {
      "cell_type": "code",
      "source": [
        "test_data =  pd.read_csv(\"/content/drive/MyDrive/nlp final project/chaii-hindi-and-tamil-question-answering/test.csv\", encoding = \"utf-8\")\n",
        "# test_data['context'] = test_data['context'].apply(lambda x: x.lstrip())\n",
        "test_data['question'] = test_data['question'].apply(lambda x: x.lstrip())\n",
        "\n",
        "test_dataset = Dataset.from_pandas(test_data)\n",
        "\n",
        "test_encoding = tokenizer(test_dataset['question'], test_dataset['context'],\n",
        "                             truncation = 'only_second', max_length=max_len, stride = encoding_stride, \n",
        "                             return_overflowing_tokens = True, return_offsets_mapping = True,\n",
        "                             padding = 'max_length')\n",
        "\n",
        "test_encd_proc, test_offset_mapping,test_sample_mapping = proc_data_obj.add_start_end_token_positions(test_encoding, test_data, tokenizer, False)\n",
        "test_dataset_encd = ChaiiDataset(test_encd_proc)"
      ],
      "metadata": {
        "execution": {
          "iopub.status.busy": "2021-11-13T20:12:50.837924Z",
          "iopub.execute_input": "2021-11-13T20:12:50.838172Z",
          "iopub.status.idle": "2021-11-13T20:12:51.080952Z",
          "shell.execute_reply.started": "2021-11-13T20:12:50.838138Z",
          "shell.execute_reply": "2021-11-13T20:12:51.080228Z"
        },
        "trusted": true,
        "id": "au-5yvw6tHHr"
      },
      "execution_count": null,
      "outputs": []
    },
    {
      "cell_type": "code",
      "source": [
        "test_data"
      ],
      "metadata": {
        "execution": {
          "iopub.status.busy": "2021-11-13T20:12:51.082272Z",
          "iopub.execute_input": "2021-11-13T20:12:51.082527Z",
          "iopub.status.idle": "2021-11-13T20:12:51.095276Z",
          "shell.execute_reply.started": "2021-11-13T20:12:51.082480Z",
          "shell.execute_reply": "2021-11-13T20:12:51.094529Z"
        },
        "trusted": true,
        "id": "rji5aUkstHHr",
        "outputId": "108de4b5-6b7d-4f87-ee92-2f995cb410ad",
        "colab": {
          "base_uri": "https://localhost:8080/",
          "height": 206
        }
      },
      "execution_count": null,
      "outputs": [
        {
          "output_type": "execute_result",
          "data": {
            "text/plain": [
              "          id                                            context  \\\n",
              "0  22bff3dec  ज्वाला गुट्टा (जन्म: 7 सितंबर 1983; वर्धा, महा...   \n",
              "1  282758170  गूगल मानचित्र (Google Maps) (पूर्व में गूगल लो...   \n",
              "2  d60987e0e  गुस्ताव रॉबर्ट किरचॉफ़ (१२ मार्च १८२४ - १७ अक्...   \n",
              "3  f99c770dc  அலுமினியம் (ஆங்கிலம்: அலுமினியம்; வட அமெரிக்க ...   \n",
              "4  40dec1964  கூட்டுறவு இயக்க வரலாறு, இங்கிலாந்து  நாட்டில் ...   \n",
              "\n",
              "                                            question language  \n",
              "0                ज्वाला गुट्टा की माँ का नाम क्या है    hindi  \n",
              "1                   गूगल मैप्स कब लॉन्च किया गया था?    hindi  \n",
              "2                  गुस्ताव किरचॉफ का जन्म कब हुआ था?    hindi  \n",
              "3                       அலுமினியத்தின் அணு எண் என்ன?    tamil  \n",
              "4  இந்தியாவில் பசுமை புரட்சியின் தந்தை என்று கருத...    tamil  "
            ],
            "text/html": [
              "\n",
              "  <div id=\"df-0432e7dc-adcf-4ca6-99ff-9f0b0f190744\">\n",
              "    <div class=\"colab-df-container\">\n",
              "      <div>\n",
              "<style scoped>\n",
              "    .dataframe tbody tr th:only-of-type {\n",
              "        vertical-align: middle;\n",
              "    }\n",
              "\n",
              "    .dataframe tbody tr th {\n",
              "        vertical-align: top;\n",
              "    }\n",
              "\n",
              "    .dataframe thead th {\n",
              "        text-align: right;\n",
              "    }\n",
              "</style>\n",
              "<table border=\"1\" class=\"dataframe\">\n",
              "  <thead>\n",
              "    <tr style=\"text-align: right;\">\n",
              "      <th></th>\n",
              "      <th>id</th>\n",
              "      <th>context</th>\n",
              "      <th>question</th>\n",
              "      <th>language</th>\n",
              "    </tr>\n",
              "  </thead>\n",
              "  <tbody>\n",
              "    <tr>\n",
              "      <th>0</th>\n",
              "      <td>22bff3dec</td>\n",
              "      <td>ज्वाला गुट्टा (जन्म: 7 सितंबर 1983; वर्धा, महा...</td>\n",
              "      <td>ज्वाला गुट्टा की माँ का नाम क्या है</td>\n",
              "      <td>hindi</td>\n",
              "    </tr>\n",
              "    <tr>\n",
              "      <th>1</th>\n",
              "      <td>282758170</td>\n",
              "      <td>गूगल मानचित्र (Google Maps) (पूर्व में गूगल लो...</td>\n",
              "      <td>गूगल मैप्स कब लॉन्च किया गया था?</td>\n",
              "      <td>hindi</td>\n",
              "    </tr>\n",
              "    <tr>\n",
              "      <th>2</th>\n",
              "      <td>d60987e0e</td>\n",
              "      <td>गुस्ताव रॉबर्ट किरचॉफ़ (१२ मार्च १८२४ - १७ अक्...</td>\n",
              "      <td>गुस्ताव किरचॉफ का जन्म कब हुआ था?</td>\n",
              "      <td>hindi</td>\n",
              "    </tr>\n",
              "    <tr>\n",
              "      <th>3</th>\n",
              "      <td>f99c770dc</td>\n",
              "      <td>அலுமினியம் (ஆங்கிலம்: அலுமினியம்; வட அமெரிக்க ...</td>\n",
              "      <td>அலுமினியத்தின் அணு எண் என்ன?</td>\n",
              "      <td>tamil</td>\n",
              "    </tr>\n",
              "    <tr>\n",
              "      <th>4</th>\n",
              "      <td>40dec1964</td>\n",
              "      <td>கூட்டுறவு இயக்க வரலாறு, இங்கிலாந்து  நாட்டில் ...</td>\n",
              "      <td>இந்தியாவில் பசுமை புரட்சியின் தந்தை என்று கருத...</td>\n",
              "      <td>tamil</td>\n",
              "    </tr>\n",
              "  </tbody>\n",
              "</table>\n",
              "</div>\n",
              "      <button class=\"colab-df-convert\" onclick=\"convertToInteractive('df-0432e7dc-adcf-4ca6-99ff-9f0b0f190744')\"\n",
              "              title=\"Convert this dataframe to an interactive table.\"\n",
              "              style=\"display:none;\">\n",
              "        \n",
              "  <svg xmlns=\"http://www.w3.org/2000/svg\" height=\"24px\"viewBox=\"0 0 24 24\"\n",
              "       width=\"24px\">\n",
              "    <path d=\"M0 0h24v24H0V0z\" fill=\"none\"/>\n",
              "    <path d=\"M18.56 5.44l.94 2.06.94-2.06 2.06-.94-2.06-.94-.94-2.06-.94 2.06-2.06.94zm-11 1L8.5 8.5l.94-2.06 2.06-.94-2.06-.94L8.5 2.5l-.94 2.06-2.06.94zm10 10l.94 2.06.94-2.06 2.06-.94-2.06-.94-.94-2.06-.94 2.06-2.06.94z\"/><path d=\"M17.41 7.96l-1.37-1.37c-.4-.4-.92-.59-1.43-.59-.52 0-1.04.2-1.43.59L10.3 9.45l-7.72 7.72c-.78.78-.78 2.05 0 2.83L4 21.41c.39.39.9.59 1.41.59.51 0 1.02-.2 1.41-.59l7.78-7.78 2.81-2.81c.8-.78.8-2.07 0-2.86zM5.41 20L4 18.59l7.72-7.72 1.47 1.35L5.41 20z\"/>\n",
              "  </svg>\n",
              "      </button>\n",
              "      \n",
              "  <style>\n",
              "    .colab-df-container {\n",
              "      display:flex;\n",
              "      flex-wrap:wrap;\n",
              "      gap: 12px;\n",
              "    }\n",
              "\n",
              "    .colab-df-convert {\n",
              "      background-color: #E8F0FE;\n",
              "      border: none;\n",
              "      border-radius: 50%;\n",
              "      cursor: pointer;\n",
              "      display: none;\n",
              "      fill: #1967D2;\n",
              "      height: 32px;\n",
              "      padding: 0 0 0 0;\n",
              "      width: 32px;\n",
              "    }\n",
              "\n",
              "    .colab-df-convert:hover {\n",
              "      background-color: #E2EBFA;\n",
              "      box-shadow: 0px 1px 2px rgba(60, 64, 67, 0.3), 0px 1px 3px 1px rgba(60, 64, 67, 0.15);\n",
              "      fill: #174EA6;\n",
              "    }\n",
              "\n",
              "    [theme=dark] .colab-df-convert {\n",
              "      background-color: #3B4455;\n",
              "      fill: #D2E3FC;\n",
              "    }\n",
              "\n",
              "    [theme=dark] .colab-df-convert:hover {\n",
              "      background-color: #434B5C;\n",
              "      box-shadow: 0px 1px 3px 1px rgba(0, 0, 0, 0.15);\n",
              "      filter: drop-shadow(0px 1px 2px rgba(0, 0, 0, 0.3));\n",
              "      fill: #FFFFFF;\n",
              "    }\n",
              "  </style>\n",
              "\n",
              "      <script>\n",
              "        const buttonEl =\n",
              "          document.querySelector('#df-0432e7dc-adcf-4ca6-99ff-9f0b0f190744 button.colab-df-convert');\n",
              "        buttonEl.style.display =\n",
              "          google.colab.kernel.accessAllowed ? 'block' : 'none';\n",
              "\n",
              "        async function convertToInteractive(key) {\n",
              "          const element = document.querySelector('#df-0432e7dc-adcf-4ca6-99ff-9f0b0f190744');\n",
              "          const dataTable =\n",
              "            await google.colab.kernel.invokeFunction('convertToInteractive',\n",
              "                                                     [key], {});\n",
              "          if (!dataTable) return;\n",
              "\n",
              "          const docLinkHtml = 'Like what you see? Visit the ' +\n",
              "            '<a target=\"_blank\" href=https://colab.research.google.com/notebooks/data_table.ipynb>data table notebook</a>'\n",
              "            + ' to learn more about interactive tables.';\n",
              "          element.innerHTML = '';\n",
              "          dataTable['output_type'] = 'display_data';\n",
              "          await google.colab.output.renderOutput(dataTable, element);\n",
              "          const docLink = document.createElement('div');\n",
              "          docLink.innerHTML = docLinkHtml;\n",
              "          element.appendChild(docLink);\n",
              "        }\n",
              "      </script>\n",
              "    </div>\n",
              "  </div>\n",
              "  "
            ]
          },
          "metadata": {},
          "execution_count": 45
        }
      ]
    },
    {
      "cell_type": "code",
      "source": [
        "test_encd_proc.keys()"
      ],
      "metadata": {
        "execution": {
          "iopub.status.busy": "2021-11-13T20:12:51.096549Z",
          "iopub.execute_input": "2021-11-13T20:12:51.096933Z",
          "iopub.status.idle": "2021-11-13T20:12:51.103622Z",
          "shell.execute_reply.started": "2021-11-13T20:12:51.096898Z",
          "shell.execute_reply": "2021-11-13T20:12:51.102771Z"
        },
        "trusted": true,
        "id": "Z7oABpTqtHHs",
        "outputId": "e8acb794-2c1f-449c-a703-8f80c67618c2",
        "colab": {
          "base_uri": "https://localhost:8080/"
        }
      },
      "execution_count": null,
      "outputs": [
        {
          "output_type": "execute_result",
          "data": {
            "text/plain": [
              "dict_keys(['input_ids', 'attention_mask'])"
            ]
          },
          "metadata": {},
          "execution_count": 47
        }
      ]
    },
    {
      "cell_type": "code",
      "source": [
        "test_encoding.keys()"
      ],
      "metadata": {
        "execution": {
          "iopub.status.busy": "2021-11-13T20:12:51.105146Z",
          "iopub.execute_input": "2021-11-13T20:12:51.105450Z",
          "iopub.status.idle": "2021-11-13T20:12:51.112636Z",
          "shell.execute_reply.started": "2021-11-13T20:12:51.105416Z",
          "shell.execute_reply": "2021-11-13T20:12:51.111699Z"
        },
        "trusted": true,
        "id": "9vd1z52dtHHs",
        "outputId": "d7919377-f0d9-4ba2-e67b-6a0ad407673c",
        "colab": {
          "base_uri": "https://localhost:8080/"
        }
      },
      "execution_count": null,
      "outputs": [
        {
          "output_type": "execute_result",
          "data": {
            "text/plain": [
              "dict_keys(['input_ids', 'attention_mask'])"
            ]
          },
          "metadata": {},
          "execution_count": 48
        }
      ]
    },
    {
      "cell_type": "code",
      "source": [
        "predictions = trainer.predict(test_dataset_encd)"
      ],
      "metadata": {
        "execution": {
          "iopub.status.busy": "2021-11-13T20:12:51.114174Z",
          "iopub.execute_input": "2021-11-13T20:12:51.114430Z",
          "iopub.status.idle": "2021-11-13T20:12:53.108289Z",
          "shell.execute_reply.started": "2021-11-13T20:12:51.114398Z",
          "shell.execute_reply": "2021-11-13T20:12:53.107558Z"
        },
        "trusted": true,
        "id": "ff-MbqCdtHHs",
        "outputId": "1b8e5812-585d-460a-c095-92a2aac72a5d",
        "colab": {
          "base_uri": "https://localhost:8080/",
          "height": 17
        }
      },
      "execution_count": null,
      "outputs": [
        {
          "output_type": "display_data",
          "data": {
            "text/plain": [
              "<IPython.core.display.HTML object>"
            ],
            "text/html": []
          },
          "metadata": {}
        }
      ]
    },
    {
      "cell_type": "markdown",
      "source": [
        "## Validset prediction"
      ],
      "metadata": {
        "id": "USbBoAI2tHHs"
      }
    },
    {
      "cell_type": "code",
      "source": [
        "valid_encoding_ = tokenizer(valid_dataset['question'], valid_dataset['context'],\n",
        "                             truncation = 'only_second', max_length=max_len, stride = encoding_stride, \n",
        "                             return_overflowing_tokens = True, return_offsets_mapping = True,\n",
        "                             padding = 'max_length')"
      ],
      "metadata": {
        "execution": {
          "iopub.status.busy": "2021-11-13T20:12:53.109542Z",
          "iopub.execute_input": "2021-11-13T20:12:53.109795Z",
          "iopub.status.idle": "2021-11-13T20:12:53.312768Z",
          "shell.execute_reply.started": "2021-11-13T20:12:53.109764Z",
          "shell.execute_reply": "2021-11-13T20:12:53.311961Z"
        },
        "trusted": true,
        "id": "KeEaJFO-tHHs"
      },
      "execution_count": null,
      "outputs": []
    },
    {
      "cell_type": "code",
      "source": [
        "valid_encoding_.keys()"
      ],
      "metadata": {
        "execution": {
          "iopub.status.busy": "2021-11-13T20:12:53.313934Z",
          "iopub.execute_input": "2021-11-13T20:12:53.314215Z",
          "iopub.status.idle": "2021-11-13T20:12:54.697277Z",
          "shell.execute_reply.started": "2021-11-13T20:12:53.314178Z",
          "shell.execute_reply": "2021-11-13T20:12:54.696458Z"
        },
        "trusted": true,
        "id": "_xvBa--qtHHs",
        "outputId": "a7c75e6f-5cee-4ce3-efc5-de5b5e9b6cbc",
        "colab": {
          "base_uri": "https://localhost:8080/"
        }
      },
      "execution_count": null,
      "outputs": [
        {
          "output_type": "execute_result",
          "data": {
            "text/plain": [
              "dict_keys(['input_ids', 'attention_mask', 'offset_mapping', 'overflow_to_sample_mapping'])"
            ]
          },
          "metadata": {},
          "execution_count": 51
        }
      ]
    },
    {
      "cell_type": "code",
      "source": [
        "valid_encd_proc_, valid_offset_mapping_,valid_sample_mapping_ = proc_data_obj.add_start_end_token_positions(valid_encoding_, valid_dataset, tokenizer, False)\n",
        "# valid_encd_proc_.pop('id')\n",
        "valid_dataset_encd = ChaiiDataset(valid_encd_proc_)"
      ],
      "metadata": {
        "execution": {
          "iopub.status.busy": "2021-11-13T20:12:54.703221Z",
          "iopub.execute_input": "2021-11-13T20:12:54.703429Z",
          "iopub.status.idle": "2021-11-13T20:12:54.707799Z",
          "shell.execute_reply.started": "2021-11-13T20:12:54.703406Z",
          "shell.execute_reply": "2021-11-13T20:12:54.706891Z"
        },
        "trusted": true,
        "id": "6otysNxmtHHs"
      },
      "execution_count": null,
      "outputs": []
    },
    {
      "cell_type": "code",
      "source": [
        "valid_encoding_.keys()"
      ],
      "metadata": {
        "execution": {
          "iopub.status.busy": "2021-11-13T20:12:54.709308Z",
          "iopub.execute_input": "2021-11-13T20:12:54.709857Z",
          "iopub.status.idle": "2021-11-13T20:12:54.718526Z",
          "shell.execute_reply.started": "2021-11-13T20:12:54.709818Z",
          "shell.execute_reply": "2021-11-13T20:12:54.717573Z"
        },
        "trusted": true,
        "id": "ii5kS11BtHHs",
        "outputId": "3917a049-70d0-45d5-d7d0-2892f78e24b8",
        "colab": {
          "base_uri": "https://localhost:8080/"
        }
      },
      "execution_count": null,
      "outputs": [
        {
          "output_type": "execute_result",
          "data": {
            "text/plain": [
              "dict_keys(['input_ids', 'attention_mask'])"
            ]
          },
          "metadata": {},
          "execution_count": 53
        }
      ]
    },
    {
      "cell_type": "code",
      "source": [
        "valid_predictions = trainer.predict(valid_dataset_encd)"
      ],
      "metadata": {
        "execution": {
          "iopub.status.busy": "2021-11-13T20:12:54.719995Z",
          "iopub.execute_input": "2021-11-13T20:12:54.720310Z",
          "iopub.status.idle": "2021-11-13T20:12:57.283251Z",
          "shell.execute_reply.started": "2021-11-13T20:12:54.720259Z",
          "shell.execute_reply": "2021-11-13T20:12:57.282416Z"
        },
        "trusted": true,
        "id": "L8KE0dkItHHt",
        "outputId": "c0cde8c9-a5aa-4ea4-d240-b65be3ef287e",
        "colab": {
          "base_uri": "https://localhost:8080/",
          "height": 17
        }
      },
      "execution_count": null,
      "outputs": [
        {
          "output_type": "display_data",
          "data": {
            "text/plain": [
              "<IPython.core.display.HTML object>"
            ],
            "text/html": []
          },
          "metadata": {}
        }
      ]
    },
    {
      "cell_type": "code",
      "source": [
        "#\n",
        "def get_default_corr_ans_dict():\n",
        "    return {\"text\": \"\", \"score\": 0.0}\n",
        "\n",
        "def get_logits_mapping(start_logits, end_logits, offset_mapping, index, check_best):\n",
        "    start_logit, end_logit, offsets = np.argsort(start_logits[index]), np.argsort(end_logits[index]), offset_mapping[index]\n",
        "    \n",
        "    return start_logit[-1 : -check_best - 1 : -1].tolist(), end_logit[-1 : -check_best - 1 : -1].tolist(), offsets, start_logits[index], end_logits[index]\n",
        "\n",
        "def post_processing(data, data_encoding, st_logits, en_logits , sample_mapping, offset_mapping, answer_length_limit = 30, check_best = 20):\n",
        "    start_logits = st_logits\n",
        "    end_logits = en_logits\n",
        "    mapping_data_index_sample = collections.defaultdict(list) # of the form [[1,2,3,4,], [5,6,7,8]]        \n",
        "    for sample_idx, data_idx in enumerate(sample_mapping):\n",
        "        mapping_data_index_sample[data_idx].append(sample_idx)\n",
        "    \n",
        "    predicted_answers = collections.OrderedDict()\n",
        "    for data_index, data_point in enumerate(data):\n",
        "        encoding_idxs = mapping_data_index_sample[data_index]\n",
        "        context = data_point['context']\n",
        "        answers = {}\n",
        "        for index in encoding_idxs:\n",
        "            assert True\n",
        "            selected_start_logits_index, selected_end_logits_index, offsets, start_logit, end_logit = get_logits_mapping(start_logits, end_logits, offset_mapping, index, check_best)\n",
        "            \n",
        "            seq_ids = data_encoding.sequence_ids(index)\n",
        "            for start in selected_start_logits_index:\n",
        "                if(start >= len(offsets) or seq_ids[start] != 1):\n",
        "                    continue\n",
        "                for end in selected_end_logits_index:\n",
        "                    if(end >= len(offsets) or seq_ids[end]!= 1 or end < start or (end-start) + 1> answer_length_limit):\n",
        "                        continue\n",
        "                    key = start_logit[start] + end_logit[end]\n",
        "                    answers[key] = context[offsets[start][0]: offsets[end][1]]\n",
        "                    \n",
        "        scores = list(answers.keys())\n",
        "        if len(scores) > 0:\n",
        "            sorted_scores = sorted(scores)\n",
        "            best_score = sorted_scores[-1]\n",
        "            best_answer = answers[best_score]\n",
        "\n",
        "        else:\n",
        "            best_answer = \"\"\n",
        "\n",
        "        predicted_answers[data_point[\"id\"]] = best_answer\n",
        "        \n",
        "    return predicted_answers"
      ],
      "metadata": {
        "execution": {
          "iopub.status.busy": "2021-11-13T20:12:57.286213Z",
          "iopub.execute_input": "2021-11-13T20:12:57.286618Z",
          "iopub.status.idle": "2021-11-13T20:12:57.299323Z",
          "shell.execute_reply.started": "2021-11-13T20:12:57.286583Z",
          "shell.execute_reply": "2021-11-13T20:12:57.298674Z"
        },
        "trusted": true,
        "id": "1218F7fJtHHt"
      },
      "execution_count": null,
      "outputs": []
    },
    {
      "cell_type": "code",
      "source": [
        "final_predictions_valid = post_processing(valid_dataset, valid_encoding_, valid_predictions.predictions[0], valid_predictions.predictions[1], valid_sample_mapping_, valid_offset_mapping_)"
      ],
      "metadata": {
        "execution": {
          "iopub.status.busy": "2021-11-13T20:12:57.300514Z",
          "iopub.execute_input": "2021-11-13T20:12:57.301359Z",
          "iopub.status.idle": "2021-11-13T20:12:57.342758Z",
          "shell.execute_reply.started": "2021-11-13T20:12:57.301321Z",
          "shell.execute_reply": "2021-11-13T20:12:57.342165Z"
        },
        "trusted": true,
        "id": "RylkdFhbtHHt"
      },
      "execution_count": null,
      "outputs": []
    },
    {
      "cell_type": "code",
      "source": [
        "valid_dataset"
      ],
      "metadata": {
        "execution": {
          "iopub.status.busy": "2021-11-13T20:12:57.344234Z",
          "iopub.execute_input": "2021-11-13T20:12:57.344703Z",
          "iopub.status.idle": "2021-11-13T20:12:57.350149Z",
          "shell.execute_reply.started": "2021-11-13T20:12:57.344669Z",
          "shell.execute_reply": "2021-11-13T20:12:57.349437Z"
        },
        "trusted": true,
        "id": "wF0F-_zVtHHt",
        "outputId": "c8a5621c-e840-4414-d86d-f8d8f6af6b1f",
        "colab": {
          "base_uri": "https://localhost:8080/"
        }
      },
      "execution_count": null,
      "outputs": [
        {
          "output_type": "execute_result",
          "data": {
            "text/plain": [
              "Dataset({\n",
              "    features: ['id', 'context', 'question', 'answer_text', 'answer_start', 'language'],\n",
              "    num_rows: 10\n",
              "})"
            ]
          },
          "metadata": {},
          "execution_count": 57
        }
      ]
    },
    {
      "cell_type": "code",
      "source": [],
      "metadata": {
        "id": "T2e9wxAgtHHt"
      },
      "execution_count": null,
      "outputs": []
    },
    {
      "cell_type": "code",
      "source": [],
      "metadata": {
        "id": "sDPFPdvOtHHt"
      },
      "execution_count": null,
      "outputs": []
    },
    {
      "cell_type": "markdown",
      "source": [
        "## Evaluation"
      ],
      "metadata": {
        "id": "idBOBCH6tHHt"
      }
    },
    {
      "cell_type": "code",
      "source": [
        "final_predictions = post_processing(test_dataset, test_encoding, predictions.predictions[0], predictions.predictions[1], test_sample_mapping, test_offset_mapping)"
      ],
      "metadata": {
        "execution": {
          "iopub.status.busy": "2021-11-13T20:12:57.351296Z",
          "iopub.execute_input": "2021-11-13T20:12:57.351811Z",
          "iopub.status.idle": "2021-11-13T20:12:57.377854Z",
          "shell.execute_reply.started": "2021-11-13T20:12:57.351773Z",
          "shell.execute_reply": "2021-11-13T20:12:57.377252Z"
        },
        "trusted": true,
        "id": "trE6Q2o1tHHt"
      },
      "execution_count": null,
      "outputs": []
    },
    {
      "cell_type": "code",
      "source": [
        "key = final_predictions.keys()"
      ],
      "metadata": {
        "execution": {
          "iopub.status.busy": "2021-11-13T20:12:57.379125Z",
          "iopub.execute_input": "2021-11-13T20:12:57.379361Z",
          "iopub.status.idle": "2021-11-13T20:12:57.382919Z",
          "shell.execute_reply.started": "2021-11-13T20:12:57.379330Z",
          "shell.execute_reply": "2021-11-13T20:12:57.382108Z"
        },
        "trusted": true,
        "id": "jiHPbzuDtHHt"
      },
      "execution_count": null,
      "outputs": []
    },
    {
      "cell_type": "code",
      "source": [
        "for k in key:\n",
        "    print((k, final_predictions[k]))"
      ],
      "metadata": {
        "execution": {
          "iopub.status.busy": "2021-11-13T20:12:57.384382Z",
          "iopub.execute_input": "2021-11-13T20:12:57.384742Z",
          "iopub.status.idle": "2021-11-13T20:12:57.393226Z",
          "shell.execute_reply.started": "2021-11-13T20:12:57.384710Z",
          "shell.execute_reply": "2021-11-13T20:12:57.392400Z"
        },
        "trusted": true,
        "id": "lpdWR8LetHHu",
        "outputId": "f8dbe2af-81fa-41c1-e911-dfb4255d853a",
        "colab": {
          "base_uri": "https://localhost:8080/"
        }
      },
      "execution_count": null,
      "outputs": [
        {
          "output_type": "stream",
          "name": "stdout",
          "text": [
            "('22bff3dec', ' येलन')\n",
            "('282758170', '\\nदिसंबर 2005')\n",
            "('d60987e0e', '१२ मार्च १८२४')\n",
            "('f99c770dc', ' 13')\n",
            "('40dec1964', 'சுவாமிநாதன் மற்றும் வர்கீஸ் குரியன்')\n"
          ]
        }
      ]
    },
    {
      "cell_type": "code",
      "source": [
        "sample = pd.read_csv('/content/drive/MyDrive/nlp final project/chaii-hindi-and-tamil-question-answering/sample_submission.csv')\n",
        "sample.columns"
      ],
      "metadata": {
        "execution": {
          "iopub.status.busy": "2021-11-13T20:12:57.394345Z",
          "iopub.execute_input": "2021-11-13T20:12:57.394699Z",
          "iopub.status.idle": "2021-11-13T20:12:57.411874Z",
          "shell.execute_reply.started": "2021-11-13T20:12:57.394664Z",
          "shell.execute_reply": "2021-11-13T20:12:57.411256Z"
        },
        "trusted": true,
        "id": "Em_TAwVztHHu",
        "outputId": "95e85d15-4cba-46f5-d03a-35b603da6f77",
        "colab": {
          "base_uri": "https://localhost:8080/"
        }
      },
      "execution_count": null,
      "outputs": [
        {
          "output_type": "execute_result",
          "data": {
            "text/plain": [
              "Index(['id', 'PredictionString'], dtype='object')"
            ]
          },
          "metadata": {},
          "execution_count": 62
        }
      ]
    },
    {
      "cell_type": "code",
      "source": [
        "\n",
        "submission = [[str(k), str(final_predictions[k])] for k in key]\n",
        "with open(\"submission.csv\", \"w\") as f:\n",
        "    writer = csv.writer(f)\n",
        "    writer.writerows(submission)\n",
        "\n",
        "sub_df = pd.read_csv('submission.csv', header = None)\n",
        "sub_df = sub_df.rename(columns={0: 'id', 1: 'PredictionString'})\n",
        "print(sub_df)\n",
        "sub_df.to_csv('submission.csv', index=None)"
      ],
      "metadata": {
        "execution": {
          "iopub.status.busy": "2021-11-13T20:12:57.413071Z",
          "iopub.execute_input": "2021-11-13T20:12:57.413316Z",
          "iopub.status.idle": "2021-11-13T20:12:57.431330Z",
          "shell.execute_reply.started": "2021-11-13T20:12:57.413286Z",
          "shell.execute_reply": "2021-11-13T20:12:57.430661Z"
        },
        "trusted": true,
        "id": "PHjgCOcGtHHu",
        "outputId": "1d9a7652-09d6-4183-e6ae-13a6d660912f",
        "colab": {
          "base_uri": "https://localhost:8080/"
        }
      },
      "execution_count": null,
      "outputs": [
        {
          "output_type": "stream",
          "name": "stdout",
          "text": [
            "          id                     PredictionString\n",
            "0  22bff3dec                                 येलन\n",
            "1  282758170                        \\nदिसंबर 2005\n",
            "2  d60987e0e                        १२ मार्च १८२४\n",
            "3  f99c770dc                                   13\n",
            "4  40dec1964  சுவாமிநாதன் மற்றும் வர்கீஸ் குரியன்\n"
          ]
        }
      ]
    },
    {
      "cell_type": "code",
      "source": [
        "!cat submission.csv"
      ],
      "metadata": {
        "execution": {
          "iopub.status.busy": "2021-11-13T20:12:57.432526Z",
          "iopub.execute_input": "2021-11-13T20:12:57.432945Z",
          "iopub.status.idle": "2021-11-13T20:12:58.393774Z",
          "shell.execute_reply.started": "2021-11-13T20:12:57.432913Z",
          "shell.execute_reply": "2021-11-13T20:12:58.392472Z"
        },
        "trusted": true,
        "id": "4nMM3biYtHHu",
        "outputId": "07dd6f54-be1b-4fd2-aed7-a03ab20378a8",
        "colab": {
          "base_uri": "https://localhost:8080/"
        }
      },
      "execution_count": null,
      "outputs": [
        {
          "output_type": "stream",
          "name": "stdout",
          "text": [
            "id,PredictionString\n",
            "22bff3dec, येलन\n",
            "282758170,\"\n",
            "दिसंबर 2005\"\n",
            "d60987e0e,१२ मार्च १८२४\n",
            "f99c770dc, 13\n",
            "40dec1964,சுவாமிநாதன் மற்றும் வர்கீஸ் குரியன்\n"
          ]
        }
      ]
    },
    {
      "cell_type": "code",
      "source": [
        "#Evaluation metrics"
      ],
      "metadata": {
        "id": "sEVRAKuEtHHu"
      },
      "execution_count": null,
      "outputs": []
    },
    {
      "cell_type": "code",
      "source": [
        "def jaccard(row): \n",
        "    str1 = row[0]\n",
        "    str2 = row[1]\n",
        "    a = set(str1.lower().split()) \n",
        "    b = set(str2.lower().split())\n",
        "    c = a.intersection(b)\n",
        "    return float(len(c)) / (len(a) + len(b) - len(c))"
      ],
      "metadata": {
        "id": "oD0v-WeAN0SX"
      },
      "execution_count": null,
      "outputs": []
    },
    {
      "cell_type": "markdown",
      "source": [
        "### F1 score"
      ],
      "metadata": {
        "id": "_XPQTbZxO_PK"
      }
    },
    {
      "cell_type": "code",
      "source": [
        "from sklearn.metrics import f1_score\n",
        "import pandas as pd\n",
        "\n",
        "# Convert the ground truth and predicted answers into lists\n",
        "ground_truth = test_dataanswers[:]\n",
        " \n",
        "\n",
        "# Read the CSV file\n",
        "df = pd.read_csv('/content/drive/MyDrive/nlp final project/chaii-hindi-and-tamil-question-answering/sample_submission.csv')\n",
        "\n",
        "# Retrieve the first column as a list\n",
        "predicted_answers = df.iloc[:, 0].tolist()\n",
        "\n",
        "# Compute the F1 score\n",
        "f1 = f1_score(ground_truth, predicted_answers, average='micro')\n",
        "print(\"F1 Score %:\", f1*100)"
      ],
      "metadata": {
        "id": "E2LJDDxDbjmH",
        "outputId": "c375ada6-6f0f-4133-d336-498e01846670",
        "colab": {
          "base_uri": "https://localhost:8080/"
        }
      },
      "execution_count": null,
      "outputs": [
        {
          "output_type": "stream",
          "name": "stdout",
          "text": [
            "F1 Score %: 80.00000000000001\n"
          ]
        }
      ]
    }
  ]
}